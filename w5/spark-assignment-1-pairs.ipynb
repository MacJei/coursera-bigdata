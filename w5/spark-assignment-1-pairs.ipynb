{
 "cells": [
  {
   "cell_type": "code",
   "execution_count": 1,
   "metadata": {},
   "outputs": [],
   "source": [
    "import re\n",
    "from pyspark import SparkConf, SparkContext\n",
    "\n",
    "sc = SparkContext(conf=SparkConf().setAppName(\"MyApp\").setMaster(\"local\"))"
   ]
  },
  {
   "cell_type": "code",
   "execution_count": 2,
   "metadata": {},
   "outputs": [],
   "source": [
    "# filter articles without word when reading file\n",
    "def wordFilter(line):\n",
    "    text = line.lower()\n",
    "    if broadcastVars.value[\"word\"] in text:\n",
    "        return text\n",
    "    return None\n",
    "\n",
    "broadcastVars = sc.broadcast({\"word\": \"narodnaya\"})\n",
    "\n",
    "wiki = sc.textFile(\"/data/wiki/en_articles_part/articles-part\").map(wordFilter).filter(lambda v: v != None )"
   ]
  },
  {
   "cell_type": "code",
   "execution_count": 3,
   "metadata": {},
   "outputs": [],
   "source": [
    "# extract searching words pair\n",
    "def extractPairs(line):\n",
    "    try:\n",
    "        article_id, text = unicode(line.strip()).split('\\t', 1)\n",
    "        text = re.sub(\"^\\W+|\\W+$\", \"\", text.lower(), flags=re.UNICODE)\n",
    "        words = re.split(\"\\W*\\s+\\W*\", text, flags=re.UNICODE)\n",
    "        \n",
    "        pair = False\n",
    "        pairs = []\n",
    "        \n",
    "        for word in words:\n",
    "            if broadcastVars.value[\"word\"] == word:\n",
    "                pair = True\n",
    "                continue\n",
    "            if pair:\n",
    "                pairs.append(broadcastVars.value[\"word\"] + \"_\" + word)\n",
    "                pair = False\n",
    "                \n",
    "        return pairs\n",
    "        \n",
    "    except ValueError as e:\n",
    "        print e\n",
    "        return []"
   ]
  },
  {
   "cell_type": "code",
   "execution_count": 4,
   "metadata": {
    "scrolled": false
   },
   "outputs": [],
   "source": [
    "result = wiki.flatMap(extractPairs).map(lambda k: (k,1)).reduceByKey(lambda x,y: x+y).collect()"
   ]
  },
  {
   "cell_type": "code",
   "execution_count": 5,
   "metadata": {},
   "outputs": [
    {
     "name": "stdout",
     "output_type": "stream",
     "text": [
      "narodnaya_gazeta 1\n",
      "narodnaya_volya 9\n"
     ]
    }
   ],
   "source": [
    "for pair in result:\n",
    "    print pair[0], pair[1]"
   ]
  }
 ],
 "metadata": {
  "kernelspec": {
   "display_name": "Python 2",
   "language": "python",
   "name": "python2"
  },
  "language_info": {
   "codemirror_mode": {
    "name": "ipython",
    "version": 2
   },
   "file_extension": ".py",
   "mimetype": "text/x-python",
   "name": "python",
   "nbconvert_exporter": "python",
   "pygments_lexer": "ipython2",
   "version": "2.7.12"
  }
 },
 "nbformat": 4,
 "nbformat_minor": 2
}
