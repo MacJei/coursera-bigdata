{
 "cells": [
  {
   "cell_type": "code",
   "execution_count": 1,
   "metadata": {},
   "outputs": [],
   "source": [
    "from pyspark import SparkConf, SparkContext\n",
    "sc = SparkContext(conf=SparkConf().setAppName(\"MyApp\").setMaster(\"local\"))"
   ]
  },
  {
   "cell_type": "code",
   "execution_count": 2,
   "metadata": {},
   "outputs": [],
   "source": [
    "import re\n",
    "\n",
    "def parse_article(line):\n",
    "    try:\n",
    "        article_id, text = unicode(line.rstrip()).split('\\t', 1)\n",
    "        text = re.sub(\"^\\W+|\\W+$\", \"\", text.lower(), flags=re.UNICODE)\n",
    "        words = re.split(\"\\W*\\s+\\W*\", text, flags=re.UNICODE)\n",
    "        return words\n",
    "    except ValueError as e:\n",
    "        return []\n"
   ]
  },
  {
   "cell_type": "code",
   "execution_count": 3,
   "metadata": {},
   "outputs": [],
   "source": [
    "wiki = sc.textFile(\"/data/wiki/en_articles_part/articles-part\", 16).map(parse_article)\n",
    "result = wiki.take(1)[0]"
   ]
  },
  {
   "cell_type": "code",
   "execution_count": 7,
   "metadata": {},
   "outputs": [
    {
     "name": "stdout",
     "output_type": "stream",
     "text": [
      "<class 'pyspark.rdd.PipelinedRDD'> <type 'list'>\n"
     ]
    }
   ],
   "source": [
    "print type(wiki), type(result)"
   ]
  },
  {
   "cell_type": "code",
   "execution_count": 12,
   "metadata": {},
   "outputs": [
    {
     "data": {
      "text/plain": [
       "4100"
      ]
     },
     "execution_count": 12,
     "metadata": {},
     "output_type": "execute_result"
    }
   ],
   "source": [
    "wiki.count()"
   ]
  },
  {
   "cell_type": "code",
   "execution_count": 5,
   "metadata": {},
   "outputs": [
    {
     "data": {
      "text/plain": [
       "10309"
      ]
     },
     "execution_count": 5,
     "metadata": {},
     "output_type": "execute_result"
    }
   ],
   "source": [
    "len(result)"
   ]
  },
  {
   "cell_type": "code",
   "execution_count": 6,
   "metadata": {},
   "outputs": [
    {
     "name": "stdout",
     "output_type": "stream",
     "text": [
      "anarchism\n",
      "anarchism\n",
      "is\n",
      "often\n",
      "defined\n"
     ]
    }
   ],
   "source": [
    "for word in result[:5]:\n",
    "    print word"
   ]
  },
  {
   "cell_type": "code",
   "execution_count": 8,
   "metadata": {},
   "outputs": [
    {
     "data": {
      "text/plain": [
       "u'http://172.172.1.2:4040'"
      ]
     },
     "execution_count": 8,
     "metadata": {},
     "output_type": "execute_result"
    }
   ],
   "source": [
    "sc.uiWebUrl"
   ]
  },
  {
   "cell_type": "code",
   "execution_count": 28,
   "metadata": {},
   "outputs": [
    {
     "name": "stdout",
     "output_type": "stream",
     "text": [
      "<type 'str'>\n"
     ]
    },
    {
     "data": {
      "text/plain": [
       "True"
      ]
     },
     "execution_count": 28,
     "metadata": {},
     "output_type": "execute_result"
    }
   ],
   "source": [
    "# define broadcast var with first word in pairs\n",
    "broadcastVars = sc.broadcast({\"word\": \"narodnaya\"})\n",
    "print type (broadcastVars.value[\"word\"])\n",
    "broadcastVars.value[\"word\"] in \" is narodnaya \""
   ]
  },
  {
   "cell_type": "code",
   "execution_count": 48,
   "metadata": {},
   "outputs": [],
   "source": [
    "# filter words when reading file\n",
    "def wordFilter(line):\n",
    "    text = line.lower()\n",
    "    if broadcastVars.value[\"word\"] in text:\n",
    "        return text\n",
    "    return \"\""
   ]
  },
  {
   "cell_type": "code",
   "execution_count": 53,
   "metadata": {},
   "outputs": [],
   "source": [
    "def notEmpty(v):\n",
    "    if len(v) == 0:\n",
    "        return False\n",
    "    return True"
   ]
  },
  {
   "cell_type": "code",
   "execution_count": 54,
   "metadata": {},
   "outputs": [
    {
     "data": {
      "text/plain": [
       "4"
      ]
     },
     "execution_count": 54,
     "metadata": {},
     "output_type": "execute_result"
    }
   ],
   "source": [
    "broadcastVars = sc.broadcast({\"word\": \"narodnaya\"})\n",
    "fwiki = sc.textFile(\"/data/wiki/en_articles_part/articles-part\").map(wordFilter).filter(notEmpty)\n",
    "fwiki.count()"
   ]
  },
  {
   "cell_type": "code",
   "execution_count": 58,
   "metadata": {},
   "outputs": [
    {
     "data": {
      "text/plain": [
       "4"
      ]
     },
     "execution_count": 58,
     "metadata": {},
     "output_type": "execute_result"
    }
   ],
   "source": [
    "ff = fwiki.take(fwiki.count())\n",
    "len([f for f in ff if f != \"\"])"
   ]
  },
  {
   "cell_type": "code",
   "execution_count": 63,
   "metadata": {},
   "outputs": [],
   "source": [
    "# filter words when reading file\n",
    "def wordFilter2(line):\n",
    "    text = line.lower()\n",
    "    if broadcastVars.value[\"word\"] in text:\n",
    "        return text"
   ]
  },
  {
   "cell_type": "code",
   "execution_count": 68,
   "metadata": {},
   "outputs": [
    {
     "data": {
      "text/plain": [
       "4"
      ]
     },
     "execution_count": 68,
     "metadata": {},
     "output_type": "execute_result"
    }
   ],
   "source": [
    "broadcastVars = sc.broadcast({\"word\": \"narodnaya\"})\n",
    "fwiki = sc.textFile(\"/data/wiki/en_articles_part/articles-part\").map(wordFilter2).filter(lambda v: v != None )\n",
    "fwiki.count()"
   ]
  },
  {
   "cell_type": "code",
   "execution_count": 106,
   "metadata": {},
   "outputs": [],
   "source": [
    "# make func that finds target word and emits docs\n",
    "# \n",
    "def extractPairs(line):\n",
    "    try:\n",
    "        print \"line:\", line\n",
    "        #article_id, text = unicode(line.strip()).split('\\t', 1)\n",
    "        article_id, text = unicode(line.strip()).split('%', 1)\n",
    "        print \"text:\", text\n",
    "\n",
    "        text = re.sub(\"^\\W+|\\W+$\", \"\", text.lower(), flags=re.UNICODE)\n",
    "        words = re.split(\"\\W*\\s+\\W*\", text, flags=re.UNICODE)\n",
    "        pair = False\n",
    "        pairs = []\n",
    "        for word in words:\n",
    "            print word\n",
    "            #if broadcastVars.value[\"word\"] == word:\n",
    "            if broadcastVars.value[\"word\"] == word:\n",
    "                pair = True\n",
    "                continue\n",
    "            if pair:\n",
    "                pairs.append([broadcastVars.value[\"word\"] + \"_\" + word,1])\n",
    "                pair = False\n",
    "        return pairs\n",
    "    except ValueError as e:\n",
    "        print e\n",
    "        return []\n"
   ]
  },
  {
   "cell_type": "code",
   "execution_count": 107,
   "metadata": {},
   "outputs": [
    {
     "name": "stdout",
     "output_type": "stream",
     "text": [
      "need more than 1 value to unpack\n"
     ]
    },
    {
     "data": {
      "text/plain": [
       "[]"
      ]
     },
     "execution_count": 107,
     "metadata": {},
     "output_type": "execute_result"
    }
   ],
   "source": [
    "s = \"111 %   Since you already have narodnaya mapper's and reducer's code you can emulate Hadoop's behavior using a simple bash:1Since you already have mapper's and narodnaya reducer's code\"\n",
    "extractPairs(s)"
   ]
  },
  {
   "cell_type": "code",
   "execution_count": 81,
   "metadata": {},
   "outputs": [
    {
     "name": "stdout",
     "output_type": "stream",
     "text": [
      "True\n"
     ]
    }
   ],
   "source": [
    "print broadcastVars.value[\"word\"] == \"narodnaya\""
   ]
  },
  {
   "cell_type": "code",
   "execution_count": 159,
   "metadata": {},
   "outputs": [],
   "source": [
    "def extractPairs2(line):\n",
    "    try:\n",
    "        #print \"line:\", line\n",
    "        article_id, text = unicode(line.strip()).split('\\t', 1)\n",
    "        #article_id, text = unicode(line.strip()).split('%', 1)\n",
    "        #print \"text:\", text\n",
    "\n",
    "        text = re.sub(\"^\\W+|\\W+$\", \"\", text.lower(), flags=re.UNICODE)\n",
    "        words = re.split(\"\\W*\\s+\\W*\", text, flags=re.UNICODE)\n",
    "        pair = False\n",
    "        pairs = []\n",
    "        for word in words:\n",
    "            #print word\n",
    "            #if broadcastVars.value[\"word\"] == word:\n",
    "            if broadcastVars.value[\"word\"] == word:\n",
    "                pair = True\n",
    "                continue\n",
    "            if pair:\n",
    "                pairs.append(broadcastVars.value[\"word\"] + \"_\" + word)\n",
    "                pair = False\n",
    "        #print \"return pairs\", pairs\n",
    "        return pairs\n",
    "    except ValueError as e:\n",
    "        print e\n",
    "        return []\n"
   ]
  },
  {
   "cell_type": "code",
   "execution_count": 160,
   "metadata": {},
   "outputs": [
    {
     "data": {
      "text/plain": [
       "[u'narodnaya_volya',\n",
       " u'narodnaya_volya',\n",
       " u'narodnaya_volya',\n",
       " u'narodnaya_volya',\n",
       " u'narodnaya_volya',\n",
       " u'narodnaya_volya',\n",
       " u'narodnaya_volya',\n",
       " u'narodnaya_volya',\n",
       " u'narodnaya_volya',\n",
       " u'narodnaya_gazeta']"
      ]
     },
     "execution_count": 160,
     "metadata": {},
     "output_type": "execute_result"
    }
   ],
   "source": [
    "keyWord = fwiki.flatMap(extractPairs2)\n",
    "keyWord.collect()"
   ]
  },
  {
   "cell_type": "code",
   "execution_count": 163,
   "metadata": {},
   "outputs": [
    {
     "data": {
      "text/plain": [
       "[(u'narodnaya_volya', 1), (u'narodnaya_volya', 1), (u'narodnaya_volya', 1)]"
      ]
     },
     "execution_count": 163,
     "metadata": {},
     "output_type": "execute_result"
    }
   ],
   "source": [
    "keyWordCount = keyWord.map(lambda k: (k,1))\n",
    "keyWordCount.take(3)"
   ]
  },
  {
   "cell_type": "code",
   "execution_count": 164,
   "metadata": {},
   "outputs": [
    {
     "data": {
      "text/plain": [
       "[(u'narodnaya_gazeta', 1), (u'narodnaya_volya', 9)]"
      ]
     },
     "execution_count": 164,
     "metadata": {},
     "output_type": "execute_result"
    }
   ],
   "source": [
    "keyWordCount.reduceByKey(lambda x,y: x+y).collect()"
   ]
  },
  {
   "cell_type": "code",
   "execution_count": 165,
   "metadata": {},
   "outputs": [],
   "source": [
    "res = keyWordCount.reduceByKey(lambda x,y: x+y).collect()"
   ]
  },
  {
   "cell_type": "code",
   "execution_count": 166,
   "metadata": {},
   "outputs": [
    {
     "name": "stdout",
     "output_type": "stream",
     "text": [
      "(u'narodnaya_gazeta', 1)\n",
      "(u'narodnaya_volya', 9)\n"
     ]
    }
   ],
   "source": [
    "for pair in res:\n",
    "    print pair"
   ]
  },
  {
   "cell_type": "code",
   "execution_count": 150,
   "metadata": {},
   "outputs": [
    {
     "data": {
      "text/plain": [
       "[(u'', 22),\n",
       " (u'text', 1),\n",
       " (u'results', 1),\n",
       " (u'symbols', 3),\n",
       " (u'grades', 1),\n",
       " (u'\"404\"', 1),\n",
       " (u'corner', 1),\n",
       " (u'submit', 1),\n",
       " (u'clicked', 1),\n",
       " (u'cycle.', 1)]"
      ]
     },
     "execution_count": 150,
     "metadata": {},
     "output_type": "execute_result"
    }
   ],
   "source": [
    "# word count\n",
    "text_file = sc.textFile(\"README.md\")\n",
    "counts = text_file.flatMap(lambda line: line.split(\" \")) \\\n",
    "             .map(lambda word: (word, 1)) \\\n",
    "             .reduceByKey(lambda a, b: a + b)\n",
    "counts.take(10)\n",
    "#counts.saveAsTextFile(\"hdfs://...\")"
   ]
  },
  {
   "cell_type": "code",
   "execution_count": 151,
   "metadata": {},
   "outputs": [
    {
     "data": {
      "text/plain": [
       "[u'', u'text', u'results', u'symbols', u'grades']"
      ]
     },
     "execution_count": 151,
     "metadata": {},
     "output_type": "execute_result"
    }
   ],
   "source": [
    "counts.keys().take(5)"
   ]
  },
  {
   "cell_type": "code",
   "execution_count": 146,
   "metadata": {},
   "outputs": [
    {
     "name": "stdout",
     "output_type": "stream",
     "text": [
      "4week-examples.ipynb  DemoNotebook.ipynb  README.md  WordPairs.ipynb\r\n"
     ]
    }
   ],
   "source": [
    "!ls"
   ]
  },
  {
   "cell_type": "code",
   "execution_count": 158,
   "metadata": {},
   "outputs": [
    {
     "data": {
      "text/plain": [
       "[[u'##', u'How', u'to', u'use', u'LTI', u'interface'],\n",
       " [u''],\n",
       " [u'While',\n",
       "  u'completing',\n",
       "  u'the',\n",
       "  u'programming',\n",
       "  u'assignment,',\n",
       "  u'you',\n",
       "  u'have',\n",
       "  u'to',\n",
       "  u'submit',\n",
       "  u'your',\n",
       "  u'assignment.',\n",
       "  u'In',\n",
       "  u'order',\n",
       "  u'to',\n",
       "  u'make',\n",
       "  u'submission,',\n",
       "  u'you',\n",
       "  u'have',\n",
       "  u'to',\n",
       "  u'create',\n",
       "  u'a',\n",
       "  u'notebook.',\n",
       "  u'When',\n",
       "  u'you',\n",
       "  u'created',\n",
       "  u'a',\n",
       "  u'Jupyter',\n",
       "  u'notebook,',\n",
       "  u'in',\n",
       "  u'the',\n",
       "  u'right',\n",
       "  u'top',\n",
       "  u'corner',\n",
       "  u'you',\n",
       "  u'could',\n",
       "  u'see',\n",
       "  u'a',\n",
       "  u'dropdown',\n",
       "  u'with',\n",
       "  u'tasks',\n",
       "  u'and',\n",
       "  u'a',\n",
       "  u'button',\n",
       "  u'\"Submit',\n",
       "  u'assignment\".',\n",
       "  u'You',\n",
       "  u'have',\n",
       "  u'to',\n",
       "  u'choose',\n",
       "  u'the',\n",
       "  u'appropriate',\n",
       "  u'task',\n",
       "  u'(the',\n",
       "  u'task',\n",
       "  u'that',\n",
       "  u'you',\n",
       "  u'have',\n",
       "  u'chosen',\n",
       "  u'from',\n",
       "  u'Coursera',\n",
       "  u'Interface)',\n",
       "  u'and',\n",
       "  u'press',\n",
       "  u'the',\n",
       "  u'blue',\n",
       "  u'button.',\n",
       "  u'']]"
      ]
     },
     "execution_count": 158,
     "metadata": {},
     "output_type": "execute_result"
    }
   ],
   "source": [
    "text_file.map(lambda line: line.split(\" \")).take(3)"
   ]
  },
  {
   "cell_type": "code",
   "execution_count": 155,
   "metadata": {},
   "outputs": [
    {
     "data": {
      "text/plain": [
       "[u'##', u'How', u'to']"
      ]
     },
     "execution_count": 155,
     "metadata": {},
     "output_type": "execute_result"
    }
   ],
   "source": [
    "text_file.flatMap(lambda line: line.split(\" \")).take(3)"
   ]
  },
  {
   "cell_type": "code",
   "execution_count": 156,
   "metadata": {},
   "outputs": [
    {
     "data": {
      "text/plain": [
       "[(u'##', 1), (u'How', 1), (u'to', 1)]"
      ]
     },
     "execution_count": 156,
     "metadata": {},
     "output_type": "execute_result"
    }
   ],
   "source": [
    "text_file.flatMap(lambda line: line.split(\" \")).map(lambda word: (word, 1)).take(3)"
   ]
  },
  {
   "cell_type": "code",
   "execution_count": 157,
   "metadata": {},
   "outputs": [
    {
     "data": {
      "text/plain": [
       "[(u'', 22), (u'text', 1), (u'results', 1)]"
      ]
     },
     "execution_count": 157,
     "metadata": {},
     "output_type": "execute_result"
    }
   ],
   "source": [
    "text_file.flatMap(lambda line: line.split(\" \")).map(lambda word: (word, 1)).reduceByKey(lambda a,b: a+b).take(3)"
   ]
  },
  {
   "cell_type": "code",
   "execution_count": null,
   "metadata": {},
   "outputs": [],
   "source": []
  }
 ],
 "metadata": {
  "kernelspec": {
   "display_name": "Python 2",
   "language": "python",
   "name": "python2"
  },
  "language_info": {
   "codemirror_mode": {
    "name": "ipython",
    "version": 2
   },
   "file_extension": ".py",
   "mimetype": "text/x-python",
   "name": "python",
   "nbconvert_exporter": "python",
   "pygments_lexer": "ipython2",
   "version": "2.7.12"
  }
 },
 "nbformat": 4,
 "nbformat_minor": 2
}
