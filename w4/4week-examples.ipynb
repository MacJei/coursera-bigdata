{
 "cells": [
  {
   "cell_type": "code",
   "execution_count": 1,
   "metadata": {},
   "outputs": [],
   "source": [
    "from pyspark import SparkConf, SparkContext\n",
    "sc = SparkContext(conf=SparkConf().setAppName(\"4weekexamples\").setMaster(\"local\"))"
   ]
  },
  {
   "cell_type": "code",
   "execution_count": 2,
   "metadata": {},
   "outputs": [
    {
     "data": {
      "text/plain": [
       "<pyspark.context.SparkContext at 0x7fc2b064f250>"
      ]
     },
     "execution_count": 2,
     "metadata": {},
     "output_type": "execute_result"
    }
   ],
   "source": [
    "sc"
   ]
  },
  {
   "cell_type": "code",
   "execution_count": 3,
   "metadata": {},
   "outputs": [
    {
     "data": {
      "text/plain": [
       "ParallelCollectionRDD[0] at parallelize at PythonRDD.scala:475"
      ]
     },
     "execution_count": 3,
     "metadata": {},
     "output_type": "execute_result"
    }
   ],
   "source": [
    "a = sc.parallelize([1,2,3,4,5])\n",
    "a"
   ]
  },
  {
   "cell_type": "code",
   "execution_count": 4,
   "metadata": {},
   "outputs": [
    {
     "data": {
      "text/plain": [
       "1"
      ]
     },
     "execution_count": 4,
     "metadata": {},
     "output_type": "execute_result"
    }
   ],
   "source": [
    "a.getNumPartitions()"
   ]
  },
  {
   "cell_type": "code",
   "execution_count": 5,
   "metadata": {},
   "outputs": [
    {
     "data": {
      "text/plain": [
       "[1, 2, 3, 4, 5]"
      ]
     },
     "execution_count": 5,
     "metadata": {},
     "output_type": "execute_result"
    }
   ],
   "source": [
    "a.collect()"
   ]
  },
  {
   "cell_type": "code",
   "execution_count": 6,
   "metadata": {},
   "outputs": [
    {
     "data": {
      "text/plain": [
       "PythonRDD[1] at RDD at PythonRDD.scala:48"
      ]
     },
     "execution_count": 6,
     "metadata": {},
     "output_type": "execute_result"
    }
   ],
   "source": [
    "b = a.map(lambda x: 2*x)\n",
    "b"
   ]
  },
  {
   "cell_type": "code",
   "execution_count": 7,
   "metadata": {},
   "outputs": [
    {
     "data": {
      "text/plain": [
       "[2, 4, 6, 8, 10]"
      ]
     },
     "execution_count": 7,
     "metadata": {},
     "output_type": "execute_result"
    }
   ],
   "source": [
    "b.collect()"
   ]
  },
  {
   "cell_type": "markdown",
   "metadata": {},
   "source": [
    "b = a.map(lambda x:(print(x), 2*x)[1])\n",
    "b"
   ]
  },
  {
   "cell_type": "code",
   "execution_count": 8,
   "metadata": {},
   "outputs": [
    {
     "name": "stdout",
     "output_type": "stream",
     "text": [
      "/home/jovyan/trades.csv\n",
      "find: ‘/etc/ssl/private’: Permission denied\n",
      "find: ‘/usr/lib/python2.7/site-packages’: Permission denied\n",
      "find: ‘/root’: Permission denied\n",
      "find: ‘/var/cache/apt/archives/partial’: Permission denied\n",
      "find: ‘/var/cache/ldconfig’: Permission denied\n",
      "/opt/conda/lib/python3.6/site-packages/pandas/tools/tests/data/trades.csv\n",
      "/opt/conda/pkgs/pandas-0.19.2-np112py36_1/lib/python3.6/site-packages/pandas/tools/tests/data/trades.csv\n",
      "find: ‘/proc/tty/driver’: Permission denied\n"
     ]
    }
   ],
   "source": [
    "!find / -name trades.csv"
   ]
  },
  {
   "cell_type": "code",
   "execution_count": 9,
   "metadata": {},
   "outputs": [
    {
     "name": "stdout",
     "output_type": "stream",
     "text": [
      "ln: failed to create symbolic link './trades.csv': File exists\r\n"
     ]
    }
   ],
   "source": [
    "!ln -s /opt/conda/lib/python3.6/site-packages/pandas/tools/tests/data/trades.csv .\n"
   ]
  },
  {
   "cell_type": "code",
   "execution_count": 10,
   "metadata": {},
   "outputs": [
    {
     "name": "stdout",
     "output_type": "stream",
     "text": [
      "20160525 13:30:00.075,AAPL,98.5500,6,ARCA\r\n",
      "20160525 13:30:00.076,AAPL,98.5600,1000,ARCA\r\n",
      "20160525 13:30:00.076,AAPL,98.5600,200,ARCA\r\n",
      "20160525 13:30:00.076,AAPL,98.5600,300,ARCA\r\n",
      "20160525 13:30:00.076,AAPL,98.5600,400,ARCA\r\n",
      "20160525 13:30:00.076,AAPL,98.5600,600,ARCA\r\n",
      "20160525 13:30:00.076,AAPL,98.5600,200,ARCA\r\n",
      "20160525 13:30:00.078,MSFT,51.9500,783,NASDAQ\r\n",
      "20160525 13:30:00.078,MSFT,51.9500,100,NASDAQ\r\n",
      "20160525 13:30:00.078,MSFT,51.9500,100,NASDAQ\r\n"
     ]
    }
   ],
   "source": [
    "!tail trades.csv"
   ]
  },
  {
   "cell_type": "code",
   "execution_count": 11,
   "metadata": {},
   "outputs": [
    {
     "name": "stdout",
     "output_type": "stream",
     "text": [
      "Overwriting nasdaq.csv\n"
     ]
    }
   ],
   "source": [
    "%%writefile nasdaq.csv\n",
    "2018-12-20,100.629997,118.889999,99.750000,116.430000,116.430000,197572100\n",
    "2018-12-21,116.430000,120.739998,106.879997,109.440002,109.440002,154860116\n",
    "2018-12-22,109.440002,118.550003,107.239998,118.360001,118.360001,82462315\n",
    "2018-12-23,118.360001,135.880005,118.320000,131.559998,131.559998,180742349\n",
    "2018-12-24,131.559998,161.250000,131.529999,140.869995,140.869995,385949928\n",
    "2018-12-25,140.869995,141.839996,124.029999,130.990005,130.990005,225626016\n",
    "2018-12-26,130.990005,139.179993,125.680000,132.610001,132.610001,150956263\n",
    "2018-12-27,132.610001,133.940002,114.669998,116.720001,116.720001,162270992\n",
    "2018-12-28,116.720001,141.130005,115.349998,139.729996,139.729996,198667294\n",
    "2018-12-29,139.729996,150.199997,134.380005,137.300003,137.300003,182863669\n",
    "2018-12-30,137.300003,142.690002,131.979996,141.330002,141.330002,120392187\n",
    "2018-12-31,141.330002,141.839996,130.820007,133.490005,133.490005,99751118\n",
    "2019-01-01,133.490005,144.250000,132.309998,142.660004,142.660004,99694138\n",
    "2019-01-02,142.660004,160.039993,141.600006,156.570007,156.570007,165620342\n",
    "2019-01-03,156.570007,157.660004,144.580002,149.440002,149.440002,121609753\n",
    "2019-01-04,149.440002,158.800003,147.320007,156.039993,156.039993,161910054\n",
    "2019-01-05,156.039993,163.630005,154.699997,156.229996,156.229996,152585957\n",
    "2019-01-06,156.229996,163.110001,150.490005,158.610001,158.610001,146912818\n",
    "2019-01-07,158.610001,160.190002,150.179993,152.089996,152.089996,94643450\n",
    "2019-01-08,152.089996,155.130005,147.759995,151.100006,151.100006,109964654\n",
    "2019-01-09,151.100006,157.820007,150.050003,151.169998,151.169998,86228877\n",
    "2019-01-10,151.169998,152.750000,124.070000,127.959999,127.959999,197435643\n",
    "2019-01-11,127.959999,130.070007,123.099998,127.160004,127.160004,85532867\n",
    "2019-01-12,127.160004,128.520004,124.660004,125.830002,125.830002,42944230\n",
    "2019-01-13,125.830002,126.449997,114.750000,116.559998,116.559998,77318828\n",
    "2019-01-14,116.559998,132.779999,116.489998,129.740005,129.740005,110822478\n",
    "2019-01-15,129.740005,131.759995,118.190002,121.220001,121.220001,109930872\n",
    "2019-01-16,121.220001,128.970001,120.419998,123.120003,123.120003,89667659\n",
    "2019-01-17,123.120003,124.970001,118.330002,123.720001,123.720001,77554773\n",
    "2019-01-18,123.720001,124.040001,119.389999,120.570000,120.570000,47693982\n",
    "2019-01-19,120.570000,128.660004,120.570000,124.849998,124.849998,70412517\n",
    "2019-01-20,124.820000,125.459999,112.959999,118.849998,118.849998,55612364"
   ]
  },
  {
   "cell_type": "code",
   "execution_count": 12,
   "metadata": {},
   "outputs": [
    {
     "name": "stdout",
     "output_type": "stream",
     "text": [
      "  31   32 2417 nasdaq.csv\r\n"
     ]
    }
   ],
   "source": [
    "!wc nasdaq.csv"
   ]
  },
  {
   "cell_type": "code",
   "execution_count": 13,
   "metadata": {},
   "outputs": [
    {
     "data": {
      "text/plain": [
       "nasdaq.csv MapPartitionsRDD[3] at textFile at NativeMethodAccessorImpl.java:0"
      ]
     },
     "execution_count": 13,
     "metadata": {},
     "output_type": "execute_result"
    }
   ],
   "source": [
    "raw_data = sc.textFile(\"nasdaq.csv\")\n",
    "raw_data"
   ]
  },
  {
   "cell_type": "code",
   "execution_count": 14,
   "metadata": {},
   "outputs": [
    {
     "data": {
      "text/plain": [
       "[u'2018-12-20,100.629997,118.889999,99.750000,116.430000,116.430000,197572100',\n",
       " u'2018-12-21,116.430000,120.739998,106.879997,109.440002,109.440002,154860116',\n",
       " u'2018-12-22,109.440002,118.550003,107.239998,118.360001,118.360001,82462315']"
      ]
     },
     "execution_count": 14,
     "metadata": {},
     "output_type": "execute_result"
    }
   ],
   "source": [
    "raw_data.take(3)"
   ]
  },
  {
   "cell_type": "code",
   "execution_count": 15,
   "metadata": {},
   "outputs": [],
   "source": [
    "from collections import namedtuple\n",
    "Record = namedtuple(\"Record\",[\"date\",\"open\",\"high\",\"low\",\"close\",\"adj_close\",\"volume\"])"
   ]
  },
  {
   "cell_type": "code",
   "execution_count": 16,
   "metadata": {},
   "outputs": [],
   "source": [
    "def parse_record(s):\n",
    "    fields = s.split(\",\")\n",
    "    #return Record(fields[0], *map(float,fields[1:6]),int(fields[6]))\n",
    "    return Record(fields[0], float(fields[1]), float(fields[2]),float(fields[3]),\n",
    "                  float(fields[4]),float(fields[5]),int(fields[6]))"
   ]
  },
  {
   "cell_type": "code",
   "execution_count": 17,
   "metadata": {},
   "outputs": [
    {
     "data": {
      "text/plain": [
       "[Record(date=u'2018-12-20', open=100.629997, high=118.889999, low=99.75, close=116.43, adj_close=116.43, volume=197572100)]"
      ]
     },
     "execution_count": 17,
     "metadata": {},
     "output_type": "execute_result"
    }
   ],
   "source": [
    "parsed_data = raw_data.map(parse_record)\n",
    "parsed_data.take(1)"
   ]
  },
  {
   "cell_type": "code",
   "execution_count": 18,
   "metadata": {},
   "outputs": [],
   "source": [
    "parsed_data = sc.textFile(\"nasdaq.csv\").map(parse_record).cache()"
   ]
  },
  {
   "cell_type": "code",
   "execution_count": 19,
   "metadata": {},
   "outputs": [
    {
     "data": {
      "text/plain": [
       "[Record(date=u'2018-12-20', open=100.629997, high=118.889999, low=99.75, close=116.43, adj_close=116.43, volume=197572100)]"
      ]
     },
     "execution_count": 19,
     "metadata": {},
     "output_type": "execute_result"
    }
   ],
   "source": [
    "parsed_data.take(1)"
   ]
  },
  {
   "cell_type": "code",
   "execution_count": 20,
   "metadata": {},
   "outputs": [
    {
     "data": {
      "text/plain": [
       "u'2018-12-20'"
      ]
     },
     "execution_count": 20,
     "metadata": {},
     "output_type": "execute_result"
    }
   ],
   "source": [
    "parsed_data.map(lambda x: x.date).min()"
   ]
  },
  {
   "cell_type": "code",
   "execution_count": 21,
   "metadata": {},
   "outputs": [
    {
     "data": {
      "text/plain": [
       "u'2019-01-20'"
      ]
     },
     "execution_count": 21,
     "metadata": {},
     "output_type": "execute_result"
    }
   ],
   "source": [
    "parsed_data.map(lambda x: x.date).max()"
   ]
  },
  {
   "cell_type": "code",
   "execution_count": 22,
   "metadata": {},
   "outputs": [
    {
     "data": {
      "text/plain": [
       "4246210603"
      ]
     },
     "execution_count": 22,
     "metadata": {},
     "output_type": "execute_result"
    }
   ],
   "source": [
    "parsed_data.map(lambda x: x.volume).sum()"
   ]
  },
  {
   "cell_type": "code",
   "execution_count": 23,
   "metadata": {},
   "outputs": [
    {
     "data": {
      "text/plain": [
       "[(u'2018-12',\n",
       "  Record(date=u'2018-12-20', open=100.629997, high=118.889999, low=99.75, close=116.43, adj_close=116.43, volume=197572100)),\n",
       " (u'2018-12',\n",
       "  Record(date=u'2018-12-21', open=116.43, high=120.739998, low=106.879997, close=109.440002, adj_close=109.440002, volume=154860116)),\n",
       " (u'2018-12',\n",
       "  Record(date=u'2018-12-22', open=109.440002, high=118.550003, low=107.239998, close=118.360001, adj_close=118.360001, volume=82462315))]"
      ]
     },
     "execution_count": 23,
     "metadata": {},
     "output_type": "execute_result"
    }
   ],
   "source": [
    "with_month_data = parsed_data.map(lambda x: (x.date[:7],x))\n",
    "with_month_data.take(3)"
   ]
  },
  {
   "cell_type": "code",
   "execution_count": 24,
   "metadata": {},
   "outputs": [
    {
     "data": {
      "text/plain": [
       "[(u'2018-12', 197572100), (u'2018-12', 154860116), (u'2018-12', 82462315)]"
      ]
     },
     "execution_count": 24,
     "metadata": {},
     "output_type": "execute_result"
    }
   ],
   "source": [
    "by_month_data = with_month_data.mapValues(lambda x: x.volume)\n",
    "by_month_data.take(3)"
   ]
  },
  {
   "cell_type": "code",
   "execution_count": 25,
   "metadata": {},
   "outputs": [
    {
     "data": {
      "text/plain": [
       "[(u'2019-01', 2104096256), (u'2018-12', 2142114347)]"
      ]
     },
     "execution_count": 25,
     "metadata": {},
     "output_type": "execute_result"
    }
   ],
   "source": [
    "by_month_data = by_month_data.reduceByKey(lambda x,y: x+y) # in fact: mapper(key_first_col) then reduce(key,val[]) with lambda function\n",
    "by_month_data.take(3)"
   ]
  },
  {
   "cell_type": "code",
   "execution_count": 26,
   "metadata": {},
   "outputs": [],
   "source": [
    "result_data = by_month_data.map(lambda t: \",\".join(map(str,t)))"
   ]
  },
  {
   "cell_type": "code",
   "execution_count": 27,
   "metadata": {},
   "outputs": [
    {
     "data": {
      "text/plain": [
       "['2019-01,2104096256', '2018-12,2142114347']"
      ]
     },
     "execution_count": 27,
     "metadata": {},
     "output_type": "execute_result"
    }
   ],
   "source": [
    "result_data.take(3) # convert to csv"
   ]
  },
  {
   "cell_type": "code",
   "execution_count": 28,
   "metadata": {},
   "outputs": [],
   "source": [
    "!rm -r out"
   ]
  },
  {
   "cell_type": "code",
   "execution_count": 29,
   "metadata": {},
   "outputs": [],
   "source": [
    "result_data.saveAsTextFile(\"out\")"
   ]
  },
  {
   "cell_type": "code",
   "execution_count": 30,
   "metadata": {},
   "outputs": [
    {
     "name": "stdout",
     "output_type": "stream",
     "text": [
      "out/part-00000\tout/_SUCCESS\r\n"
     ]
    }
   ],
   "source": [
    "!ls out/*"
   ]
  },
  {
   "cell_type": "code",
   "execution_count": 31,
   "metadata": {},
   "outputs": [
    {
     "name": "stdout",
     "output_type": "stream",
     "text": [
      "2019-01,2104096256\r\n",
      "2018-12,2142114347\r\n"
     ]
    }
   ],
   "source": [
    "!cat out/*"
   ]
  },
  {
   "cell_type": "code",
   "execution_count": 32,
   "metadata": {},
   "outputs": [
    {
     "data": {
      "text/plain": [
       "[(u'2018-12', 2142114347), (u'2019-01', 2104096256)]"
      ]
     },
     "execution_count": 32,
     "metadata": {},
     "output_type": "execute_result"
    }
   ],
   "source": [
    "# largest data\n",
    "by_month_data.top(3, lambda x: x[1])"
   ]
  },
  {
   "cell_type": "code",
   "execution_count": 33,
   "metadata": {},
   "outputs": [
    {
     "data": {
      "text/plain": [
       "1"
      ]
     },
     "execution_count": 33,
     "metadata": {},
     "output_type": "execute_result"
    }
   ],
   "source": [
    "result_data.getNumPartitions()"
   ]
  },
  {
   "cell_type": "raw",
   "metadata": {},
   "source": [
    "result_data.repartition(2)"
   ]
  },
  {
   "cell_type": "code",
   "execution_count": 34,
   "metadata": {},
   "outputs": [
    {
     "data": {
      "text/plain": [
       "1"
      ]
     },
     "execution_count": 34,
     "metadata": {},
     "output_type": "execute_result"
    }
   ],
   "source": [
    "result_data.getNumPartitions()"
   ]
  },
  {
   "cell_type": "code",
   "execution_count": 35,
   "metadata": {},
   "outputs": [
    {
     "data": {
      "text/plain": [
       "[(u'2018-12-20', 116.43),\n",
       " (u'2018-12-21', 109.440002),\n",
       " (u'2018-12-22', 118.360001)]"
      ]
     },
     "execution_count": 35,
     "metadata": {},
     "output_type": "execute_result"
    }
   ],
   "source": [
    "# make second keyed dataset\n",
    "date_and_close_price = parsed_data.map(lambda r: (r.date, r.close))\n",
    "date_and_close_price.take(3)"
   ]
  },
  {
   "cell_type": "code",
   "execution_count": 36,
   "metadata": {},
   "outputs": [
    {
     "data": {
      "text/plain": [
       "'2018-12-21'"
      ]
     },
     "execution_count": 36,
     "metadata": {},
     "output_type": "execute_result"
    }
   ],
   "source": [
    "# func to next day\n",
    "from datetime import datetime, timedelta\n",
    "def get_next_date(s):\n",
    "    fmt = \"%Y-%m-%d\"\n",
    "    return (datetime.strptime(s, fmt) + timedelta(days=1)).strftime(fmt)\n",
    "get_next_date(\"2018-12-20\")"
   ]
  },
  {
   "cell_type": "code",
   "execution_count": 37,
   "metadata": {},
   "outputs": [
    {
     "data": {
      "text/plain": [
       "[('2018-12-21', 116.43),\n",
       " ('2018-12-22', 109.440002),\n",
       " ('2018-12-23', 118.360001)]"
      ]
     },
     "execution_count": 37,
     "metadata": {},
     "output_type": "execute_result"
    }
   ],
   "source": [
    "date_and_prev_close_price= parsed_data.map(lambda r: (get_next_date(r.date), r.close))\n",
    "date_and_prev_close_price.take(3)"
   ]
  },
  {
   "cell_type": "code",
   "execution_count": 38,
   "metadata": {},
   "outputs": [
    {
     "data": {
      "text/plain": [
       "[(118.360001, 109.440002)]"
      ]
     },
     "execution_count": 38,
     "metadata": {},
     "output_type": "execute_result"
    }
   ],
   "source": [
    "# inner join of two RDD\n",
    "joined = date_and_close_price.join(date_and_prev_close_price)\n",
    "joined.lookup(\"2018-12-22\")\n"
   ]
  },
  {
   "cell_type": "code",
   "execution_count": 39,
   "metadata": {},
   "outputs": [
    {
     "data": {
      "text/plain": [
       "[(109.440002, 116.43)]"
      ]
     },
     "execution_count": 39,
     "metadata": {},
     "output_type": "execute_result"
    }
   ],
   "source": [
    "joined.lookup(\"2018-12-21\")"
   ]
  },
  {
   "cell_type": "code",
   "execution_count": 40,
   "metadata": {},
   "outputs": [
    {
     "data": {
      "text/plain": [
       "[]"
      ]
     },
     "execution_count": 40,
     "metadata": {},
     "output_type": "execute_result"
    }
   ],
   "source": [
    "joined.lookup(\"2018-12-20\")"
   ]
  },
  {
   "cell_type": "code",
   "execution_count": 41,
   "metadata": {},
   "outputs": [
    {
     "data": {
      "text/plain": [
       "[11.152413728012744]"
      ]
     },
     "execution_count": 41,
     "metadata": {},
     "output_type": "execute_result"
    }
   ],
   "source": [
    "returns = joined.mapValues(lambda p: (p[0]/p[1] - 1.0)*100.0)\n",
    "returns.lookup(\"2018-12-23\")"
   ]
  },
  {
   "cell_type": "code",
   "execution_count": 42,
   "metadata": {},
   "outputs": [
    {
     "data": {
      "text/plain": [
       "[(u'2019-01-03', -4.553876656593625),\n",
       " (u'2019-01-01', 6.869427415183615),\n",
       " (u'2019-01-18', -2.546072562673196),\n",
       " (u'2018-12-26', 1.2367325277986119),\n",
       " (u'2019-01-05', 0.12176557839245206)]"
      ]
     },
     "execution_count": 42,
     "metadata": {},
     "output_type": "execute_result"
    }
   ],
   "source": [
    "returns.take(5)"
   ]
  },
  {
   "cell_type": "code",
   "execution_count": 43,
   "metadata": {},
   "outputs": [
    {
     "data": {
      "text/plain": [
       "[(116.43, None)]"
      ]
     },
     "execution_count": 43,
     "metadata": {},
     "output_type": "execute_result"
    }
   ],
   "source": [
    "joined_left = date_and_close_price.leftOuterJoin(date_and_prev_close_price)\n",
    "joined_left.lookup(\"2018-12-20\")"
   ]
  },
  {
   "cell_type": "code",
   "execution_count": 44,
   "metadata": {},
   "outputs": [
    {
     "data": {
      "text/plain": [
       "[(None, 118.849998)]"
      ]
     },
     "execution_count": 44,
     "metadata": {},
     "output_type": "execute_result"
    }
   ],
   "source": [
    "joined_right = date_and_close_price.rightOuterJoin(date_and_prev_close_price)\n",
    "joined_right.lookup(\"2019-01-21\")"
   ]
  },
  {
   "cell_type": "code",
   "execution_count": 45,
   "metadata": {},
   "outputs": [
    {
     "data": {
      "text/plain": [
       "[(118.849998, 124.849998)]"
      ]
     },
     "execution_count": 45,
     "metadata": {},
     "output_type": "execute_result"
    }
   ],
   "source": [
    "joined_right.lookup(\"2019-01-20\")"
   ]
  },
  {
   "cell_type": "code",
   "execution_count": 46,
   "metadata": {},
   "outputs": [
    {
     "data": {
      "text/plain": [
       "[(None, 118.849998)]"
      ]
     },
     "execution_count": 46,
     "metadata": {},
     "output_type": "execute_result"
    }
   ],
   "source": [
    "joined_full = date_and_close_price.fullOuterJoin(date_and_prev_close_price)\n",
    "joined_full.lookup(\"2019-01-21\")"
   ]
  },
  {
   "cell_type": "code",
   "execution_count": 47,
   "metadata": {},
   "outputs": [
    {
     "data": {
      "text/plain": [
       "[(116.43, None)]"
      ]
     },
     "execution_count": 47,
     "metadata": {},
     "output_type": "execute_result"
    }
   ],
   "source": [
    "joined_full.lookup(\"2018-12-20\")"
   ]
  },
  {
   "cell_type": "code",
   "execution_count": 48,
   "metadata": {},
   "outputs": [
    {
     "data": {
      "text/plain": [
       "Accumulator<id=0, value=0.0>"
      ]
     },
     "execution_count": 48,
     "metadata": {},
     "output_type": "execute_result"
    }
   ],
   "source": [
    "# accumulator\n",
    "import time\n",
    "import random\n",
    "\n",
    "def super_regressor(v):\n",
    "    time.sleep(random.random()/1000.0)\n",
    "    return 0.5*((v-1910949928.057554)/284610509.115)**2.0\n",
    "\n",
    "time_spent = sc.accumulator(0.0)\n",
    "time_spent"
   ]
  },
  {
   "cell_type": "code",
   "execution_count": 49,
   "metadata": {},
   "outputs": [],
   "source": [
    "# special func\n",
    "def timed_super_regressor(v):\n",
    "    before = time.time()\n",
    "    result = super_regressor(v)\n",
    "    after = time.time()\n",
    "    time_spent.add(after-before)\n",
    "    return result\n",
    "\n",
    "estimates = parsed_data.map(lambda r: timed_super_regressor(r.volume)).collect()"
   ]
  },
  {
   "cell_type": "code",
   "execution_count": 50,
   "metadata": {},
   "outputs": [
    {
     "data": {
      "text/plain": [
       "0.015496253967285156"
      ]
     },
     "execution_count": 50,
     "metadata": {},
     "output_type": "execute_result"
    }
   ],
   "source": [
    "time_spent.value"
   ]
  },
  {
   "cell_type": "code",
   "execution_count": 51,
   "metadata": {},
   "outputs": [],
   "source": [
    "# accomulator to max write latency\n",
    "from pyspark import AccumulatorParam\n",
    "\n",
    "class MaxAccumulatorParam(AccumulatorParam):\n",
    "    def zero(self, initial_value):\n",
    "        return initial_value\n",
    "    def addInPlace(self,  accumulator, delta):\n",
    "        return max(accumulator, delta)"
   ]
  },
  {
   "cell_type": "code",
   "execution_count": 52,
   "metadata": {},
   "outputs": [],
   "source": [
    "time_persist = sc.accumulator(0.0, MaxAccumulatorParam())"
   ]
  },
  {
   "cell_type": "code",
   "execution_count": 53,
   "metadata": {},
   "outputs": [],
   "source": [
    "# custom class\n",
    "def persist_to_external_storage(iterable):\n",
    "    for record in iterable:\n",
    "        before = time.time()\n",
    "        time.sleep(random.random()/1000.0) # emulation to write\n",
    "        after = time.time()\n",
    "        time_persist.add(after - before)\n",
    "        \n"
   ]
  },
  {
   "cell_type": "code",
   "execution_count": 56,
   "metadata": {},
   "outputs": [],
   "source": [
    "# function for every partition\n",
    "parsed_data.foreachPartition(persist_to_external_storage)"
   ]
  },
  {
   "cell_type": "code",
   "execution_count": 57,
   "metadata": {},
   "outputs": [
    {
     "data": {
      "text/plain": [
       "0.0010600090026855469"
      ]
     },
     "execution_count": 57,
     "metadata": {},
     "output_type": "execute_result"
    }
   ],
   "source": [
    "time_persist.value"
   ]
  },
  {
   "cell_type": "code",
   "execution_count": 58,
   "metadata": {},
   "outputs": [],
   "source": [
    "# broadcast variables\n",
    "params = sc.broadcast({\"mu\": 1910949928.057554, \"sigma\":  284610509.115})\n",
    "\n",
    "def super_regressor2(v):\n",
    "    time.sleep(random.random()/1000.0)\n",
    "    return 0.5*((v-params.value[\"mu\"]/params.value[\"sigma\"])) ** 2.0"
   ]
  },
  {
   "cell_type": "code",
   "execution_count": 60,
   "metadata": {},
   "outputs": [
    {
     "data": {
      "text/plain": [
       "[7.447867087023312e+16,\n",
       " 2.545354803310365e+16,\n",
       " 1.9734345518736696e+16,\n",
       " 1.95173660226539e+16,\n",
       " 1.949041523777683e+16,\n",
       " 1.6719559492275962e+16,\n",
       " 1.6333897147467182e+16,\n",
       " 1.3715047730079902e+16,\n",
       " 1.316593633280187e+16,\n",
       " 1.310743170603473e+16]"
      ]
     },
     "execution_count": 60,
     "metadata": {},
     "output_type": "execute_result"
    }
   ],
   "source": [
    "parsed_data.map(lambda x: super_regressor2(x.volume)).top(10)"
   ]
  },
  {
   "cell_type": "code",
   "execution_count": 61,
   "metadata": {},
   "outputs": [
    {
     "data": {
      "text/plain": [
       "u'http://172.172.1.2:4040'"
      ]
     },
     "execution_count": 61,
     "metadata": {},
     "output_type": "execute_result"
    }
   ],
   "source": [
    "sc.uiWebUrl"
   ]
  },
  {
   "cell_type": "code",
   "execution_count": null,
   "metadata": {},
   "outputs": [],
   "source": []
  }
 ],
 "metadata": {
  "kernelspec": {
   "display_name": "Python 2",
   "language": "python",
   "name": "python2"
  },
  "language_info": {
   "codemirror_mode": {
    "name": "ipython",
    "version": 2
   },
   "file_extension": ".py",
   "mimetype": "text/x-python",
   "name": "python",
   "nbconvert_exporter": "python",
   "pygments_lexer": "ipython2",
   "version": "2.7.12"
  }
 },
 "nbformat": 4,
 "nbformat_minor": 2
}
