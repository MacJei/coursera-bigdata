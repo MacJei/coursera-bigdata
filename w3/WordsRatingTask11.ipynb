{
 "cells": [
  {
   "cell_type": "markdown",
   "metadata": {
    "colab_type": "text",
    "id": "Ebk-YqgqEOw1"
   },
   "source": [
    "# Hadoop Streaming assignment 1: Words Rating"
   ]
  },
  {
   "cell_type": "markdown",
   "metadata": {
    "colab_type": "text",
    "id": "XDLjl7hGEOw2"
   },
   "source": [
    "The purpose of this task is to create your own WordCount program for Wikipedia dump processing and learn basic concepts of the MapReduce.\n",
    "\n",
    "In this task you have to find the 7th word by popularity and its quantity in the reverse order (most popular first) in Wikipedia data (`/data/wiki/en_articles_part`).\n",
    "\n",
    "There are several points for this task:\n",
    "\n",
    "1) As an output, you have to get the 7th word and its quantity separated by a tab character.\n",
    "\n",
    "2) You must use the second job to obtain a totally ordered result.\n",
    "\n",
    "3) Do not forget to redirect all trash and output to /dev/null.\n",
    "\n",
    "Here you can find the draft of the task main steps. You can use other methods for solution obtaining."
   ]
  },
  {
   "cell_type": "markdown",
   "metadata": {
    "colab_type": "text",
    "id": "lIUikVIDEOw2"
   },
   "source": [
    "## Step 1. Create mapper and reducer.\n",
    "\n",
    "<b>Hint:</b>  Demo task contains almost all the necessary pieces to complete this assignment. You may use the demo to implement the first MapReduce Job."
   ]
  },
  {
   "cell_type": "code",
   "execution_count": 1,
   "metadata": {
    "colab": {
     "autoexec": {
      "startup": false,
      "wait_interval": 0
     }
    },
    "colab_type": "code",
    "id": "A7T5mxDwEOw4"
   },
   "outputs": [
    {
     "name": "stdout",
     "output_type": "stream",
     "text": [
      "Writing mapper1.py\n"
     ]
    }
   ],
   "source": [
    "%%writefile mapper1.py\n",
    "\n",
    "import sys\n",
    "import re\n",
    "\n",
    "reload(sys)\n",
    "sys.setdefaultencoding('utf-8') # required to convert to unicode\n",
    "\n",
    "for line in sys.stdin:\n",
    "    try:\n",
    "        article_id, text = unicode(line.strip()).split('\\t', 1)\n",
    "    except ValueError as e:\n",
    "        continue\n",
    "    words = re.split(\"\\W*\\s+\\W*\", text, flags=re.UNICODE)\n",
    "    for word in words:\n",
    "        print >> sys.stderr, \"reporter:counter:Wiki stats,Total words,%d\" % 1\n",
    "        print \"%s\\t%d\" % (word.lower(), 1)\n"
   ]
  },
  {
   "cell_type": "code",
   "execution_count": 8,
   "metadata": {
    "colab": {
     "autoexec": {
      "startup": false,
      "wait_interval": 0
     }
    },
    "colab_type": "code",
    "id": "oE8KFKqpEOw5"
   },
   "outputs": [
    {
     "name": "stdout",
     "output_type": "stream",
     "text": [
      "Overwriting reducer1.py\n"
     ]
    }
   ],
   "source": [
    "%%writefile reducer1.py\n",
    "\n",
    "import sys\n",
    "\n",
    "current_key = None\n",
    "word_sum = 0\n",
    "for line in sys.stdin:\n",
    "    try:\n",
    "        key, count = line.strip().split('\\t', 1)\n",
    "        count = int(count)\n",
    "    except ValueError as e:\n",
    "        continue\n",
    "    if current_key != key:\n",
    "        if current_key:\n",
    "            print \"%s\\t%d\" % (current_key, word_sum)\n",
    "        word_sum = 0\n",
    "        current_key = key\n",
    "    word_sum += count\n",
    "\n",
    "if current_key:\n",
    "    print \"%s\\t%d\" % (current_key, word_sum)"
   ]
  },
  {
   "cell_type": "code",
   "execution_count": 20,
   "metadata": {
    "colab": {
     "autoexec": {
      "startup": false,
      "wait_interval": 0
     }
    },
    "colab_type": "code",
    "id": "LJtc3_u0uXSz"
   },
   "outputs": [
    {
     "name": "stdout",
     "output_type": "stream",
     "text": [
      "  File \"mapper1.py\", line 16\r\n",
      "    print \"%s\\t%d\" % (word.lower(), 1)\r\n",
      "                 ^\r\n",
      "SyntaxError: invalid syntax\r\n"
     ]
    }
   ],
   "source": [
    "# You can use this cell for other experiments: for example, for comb\n",
    "! python mapper1.py"
   ]
  },
  {
   "cell_type": "markdown",
   "metadata": {
    "colab_type": "text",
    "id": "KYZpcwY9EOw6"
   },
   "source": [
    "## Step 2. Create sort job.\n",
    "\n",
    "<b>Hint:</b> You may use MapReduce comparator to solve this step. Make sure that the keys are sorted in ascending order."
   ]
  },
  {
   "cell_type": "code",
   "execution_count": 0,
   "metadata": {
    "colab": {
     "autoexec": {
      "startup": false,
      "wait_interval": 0
     }
    },
    "colab_type": "code",
    "id": "g-NMzQ79EOw7"
   },
   "outputs": [],
   "source": [
    "# Your code for sort job here. Don't forget to use magic writefile"
   ]
  },
  {
   "cell_type": "code",
   "execution_count": 13,
   "metadata": {
    "colab": {
     "autoexec": {
      "startup": false,
      "wait_interval": 0
     }
    },
    "colab_type": "code",
    "id": "qs6SKs7wO4be",
    "scrolled": false
   },
   "outputs": [
    {
     "name": "stdout",
     "output_type": "stream",
     "text": [
      "0\".32\t1\n",
      "0%however\t1\n",
      "0&\\mathrm{if\t1\n",
      "0(8)320-1234\t1\n",
      "0)(0,0,0\t1\n",
      "0)).(1\t2\n",
      "0).euclid's\t1\n",
      "0).one\t1\n",
      "0+\\|b\\|^2\t1\n",
      "0,0,snr\t1\n"
     ]
    },
    {
     "name": "stderr",
     "output_type": "stream",
     "text": [
      "rm: `wordcount_result_1545587644292783': No such file or directory\n",
      "18/12/23 17:54:08 INFO client.RMProxy: Connecting to ResourceManager at /0.0.0.0:8032\n",
      "18/12/23 17:54:08 INFO client.RMProxy: Connecting to ResourceManager at /0.0.0.0:8032\n",
      "18/12/23 17:54:09 INFO mapred.FileInputFormat: Total input files to process : 1\n",
      "18/12/23 17:54:09 INFO mapreduce.JobSubmitter: number of splits:2\n",
      "18/12/23 17:54:09 INFO mapreduce.JobSubmitter: Submitting tokens for job: job_1545583895902_0004\n",
      "18/12/23 17:54:09 INFO impl.YarnClientImpl: Submitted application application_1545583895902_0004\n",
      "18/12/23 17:54:09 INFO mapreduce.Job: The url to track the job: http://ea3b1e9cf859:8088/proxy/application_1545583895902_0004/\n",
      "18/12/23 17:54:09 INFO mapreduce.Job: Running job: job_1545583895902_0004\n",
      "18/12/23 17:54:16 INFO mapreduce.Job: Job job_1545583895902_0004 running in uber mode : false\n",
      "18/12/23 17:54:16 INFO mapreduce.Job:  map 0% reduce 0%\n",
      "18/12/23 17:54:33 INFO mapreduce.Job:  map 15% reduce 0%\n",
      "18/12/23 17:54:40 INFO mapreduce.Job:  map 24% reduce 0%\n",
      "18/12/23 17:54:46 INFO mapreduce.Job:  map 32% reduce 0%\n",
      "18/12/23 17:54:52 INFO mapreduce.Job:  map 40% reduce 0%\n",
      "18/12/23 17:54:58 INFO mapreduce.Job:  map 43% reduce 0%\n",
      "18/12/23 17:55:04 INFO mapreduce.Job:  map 48% reduce 0%\n",
      "18/12/23 17:55:10 INFO mapreduce.Job:  map 54% reduce 0%\n",
      "18/12/23 17:55:16 INFO mapreduce.Job:  map 63% reduce 0%\n",
      "18/12/23 17:55:22 INFO mapreduce.Job:  map 67% reduce 0%\n",
      "18/12/23 17:55:23 INFO mapreduce.Job:  map 83% reduce 0%\n",
      "18/12/23 17:55:29 INFO mapreduce.Job:  map 100% reduce 0%\n",
      "18/12/23 17:55:33 INFO mapreduce.Job:  map 100% reduce 100%\n",
      "18/12/23 17:55:34 INFO mapreduce.Job: Job job_1545583895902_0004 completed successfully\n",
      "18/12/23 17:55:34 INFO mapreduce.Job: Counters: 50\n",
      "\tFile System Counters\n",
      "\t\tFILE: Number of bytes read=17910916\n",
      "\t\tFILE: Number of bytes written=27417995\n",
      "\t\tFILE: Number of read operations=0\n",
      "\t\tFILE: Number of large read operations=0\n",
      "\t\tFILE: Number of write operations=0\n",
      "\t\tHDFS: Number of bytes read=76874501\n",
      "\t\tHDFS: Number of bytes written=5370513\n",
      "\t\tHDFS: Number of read operations=12\n",
      "\t\tHDFS: Number of large read operations=0\n",
      "\t\tHDFS: Number of write operations=4\n",
      "\tJob Counters \n",
      "\t\tLaunched map tasks=2\n",
      "\t\tLaunched reduce tasks=2\n",
      "\t\tData-local map tasks=2\n",
      "\t\tTotal time spent by all maps in occupied slots (ms)=135776\n",
      "\t\tTotal time spent by all reduces in occupied slots (ms)=13530\n",
      "\t\tTotal time spent by all map tasks (ms)=135776\n",
      "\t\tTotal time spent by all reduce tasks (ms)=13530\n",
      "\t\tTotal vcore-milliseconds taken by all map tasks=135776\n",
      "\t\tTotal vcore-milliseconds taken by all reduce tasks=13530\n",
      "\t\tTotal megabyte-milliseconds taken by all map tasks=139034624\n",
      "\t\tTotal megabyte-milliseconds taken by all reduce tasks=13854720\n",
      "\tMap-Reduce Framework\n",
      "\t\tMap input records=4100\n",
      "\t\tMap output records=11937375\n",
      "\t\tMap output bytes=97842436\n",
      "\t\tMap output materialized bytes=8952691\n",
      "\t\tInput split bytes=228\n",
      "\t\tCombine input records=11937375\n",
      "\t\tCombine output records=640011\n",
      "\t\tReduce input groups=427175\n",
      "\t\tReduce shuffle bytes=8952691\n",
      "\t\tReduce input records=640011\n",
      "\t\tReduce output records=427175\n",
      "\t\tSpilled Records=1920033\n",
      "\t\tShuffled Maps =4\n",
      "\t\tFailed Shuffles=0\n",
      "\t\tMerged Map outputs=4\n",
      "\t\tGC time elapsed (ms)=793\n",
      "\t\tCPU time spent (ms)=196330\n",
      "\t\tPhysical memory (bytes) snapshot=887013376\n",
      "\t\tVirtual memory (bytes) snapshot=7868207104\n",
      "\t\tTotal committed heap usage (bytes)=589299712\n",
      "\tShuffle Errors\n",
      "\t\tBAD_ID=0\n",
      "\t\tCONNECTION=0\n",
      "\t\tIO_ERROR=0\n",
      "\t\tWRONG_LENGTH=0\n",
      "\t\tWRONG_MAP=0\n",
      "\t\tWRONG_REDUCE=0\n",
      "\tWiki stats\n",
      "\t\tTotal words=11937375\n",
      "\tFile Input Format Counters \n",
      "\t\tBytes Read=76874273\n",
      "\tFile Output Format Counters \n",
      "\t\tBytes Written=5370513\n",
      "18/12/23 17:55:34 INFO streaming.StreamJob: Output directory: wordcount_result_1545587644292783\n",
      "cat: Unable to write to output stream.\n",
      "cat: Unable to write to output stream.\n"
     ]
    }
   ],
   "source": [
    "%%bash\n",
    "\n",
    "OUT_DIR=\"wordcount_result_\"$(date +\"%s%6N\")\n",
    "NUM_REDUCERS=2\n",
    "\n",
    "hdfs dfs -rm -r -skipTrash ${OUT_DIR} > /dev/null\n",
    "\n",
    "yarn jar /opt/cloudera/parcels/CDH/lib/hadoop-mapreduce/hadoop-streaming.jar \\\n",
    "    -D mapred.jab.name=\"Streaming wordCount\" \\\n",
    "    -D mapreduce.job.reduces=${NUM_REDUCERS} \\\n",
    "    -files mapper1.py,reducer1.py \\\n",
    "    -mapper \"python mapper1.py\" \\\n",
    "    -combiner \"python reducer1.py\" \\\n",
    "    -reducer \"python reducer1.py\" \\\n",
    "    -input /data/wiki/en_articles_part \\\n",
    "    -output ${OUT_DIR} > /dev/null\n",
    "\n",
    "hdfs dfs -cat ${OUT_DIR}/* | head"
   ]
  },
  {
   "cell_type": "code",
   "execution_count": 16,
   "metadata": {},
   "outputs": [
    {
     "name": "stdout",
     "output_type": "stream",
     "text": [
      "Found 3 items\r\n",
      "-rw-r--r--   1 jovyan supergroup          0 2018-12-23 17:55 wordcount_result_1545587644292783/_SUCCESS\r\n",
      "-rw-r--r--   1 jovyan supergroup    2667984 2018-12-23 17:55 wordcount_result_1545587644292783/part-00000\r\n",
      "-rw-r--r--   1 jovyan supergroup    2702529 2018-12-23 17:55 wordcount_result_1545587644292783/part-00001\r\n"
     ]
    }
   ],
   "source": [
    "! hdfs dfs -ls wordcount_result_1545587644292783"
   ]
  },
  {
   "cell_type": "code",
   "execution_count": 17,
   "metadata": {},
   "outputs": [
    {
     "name": "stdout",
     "output_type": "stream",
     "text": [
      "0\".32\t1\r\n",
      "0%however\t1\r\n",
      "0&\\mathrm{if\t1\r\n",
      "0(8)320-1234\t1\r\n",
      "0)(0,0,0\t1\r\n",
      "0)).(1\t2\r\n",
      "0).euclid's\t1\r\n",
      "0).one\t1\r\n",
      "0+\\|b\\|^2\t1\r\n",
      "0,0,snr\t1\r\n",
      "cat: Unable to write to output stream.\r\n",
      "cat: Unable to write to output stream.\r\n"
     ]
    }
   ],
   "source": [
    "! hdfs dfs -cat wordcount_result_1545587644292783/* | head"
   ]
  },
  {
   "cell_type": "markdown",
   "metadata": {
    "colab_type": "text",
    "id": "4OBE81GZEOw8"
   },
   "source": [
    "## Step 3. Bash commands\n",
    "\n",
    "<b> Hint: </b> For printing the exact row you may use basic UNIX commands. For instance, sed/head/tail/... (if you know other commands, you can use them).\n",
    "\n",
    "To run both jobs, you must use two consecutive yarn-commands. Remember that the input for the second job is the ouput for the first job."
   ]
  },
  {
   "cell_type": "code",
   "execution_count": 0,
   "metadata": {
    "colab": {
     "autoexec": {
      "startup": false,
      "wait_interval": 0
     }
    },
    "colab_type": "code",
    "id": "1q9NczdIEOw9"
   },
   "outputs": [],
   "source": [
    "%%bash\n",
    "\n",
    "OUT_DIR=\"assignment1_\"$(date +\"%s%6N\")\n",
    "\n",
    "# Code for your first job\n",
    "# yarn jar /opt/cloudera/parcels/CDH/lib/hadoop-mapreduce/hadoop-streaming.jar ...\n",
    "\n",
    "# Code for your second job\n",
    "# yarn jar /opt/cloudera/parcels/CDH/lib/hadoop-mapreduce/hadoop-streaming.jar ...\n",
    "\n",
    "# Code for obtaining the results\n",
    "hdfs dfs -cat ${OUT_DIR}/part-00000 | sed -n '7p;8q'\n",
    "hdfs dfs -rm -r -skipTrash ${OUT_DIR}* > /dev/null"
   ]
  }
 ],
 "metadata": {
  "colab": {
   "collapsed_sections": [],
   "default_view": {},
   "name": "701_to_students.ipynb",
   "provenance": [],
   "version": "0.3.2",
   "views": {}
  },
  "kernelspec": {
   "display_name": "Python 2",
   "language": "python",
   "name": "python2"
  },
  "language_info": {
   "codemirror_mode": {
    "name": "ipython",
    "version": 2
   },
   "file_extension": ".py",
   "mimetype": "text/x-python",
   "name": "python",
   "nbconvert_exporter": "python",
   "pygments_lexer": "ipython2",
   "version": "2.7.12"
  }
 },
 "nbformat": 4,
 "nbformat_minor": 1
}
