{
 "cells": [
  {
   "cell_type": "markdown",
   "metadata": {
    "colab_type": "text",
    "id": "Ebk-YqgqEOw1"
   },
   "source": [
    "# Hadoop Streaming assignment 1: Words Rating"
   ]
  },
  {
   "cell_type": "markdown",
   "metadata": {
    "colab_type": "text",
    "id": "XDLjl7hGEOw2"
   },
   "source": [
    "The purpose of this task is to create your own WordCount program for Wikipedia dump processing and learn basic concepts of the MapReduce.\n",
    "\n",
    "In this task you have to find the 7th word by popularity and its quantity in the reverse order (most popular first) in Wikipedia data (`/data/wiki/en_articles_part`).\n",
    "\n",
    "There are several points for this task:\n",
    "\n",
    "1) As an output, you have to get the 7th word and its quantity separated by a tab character.\n",
    "\n",
    "2) You must use the second job to obtain a totally ordered result.\n",
    "\n",
    "3) Do not forget to redirect all trash and output to /dev/null.\n",
    "\n",
    "Here you can find the draft of the task main steps. You can use other methods for solution obtaining."
   ]
  },
  {
   "cell_type": "markdown",
   "metadata": {
    "colab_type": "text",
    "id": "lIUikVIDEOw2"
   },
   "source": [
    "## Step 1. Create mapper and reducer.\n",
    "\n",
    "<b>Hint:</b>  Demo task contains almost all the necessary pieces to complete this assignment. You may use the demo to implement the first MapReduce Job."
   ]
  },
  {
   "cell_type": "code",
   "execution_count": 1,
   "metadata": {
    "colab": {
     "autoexec": {
      "startup": false,
      "wait_interval": 0
     }
    },
    "colab_type": "code",
    "id": "A7T5mxDwEOw4"
   },
   "outputs": [
    {
     "name": "stdout",
     "output_type": "stream",
     "text": [
      "Writing mapper1.py\n"
     ]
    }
   ],
   "source": [
    "%%writefile mapper1.py\n",
    "\n",
    "import sys\n",
    "import re\n",
    "\n",
    "reload(sys)\n",
    "sys.setdefaultencoding('utf-8') # required to convert to unicode\n",
    "\n",
    "for line in sys.stdin:\n",
    "    try:\n",
    "        article_id, text = unicode(line.strip()).split('\\t', 1)\n",
    "    except ValueError as e:\n",
    "        continue\n",
    "    words = re.split(\"\\W*\\s+\\W*\", text, flags=re.UNICODE)\n",
    "    for word in words:\n",
    "        print >> sys.stderr, \"reporter:counter:Wiki stats,Total words,%d\" % 1\n",
    "        print \"%s\\t%d\" % (word.lower(), 1)\n"
   ]
  },
  {
   "cell_type": "code",
   "execution_count": 2,
   "metadata": {
    "colab": {
     "autoexec": {
      "startup": false,
      "wait_interval": 0
     }
    },
    "colab_type": "code",
    "id": "oE8KFKqpEOw5"
   },
   "outputs": [
    {
     "name": "stdout",
     "output_type": "stream",
     "text": [
      "Writing reducer1.py\n"
     ]
    }
   ],
   "source": [
    "%%writefile reducer1.py\n",
    "\n",
    "import sys\n",
    "\n",
    "current_key = None\n",
    "word_sum = 0\n",
    "for line in sys.stdin:\n",
    "    try:\n",
    "        key, count = line.strip().split('\\t', 1)\n",
    "        count = int(count)\n",
    "    except ValueError as e:\n",
    "        continue\n",
    "    if current_key != key:\n",
    "        if current_key:\n",
    "            print \"%s\\t%d\" % (current_key, word_sum)\n",
    "        word_sum = 0\n",
    "        current_key = key\n",
    "    word_sum += count\n",
    "\n",
    "if current_key:\n",
    "    print \"%s\\t%d\" % (current_key, word_sum)"
   ]
  },
  {
   "cell_type": "code",
   "execution_count": 3,
   "metadata": {
    "colab": {
     "autoexec": {
      "startup": false,
      "wait_interval": 0
     }
    },
    "colab_type": "code",
    "id": "LJtc3_u0uXSz"
   },
   "outputs": [
    {
     "name": "stdout",
     "output_type": "stream",
     "text": [
      "  File \"mapper1.py\", line 16\r\n",
      "    print \"%s\\t%d\" % (word.lower(), 1)\r\n",
      "                 ^\r\n",
      "SyntaxError: invalid syntax\r\n"
     ]
    }
   ],
   "source": [
    "# You can use this cell for other experiments: for example, for comb\n",
    "! python mapper1.py"
   ]
  },
  {
   "cell_type": "markdown",
   "metadata": {
    "colab_type": "text",
    "id": "KYZpcwY9EOw6"
   },
   "source": [
    "## Step 2. Create sort job.\n",
    "\n",
    "<b>Hint:</b> You may use MapReduce comparator to solve this step. Make sure that the keys are sorted in ascending order."
   ]
  },
  {
   "cell_type": "code",
   "execution_count": 11,
   "metadata": {
    "colab": {
     "autoexec": {
      "startup": false,
      "wait_interval": 0
     }
    },
    "colab_type": "code",
    "id": "g-NMzQ79EOw7"
   },
   "outputs": [
    {
     "name": "stdout",
     "output_type": "stream",
     "text": [
      "Overwriting sortjob.py\n"
     ]
    }
   ],
   "source": [
    "%%writefile sortjob.py\n",
    "# Your code for sort job here. Don't forget to use magic writefile\n",
    "\n",
    "import sys\n",
    "\n",
    "for line in sys.stdin:\n",
    "    print line,\n"
   ]
  },
  {
   "cell_type": "code",
   "execution_count": 37,
   "metadata": {},
   "outputs": [
    {
     "name": "stdout",
     "output_type": "stream",
     "text": [
      "Writing test-num\n"
     ]
    }
   ],
   "source": [
    "%%writefile test-num\n",
    "1\t8\n",
    "2\t7\n",
    "3\t8\n",
    "4\t6\n",
    "5\t5\n",
    "1\t4\n",
    "2\t4\n",
    "3\t2\n",
    "4\t6\n",
    "5\t8\n",
    "6\t1\n",
    "7\t9\n",
    "8\t0\n",
    "9\t5\n",
    "5\t3"
   ]
  },
  {
   "cell_type": "code",
   "execution_count": 43,
   "metadata": {},
   "outputs": [
    {
     "name": "stdout",
     "output_type": "stream",
     "text": [
      "Found 1 items\r\n",
      "-rw-r--r--   1 jovyan supergroup         59 2019-01-04 17:42 test/test-num\r\n"
     ]
    }
   ],
   "source": [
    "! hdfs dfs -ls test"
   ]
  },
  {
   "cell_type": "markdown",
   "metadata": {},
   "source": [
    "For sorting rules *Look at doc:* http://hadoop.apache.org/docs/stable/hadoop-streaming/HadoopStreaming.html"
   ]
  },
  {
   "cell_type": "code",
   "execution_count": 55,
   "metadata": {
    "scrolled": false
   },
   "outputs": [
    {
     "name": "stdout",
     "output_type": "stream",
     "text": [
      "7\t9\t\n",
      "5\t8\t\n",
      "3\t8\t\n",
      "1\t8\t\n",
      "2\t7\t\n",
      "4\t6\t\n",
      "4\t6\t\n",
      "9\t5\t\n",
      "5\t5\t\n",
      "2\t4\t\n",
      "1\t4\t\n",
      "5\t3\t\n",
      "3\t2\t\n",
      "6\t1\t\n",
      "8\t0\t\n"
     ]
    },
    {
     "name": "stderr",
     "output_type": "stream",
     "text": [
      "19/01/05 16:14:48 INFO client.RMProxy: Connecting to ResourceManager at /0.0.0.0:8032\n",
      "19/01/05 16:14:49 INFO client.RMProxy: Connecting to ResourceManager at /0.0.0.0:8032\n",
      "19/01/05 16:14:50 INFO mapred.FileInputFormat: Total input files to process : 1\n",
      "19/01/05 16:14:50 INFO mapreduce.JobSubmitter: number of splits:2\n",
      "19/01/05 16:14:50 INFO mapreduce.JobSubmitter: Submitting tokens for job: job_1546432843083_0037\n",
      "19/01/05 16:14:50 INFO impl.YarnClientImpl: Submitted application application_1546432843083_0037\n",
      "19/01/05 16:14:51 INFO mapreduce.Job: The url to track the job: http://1ba397aeaf92:8088/proxy/application_1546432843083_0037/\n",
      "19/01/05 16:14:51 INFO mapreduce.Job: Running job: job_1546432843083_0037\n",
      "19/01/05 16:14:58 INFO mapreduce.Job: Job job_1546432843083_0037 running in uber mode : false\n",
      "19/01/05 16:14:58 INFO mapreduce.Job:  map 0% reduce 0%\n",
      "19/01/05 16:15:04 INFO mapreduce.Job:  map 100% reduce 0%\n",
      "19/01/05 16:15:10 INFO mapreduce.Job:  map 100% reduce 100%\n",
      "19/01/05 16:15:10 INFO mapreduce.Job: Job job_1546432843083_0037 completed successfully\n",
      "19/01/05 16:15:10 INFO mapreduce.Job: Counters: 49\n",
      "\tFile System Counters\n",
      "\t\tFILE: Number of bytes read=111\n",
      "\t\tFILE: Number of bytes written=416495\n",
      "\t\tFILE: Number of read operations=0\n",
      "\t\tFILE: Number of large read operations=0\n",
      "\t\tFILE: Number of write operations=0\n",
      "\t\tHDFS: Number of bytes read=287\n",
      "\t\tHDFS: Number of bytes written=75\n",
      "\t\tHDFS: Number of read operations=9\n",
      "\t\tHDFS: Number of large read operations=0\n",
      "\t\tHDFS: Number of write operations=2\n",
      "\tJob Counters \n",
      "\t\tLaunched map tasks=2\n",
      "\t\tLaunched reduce tasks=1\n",
      "\t\tData-local map tasks=2\n",
      "\t\tTotal time spent by all maps in occupied slots (ms)=7686\n",
      "\t\tTotal time spent by all reduces in occupied slots (ms)=3483\n",
      "\t\tTotal time spent by all map tasks (ms)=7686\n",
      "\t\tTotal time spent by all reduce tasks (ms)=3483\n",
      "\t\tTotal vcore-milliseconds taken by all map tasks=7686\n",
      "\t\tTotal vcore-milliseconds taken by all reduce tasks=3483\n",
      "\t\tTotal megabyte-milliseconds taken by all map tasks=7870464\n",
      "\t\tTotal megabyte-milliseconds taken by all reduce tasks=3566592\n",
      "\tMap-Reduce Framework\n",
      "\t\tMap input records=15\n",
      "\t\tMap output records=15\n",
      "\t\tMap output bytes=75\n",
      "\t\tMap output materialized bytes=117\n",
      "\t\tInput split bytes=198\n",
      "\t\tCombine input records=0\n",
      "\t\tCombine output records=0\n",
      "\t\tReduce input groups=14\n",
      "\t\tReduce shuffle bytes=117\n",
      "\t\tReduce input records=15\n",
      "\t\tReduce output records=15\n",
      "\t\tSpilled Records=30\n",
      "\t\tShuffled Maps =2\n",
      "\t\tFailed Shuffles=0\n",
      "\t\tMerged Map outputs=2\n",
      "\t\tGC time elapsed (ms)=185\n",
      "\t\tCPU time spent (ms)=2270\n",
      "\t\tPhysical memory (bytes) snapshot=687030272\n",
      "\t\tVirtual memory (bytes) snapshot=5887188992\n",
      "\t\tTotal committed heap usage (bytes)=463994880\n",
      "\tShuffle Errors\n",
      "\t\tBAD_ID=0\n",
      "\t\tCONNECTION=0\n",
      "\t\tIO_ERROR=0\n",
      "\t\tWRONG_LENGTH=0\n",
      "\t\tWRONG_MAP=0\n",
      "\t\tWRONG_REDUCE=0\n",
      "\tFile Input Format Counters \n",
      "\t\tBytes Read=89\n",
      "\tFile Output Format Counters \n",
      "\t\tBytes Written=75\n",
      "19/01/05 16:15:10 INFO streaming.StreamJob: Output directory: test_result\n"
     ]
    }
   ],
   "source": [
    "%%bash\n",
    "\n",
    "OUT_DIR=\"test_result\"\n",
    "NUM_REDUCERS=1\n",
    "\n",
    "hdfs dfs -rm -r -skipTrash ${OUT_DIR} > /dev/null\n",
    "\n",
    "yarn jar /opt/cloudera/parcels/CDH/lib/hadoop-mapreduce/hadoop-streaming.jar \\\n",
    "    -D mapreduce.job.output.key.comparator.class=org.apache.hadoop.mapreduce.lib.partition.KeyFieldBasedComparator \\\n",
    "    -D mapreduce.job.name=\"Sort Test numbers\" \\\n",
    "    -D mapreduce.job.reduces=${NUM_REDUCERS} \\\n",
    "    -D stream.num.map.output.key.fields=2 \\\n",
    "    -D mapreduce.partition.keypartitioner.options=-k2,2 \\\n",
    "    -D mapreduce.partition.keycomparator.options=-k2,2nr \\\n",
    "    -mapper /bin/cat \\\n",
    "    -reducer /bin/cat \\\n",
    "    -input test/test-num \\\n",
    "    -output ${OUT_DIR} > /dev/null\n",
    "\n",
    "hdfs dfs -cat ${OUT_DIR}/* "
   ]
  },
  {
   "cell_type": "code",
   "execution_count": 56,
   "metadata": {
    "colab": {
     "autoexec": {
      "startup": false,
      "wait_interval": 0
     }
    },
    "colab_type": "code",
    "id": "qs6SKs7wO4be",
    "scrolled": false
   },
   "outputs": [
    {
     "name": "stdout",
     "output_type": "stream",
     "text": [
      "the\t822164\t\n",
      "of\t447464\t\n",
      "and\t342715\t\n",
      "in\t292354\t\n",
      "to\t241467\t\n",
      "a\t236225\t\n",
      "is\t126420\t\n",
      "as\t103301\t\n",
      "for\t91245\t\n",
      "was\t90336\t\n"
     ]
    },
    {
     "name": "stderr",
     "output_type": "stream",
     "text": [
      "rm: `wordcount_result_1546705121107718': No such file or directory\n",
      "19/01/05 16:18:45 INFO client.RMProxy: Connecting to ResourceManager at /0.0.0.0:8032\n",
      "19/01/05 16:18:45 INFO client.RMProxy: Connecting to ResourceManager at /0.0.0.0:8032\n",
      "19/01/05 16:18:45 INFO mapred.FileInputFormat: Total input files to process : 2\n",
      "19/01/05 16:18:46 INFO mapreduce.JobSubmitter: number of splits:2\n",
      "19/01/05 16:18:46 INFO mapreduce.JobSubmitter: Submitting tokens for job: job_1546432843083_0038\n",
      "19/01/05 16:18:46 INFO impl.YarnClientImpl: Submitted application application_1546432843083_0038\n",
      "19/01/05 16:18:46 INFO mapreduce.Job: The url to track the job: http://1ba397aeaf92:8088/proxy/application_1546432843083_0038/\n",
      "19/01/05 16:18:46 INFO mapreduce.Job: Running job: job_1546432843083_0038\n",
      "19/01/05 16:18:53 INFO mapreduce.Job: Job job_1546432843083_0038 running in uber mode : false\n",
      "19/01/05 16:18:53 INFO mapreduce.Job:  map 0% reduce 0%\n",
      "19/01/05 16:19:00 INFO mapreduce.Job:  map 100% reduce 0%\n",
      "19/01/05 16:19:07 INFO mapreduce.Job:  map 100% reduce 100%\n",
      "19/01/05 16:19:07 INFO mapreduce.Job: Job job_1546432843083_0038 completed successfully\n",
      "19/01/05 16:19:07 INFO mapreduce.Job: Counters: 49\n",
      "\tFile System Counters\n",
      "\t\tFILE: Number of bytes read=6652067\n",
      "\t\tFILE: Number of bytes written=13720524\n",
      "\t\tFILE: Number of read operations=0\n",
      "\t\tFILE: Number of large read operations=0\n",
      "\t\tFILE: Number of write operations=0\n",
      "\t\tHDFS: Number of bytes read=5370773\n",
      "\t\tHDFS: Number of bytes written=5797688\n",
      "\t\tHDFS: Number of read operations=9\n",
      "\t\tHDFS: Number of large read operations=0\n",
      "\t\tHDFS: Number of write operations=2\n",
      "\tJob Counters \n",
      "\t\tLaunched map tasks=2\n",
      "\t\tLaunched reduce tasks=1\n",
      "\t\tData-local map tasks=2\n",
      "\t\tTotal time spent by all maps in occupied slots (ms)=9107\n",
      "\t\tTotal time spent by all reduces in occupied slots (ms)=4332\n",
      "\t\tTotal time spent by all map tasks (ms)=9107\n",
      "\t\tTotal time spent by all reduce tasks (ms)=4332\n",
      "\t\tTotal vcore-milliseconds taken by all map tasks=9107\n",
      "\t\tTotal vcore-milliseconds taken by all reduce tasks=4332\n",
      "\t\tTotal megabyte-milliseconds taken by all map tasks=9325568\n",
      "\t\tTotal megabyte-milliseconds taken by all reduce tasks=4435968\n",
      "\tMap-Reduce Framework\n",
      "\t\tMap input records=427175\n",
      "\t\tMap output records=427175\n",
      "\t\tMap output bytes=5797699\n",
      "\t\tMap output materialized bytes=6652073\n",
      "\t\tInput split bytes=260\n",
      "\t\tCombine input records=0\n",
      "\t\tCombine output records=0\n",
      "\t\tReduce input groups=427175\n",
      "\t\tReduce shuffle bytes=6652073\n",
      "\t\tReduce input records=427175\n",
      "\t\tReduce output records=427175\n",
      "\t\tSpilled Records=854350\n",
      "\t\tShuffled Maps =2\n",
      "\t\tFailed Shuffles=0\n",
      "\t\tMerged Map outputs=2\n",
      "\t\tGC time elapsed (ms)=237\n",
      "\t\tCPU time spent (ms)=7330\n",
      "\t\tPhysical memory (bytes) snapshot=701665280\n",
      "\t\tVirtual memory (bytes) snapshot=5887381504\n",
      "\t\tTotal committed heap usage (bytes)=458752000\n",
      "\tShuffle Errors\n",
      "\t\tBAD_ID=0\n",
      "\t\tCONNECTION=0\n",
      "\t\tIO_ERROR=0\n",
      "\t\tWRONG_LENGTH=0\n",
      "\t\tWRONG_MAP=0\n",
      "\t\tWRONG_REDUCE=0\n",
      "\tFile Input Format Counters \n",
      "\t\tBytes Read=5370513\n",
      "\tFile Output Format Counters \n",
      "\t\tBytes Written=5797688\n",
      "19/01/05 16:19:07 INFO streaming.StreamJob: Output directory: wordcount_result_1546705121107718\n",
      "cat: Unable to write to output stream.\n"
     ]
    }
   ],
   "source": [
    "%%bash\n",
    "\n",
    "OUT_DIR=\"wordcount_result_\"$(date +\"%s%6N\")\n",
    "NUM_REDUCERS=1\n",
    "\n",
    "hdfs dfs -rm -r -skipTrash ${OUT_DIR} > /dev/null\n",
    "\n",
    "yarn jar /opt/cloudera/parcels/CDH/lib/hadoop-mapreduce/hadoop-streaming.jar \\\n",
    "    -D mapreduce.job.output.key.comparator.class=org.apache.hadoop.mapreduce.lib.partition.KeyFieldBasedComparator \\\n",
    "    -D mapreduce.job.name=\"Sort wordCount\" \\\n",
    "    -D mapreduce.job.reduces=${NUM_REDUCERS} \\\n",
    "    -D stream.num.map.output.key.fields=2 \\\n",
    "    -D mapreduce.partition.keypartitioner.options=-k2,2 \\\n",
    "    -D mapreduce.partition.keycomparator.options=-k2,2nr \\\n",
    "    -mapper /bin/cat \\\n",
    "    -reducer /bin/cat \\\n",
    "    -input wordcount_result_1546433333935161 \\\n",
    "    -output ${OUT_DIR} > /dev/null\n",
    "\n",
    "hdfs dfs -cat ${OUT_DIR}/* | head"
   ]
  },
  {
   "cell_type": "code",
   "execution_count": 9,
   "metadata": {},
   "outputs": [
    {
     "name": "stdout",
     "output_type": "stream",
     "text": [
      "Found 3 items\r\n",
      "-rw-r--r--   1 jovyan supergroup          0 2019-01-02 12:50 wordcount_result_1546433333935161/_SUCCESS\r\n",
      "-rw-r--r--   1 jovyan supergroup    2667984 2019-01-02 12:50 wordcount_result_1546433333935161/part-00000\r\n",
      "-rw-r--r--   1 jovyan supergroup    2702529 2019-01-02 12:50 wordcount_result_1546433333935161/part-00001\r\n"
     ]
    }
   ],
   "source": [
    "! hdfs dfs -ls wordcount_result_1546433333935161"
   ]
  },
  {
   "cell_type": "code",
   "execution_count": 29,
   "metadata": {},
   "outputs": [
    {
     "name": "stdout",
     "output_type": "stream",
     "text": [
      "0\".32\t1\n",
      "0%however\t1\n",
      "0&\\mathrm{if\t1\n",
      "0(8)320-1234\t1\n",
      "0)(0,0,0\t1\n",
      "0)).(1\t2\n",
      "0).euclid's\t1\n",
      "0).one\t1\n",
      "0+\\|b\\|^2\t1\n",
      "0,0,snr\t1\n",
      "cat: Unable to write to output stream.\n",
      "cat: Unable to write to output stream.\n"
     ]
    }
   ],
   "source": [
    "! hdfs dfs -cat wordcount_result_1546433333935161/* | head"
   ]
  },
  {
   "cell_type": "markdown",
   "metadata": {
    "colab_type": "text",
    "id": "4OBE81GZEOw8"
   },
   "source": [
    "## Step 3. Bash commands\n",
    "\n",
    "<b> Hint: </b> For printing the exact row you may use basic UNIX commands. For instance, sed/head/tail/... (if you know other commands, you can use them).\n",
    "\n",
    "To run both jobs, you must use two consecutive yarn-commands. Remember that the input for the second job is the ouput for the first job."
   ]
  },
  {
   "cell_type": "code",
   "execution_count": 0,
   "metadata": {
    "colab": {
     "autoexec": {
      "startup": false,
      "wait_interval": 0
     }
    },
    "colab_type": "code",
    "id": "1q9NczdIEOw9"
   },
   "outputs": [],
   "source": [
    "%%bash\n",
    "\n",
    "OUT_DIR=\"assignment1_\"$(date +\"%s%6N\")\n",
    "\n",
    "\n",
    "# Code for your first job\n",
    "# yarn jar /opt/cloudera/parcels/CDH/lib/hadoop-mapreduce/hadoop-streaming.jar ...\n",
    "\n",
    "%%bash\n",
    "\n",
    "OUT_DIR=\"wordcount_result_\"$(date +\"%s%6N\")\n",
    "NUM_REDUCERS=2\n",
    "\n",
    "hdfs dfs -rm -r -skipTrash ${OUT_DIR} > /dev/null\n",
    "\n",
    "yarn jar /opt/cloudera/parcels/CDH/lib/hadoop-mapreduce/hadoop-streaming.jar \\\n",
    "    -D mapred.jab.name=\"Streaming wordCount\" \\\n",
    "    -D mapreduce.job.reduces=${NUM_REDUCERS} \\\n",
    "    -files mapper1.py,reducer1.py \\\n",
    "    -mapper \"python mapper1.py\" \\\n",
    "    -combiner \"python reducer1.py\" \\\n",
    "    -reducer \"python reducer1.py\" \\\n",
    "    -input /data/wiki/en_articles_part \\\n",
    "    -output ${OUT_DIR} > /dev/null\n",
    "\n",
    "hdfs dfs -cat ${OUT_DIR}/* | head\n",
    "\n",
    "# Code for your second job\n",
    "# yarn jar /opt/cloudera/parcels/CDH/lib/hadoop-mapreduce/hadoop-streaming.jar ...\n",
    "\n",
    "\n",
    "\n",
    "# Code for obtaining the results\n",
    "hdfs dfs -cat ${OUT_DIR}/part-00000 | sed -n '7p;8q'\n",
    "hdfs dfs -rm -r -skipTrash ${OUT_DIR}* > /dev/null"
   ]
  }
 ],
 "metadata": {
  "colab": {
   "collapsed_sections": [],
   "default_view": {},
   "name": "701_to_students.ipynb",
   "provenance": [],
   "version": "0.3.2",
   "views": {}
  },
  "kernelspec": {
   "display_name": "Python 2",
   "language": "python",
   "name": "python2"
  },
  "language_info": {
   "codemirror_mode": {
    "name": "ipython",
    "version": 2
   },
   "file_extension": ".py",
   "mimetype": "text/x-python",
   "name": "python",
   "nbconvert_exporter": "python",
   "pygments_lexer": "ipython2",
   "version": "2.7.12"
  }
 },
 "nbformat": 4,
 "nbformat_minor": 1
}
