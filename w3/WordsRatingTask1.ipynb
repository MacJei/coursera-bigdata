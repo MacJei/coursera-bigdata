{
 "cells": [
  {
   "cell_type": "markdown",
   "metadata": {
    "colab_type": "text",
    "id": "Ebk-YqgqEOw1"
   },
   "source": [
    "# Hadoop Streaming assignment 1: Words Rating"
   ]
  },
  {
   "cell_type": "markdown",
   "metadata": {
    "colab_type": "text",
    "id": "XDLjl7hGEOw2"
   },
   "source": [
    "The purpose of this task is to create your own WordCount program for Wikipedia dump processing and learn basic concepts of the MapReduce.\n",
    "\n",
    "In this task you have to find the 7th word by popularity and its quantity in the reverse order (most popular first) in Wikipedia data (`/data/wiki/en_articles_part`).\n",
    "\n",
    "There are several points for this task:\n",
    "\n",
    "1) As an output, you have to get the 7th word and its quantity separated by a tab character.\n",
    "\n",
    "2) You must use the second job to obtain a totally ordered result.\n",
    "\n",
    "3) Do not forget to redirect all trash and output to /dev/null.\n",
    "\n",
    "Here you can find the draft of the task main steps. You can use other methods for solution obtaining."
   ]
  },
  {
   "cell_type": "markdown",
   "metadata": {
    "colab_type": "text",
    "id": "lIUikVIDEOw2"
   },
   "source": [
    "## Step 1. Create mapper and reducer.\n",
    "\n",
    "<b>Hint:</b>  Demo task contains almost all the necessary pieces to complete this assignment. You may use the demo to implement the first MapReduce Job."
   ]
  },
  {
   "cell_type": "code",
   "execution_count": 3,
   "metadata": {
    "colab": {
     "autoexec": {
      "startup": false,
      "wait_interval": 0
     }
    },
    "colab_type": "code",
    "id": "A7T5mxDwEOw4"
   },
   "outputs": [
    {
     "name": "stdout",
     "output_type": "stream",
     "text": [
      "Writing mapper1.py\n"
     ]
    }
   ],
   "source": [
    "%%writefile mapper1.py\n",
    "\n",
    "# Your code for mapper here.\n",
    "\n",
    "import sys\n",
    "import re\n",
    "\n",
    "reload(sys)\n",
    "sys.setdefaultencoding('utf-8') # required to convert to unicode\n",
    "\n",
    "for line in sys.stdin:\n",
    "    try:\n",
    "        article_id, text = unicode(line.strip()).split('\\t', 1)\n",
    "    except ValueError as e:\n",
    "        continue\n",
    "    words = re.split(\"\\W*\\s+\\W*\", text, flags=re.UNICODE)\n",
    "    for word in words:\n",
    "        print >> sys.stderr, \"reporter:counter:Wiki stats,Total words,%d\" % 1\n",
    "        print \"%s\\t%d\" % (word.lower(), 1)\n",
    "        "
   ]
  },
  {
   "cell_type": "code",
   "execution_count": 4,
   "metadata": {
    "colab": {
     "autoexec": {
      "startup": false,
      "wait_interval": 0
     }
    },
    "colab_type": "code",
    "id": "oE8KFKqpEOw5"
   },
   "outputs": [
    {
     "name": "stdout",
     "output_type": "stream",
     "text": [
      "Writing reducer1.py\n"
     ]
    }
   ],
   "source": [
    "%%writefile reducer1.py\n",
    "\n",
    "# Your code for reducer here.\n",
    "import sys\n",
    "\n",
    "current_key = None\n",
    "word_sum = 0\n",
    "for line in sys.stdin:\n",
    "    try:\n",
    "        key, count = line.strip().split('\\t', 1)\n",
    "        count = int(count)\n",
    "    except ValueError as e:\n",
    "        continue\n",
    "    if current_key != key:\n",
    "        if current_key:\n",
    "            print \"%s\\t%d\" % (current_key, word_sum)\n",
    "        word_sum = 0\n",
    "        current_key = key\n",
    "    word_sum += count\n",
    "\n",
    "if current_key:\n",
    "    print \"%s\\t%d\" % (current_key, word_sum)\n",
    "    "
   ]
  },
  {
   "cell_type": "code",
   "execution_count": 15,
   "metadata": {},
   "outputs": [
    {
     "name": "stderr",
     "output_type": "stream",
     "text": [
      "18/12/19 12:52:33 INFO client.RMProxy: Connecting to ResourceManager at /0.0.0.0:8032\n",
      "18/12/19 12:52:33 INFO client.RMProxy: Connecting to ResourceManager at /0.0.0.0:8032\n",
      "18/12/19 12:52:35 INFO mapred.FileInputFormat: Total input files to process : 1\n",
      "18/12/19 12:52:35 INFO mapreduce.JobSubmitter: number of splits:2\n",
      "18/12/19 12:52:35 INFO Configuration.deprecation: mapred.job.name is deprecated. Instead, use mapreduce.job.name\n",
      "18/12/19 12:52:36 INFO mapreduce.JobSubmitter: Submitting tokens for job: job_1545211394186_0002\n",
      "18/12/19 12:52:36 INFO impl.YarnClientImpl: Submitted application application_1545211394186_0002\n",
      "18/12/19 12:52:36 INFO mapreduce.Job: The url to track the job: http://8bee9537d1bb:8088/proxy/application_1545211394186_0002/\n",
      "18/12/19 12:52:36 INFO mapreduce.Job: Running job: job_1545211394186_0002\n",
      "18/12/19 12:52:43 INFO mapreduce.Job: Job job_1545211394186_0002 running in uber mode : false\n",
      "18/12/19 12:52:43 INFO mapreduce.Job:  map 0% reduce 0%\n",
      "18/12/19 12:53:00 INFO mapreduce.Job:  map 22% reduce 0%\n",
      "18/12/19 12:53:06 INFO mapreduce.Job:  map 37% reduce 0%\n",
      "18/12/19 12:53:12 INFO mapreduce.Job:  map 43% reduce 0%\n",
      "18/12/19 12:53:18 INFO mapreduce.Job:  map 56% reduce 0%\n",
      "18/12/19 12:53:24 INFO mapreduce.Job:  map 67% reduce 0%\n",
      "18/12/19 12:53:30 INFO mapreduce.Job:  map 100% reduce 0%\n",
      "18/12/19 12:53:56 INFO mapreduce.Job:  map 100% reduce 89%\n",
      "18/12/19 12:54:01 INFO mapreduce.Job:  map 100% reduce 100%\n",
      "18/12/19 12:54:03 INFO mapreduce.Job: Job job_1545211394186_0002 completed successfully\n",
      "18/12/19 12:54:03 INFO mapreduce.Job: Counters: 50\n",
      "\tFile System Counters\n",
      "\t\tFILE: Number of bytes read=243434428\n",
      "\t\tFILE: Number of bytes written=365570030\n",
      "\t\tFILE: Number of read operations=0\n",
      "\t\tFILE: Number of large read operations=0\n",
      "\t\tFILE: Number of write operations=0\n",
      "\t\tHDFS: Number of bytes read=76874501\n",
      "\t\tHDFS: Number of bytes written=5370513\n",
      "\t\tHDFS: Number of read operations=9\n",
      "\t\tHDFS: Number of large read operations=0\n",
      "\t\tHDFS: Number of write operations=2\n",
      "\tJob Counters \n",
      "\t\tLaunched map tasks=2\n",
      "\t\tLaunched reduce tasks=1\n",
      "\t\tData-local map tasks=2\n",
      "\t\tTotal time spent by all maps in occupied slots (ms)=88799\n",
      "\t\tTotal time spent by all reduces in occupied slots (ms)=28585\n",
      "\t\tTotal time spent by all map tasks (ms)=88799\n",
      "\t\tTotal time spent by all reduce tasks (ms)=28585\n",
      "\t\tTotal vcore-milliseconds taken by all map tasks=88799\n",
      "\t\tTotal vcore-milliseconds taken by all reduce tasks=28585\n",
      "\t\tTotal megabyte-milliseconds taken by all map tasks=90930176\n",
      "\t\tTotal megabyte-milliseconds taken by all reduce tasks=29271040\n",
      "\tMap-Reduce Framework\n",
      "\t\tMap input records=4100\n",
      "\t\tMap output records=11937375\n",
      "\t\tMap output bytes=97842436\n",
      "\t\tMap output materialized bytes=121717208\n",
      "\t\tInput split bytes=228\n",
      "\t\tCombine input records=0\n",
      "\t\tCombine output records=0\n",
      "\t\tReduce input groups=427176\n",
      "\t\tReduce shuffle bytes=121717208\n",
      "\t\tReduce input records=11937375\n",
      "\t\tReduce output records=427175\n",
      "\t\tSpilled Records=35812125\n",
      "\t\tShuffled Maps =2\n",
      "\t\tFailed Shuffles=0\n",
      "\t\tMerged Map outputs=2\n",
      "\t\tGC time elapsed (ms)=788\n",
      "\t\tCPU time spent (ms)=141450\n",
      "\t\tPhysical memory (bytes) snapshot=691490816\n",
      "\t\tVirtual memory (bytes) snapshot=5890199552\n",
      "\t\tTotal committed heap usage (bytes)=501219328\n",
      "\tShuffle Errors\n",
      "\t\tBAD_ID=0\n",
      "\t\tCONNECTION=0\n",
      "\t\tIO_ERROR=0\n",
      "\t\tWRONG_LENGTH=0\n",
      "\t\tWRONG_MAP=0\n",
      "\t\tWRONG_REDUCE=0\n",
      "\tWiki stats\n",
      "\t\tTotal words=11937375\n",
      "\tFile Input Format Counters \n",
      "\t\tBytes Read=76874273\n",
      "\tFile Output Format Counters \n",
      "\t\tBytes Written=5370513\n",
      "18/12/19 12:54:03 INFO streaming.StreamJob: Output directory: word_count_result_1545223951521647\n"
     ]
    }
   ],
   "source": [
    "%%bash\n",
    "OUT_DIR=\"word_count_result_\"$(date +\"%s%6N\")\n",
    "NUM_REDUCERS=1\n",
    "\n",
    "#hdfs dfs -rm -r -skipTrash ${OUT_DIR} > /dev/null\n",
    "\n",
    "yarn jar /opt/cloudera/parcels/CDH/lib/hadoop-mapreduce/hadoop-streaming.jar \\\n",
    "    -D mapred.job.name=\"Wordcount streaming\" \\\n",
    "    -D mapreduce.job.reduces=${NUM_REDUCERS} \\\n",
    "    -files mapper1.py,reducer1.py \\\n",
    "    -mapper \"python mapper1.py\" \\\n",
    "    -reducer \"python reducer1.py\" \\\n",
    "    -input \"/data/wiki/en_articles_part\" \\\n",
    "    -output ${OUT_DIR} > /dev/null\n"
   ]
  },
  {
   "cell_type": "code",
   "execution_count": 18,
   "metadata": {},
   "outputs": [
    {
     "name": "stdout",
     "output_type": "stream",
     "text": [
      "...baby\t1\r\n",
      "0\t2877\r\n",
      "0\".32\t1\r\n",
      "0%however\t1\r\n",
      "0&\\mathrm{if\t1\r\n",
      "0&\\mbox\t1\r\n",
      "0&\\mbox{if\t2\r\n",
      "0(8)320-1231\t1\r\n",
      "0(8)320-1234\t1\r\n",
      "0)$and\t1\r\n",
      "cat: Unable to write to output stream.\r\n"
     ]
    }
   ],
   "source": [
    "!hdfs dfs -cat word_count_result_1545223951521647/* | head"
   ]
  },
  {
   "cell_type": "code",
   "execution_count": 14,
   "metadata": {},
   "outputs": [
    {
     "name": "stdout",
     "output_type": "stream",
     "text": [
      "Wed Dec 19 12:51:58 UTC 2018\r\n"
     ]
    }
   ],
   "source": [
    "! date"
   ]
  },
  {
   "cell_type": "code",
   "execution_count": 21,
   "metadata": {
    "colab": {
     "autoexec": {
      "startup": false,
      "wait_interval": 0
     }
    },
    "colab_type": "code",
    "id": "LJtc3_u0uXSz"
   },
   "outputs": [
    {
     "name": "stderr",
     "output_type": "stream",
     "text": [
      "18/12/19 13:01:31 INFO client.RMProxy: Connecting to ResourceManager at /0.0.0.0:8032\n",
      "18/12/19 13:01:31 INFO client.RMProxy: Connecting to ResourceManager at /0.0.0.0:8032\n",
      "18/12/19 13:01:33 INFO mapred.FileInputFormat: Total input files to process : 1\n",
      "18/12/19 13:01:33 INFO mapreduce.JobSubmitter: number of splits:2\n",
      "18/12/19 13:01:33 INFO Configuration.deprecation: mapred.job.name is deprecated. Instead, use mapreduce.job.name\n",
      "18/12/19 13:01:34 INFO mapreduce.JobSubmitter: Submitting tokens for job: job_1545211394186_0003\n",
      "18/12/19 13:01:34 INFO impl.YarnClientImpl: Submitted application application_1545211394186_0003\n",
      "18/12/19 13:01:34 INFO mapreduce.Job: The url to track the job: http://8bee9537d1bb:8088/proxy/application_1545211394186_0003/\n",
      "18/12/19 13:01:34 INFO mapreduce.Job: Running job: job_1545211394186_0003\n",
      "18/12/19 13:01:41 INFO mapreduce.Job: Job job_1545211394186_0003 running in uber mode : false\n",
      "18/12/19 13:01:41 INFO mapreduce.Job:  map 0% reduce 0%\n",
      "18/12/19 13:01:57 INFO mapreduce.Job:  map 13% reduce 0%\n",
      "18/12/19 13:01:58 INFO mapreduce.Job:  map 27% reduce 0%\n",
      "18/12/19 13:02:03 INFO mapreduce.Job:  map 33% reduce 0%\n",
      "18/12/19 13:02:04 INFO mapreduce.Job:  map 40% reduce 0%\n",
      "18/12/19 13:02:09 INFO mapreduce.Job:  map 43% reduce 0%\n",
      "18/12/19 13:02:10 INFO mapreduce.Job:  map 45% reduce 0%\n",
      "18/12/19 13:02:15 INFO mapreduce.Job:  map 51% reduce 0%\n",
      "18/12/19 13:02:21 INFO mapreduce.Job:  map 65% reduce 0%\n",
      "18/12/19 13:02:27 INFO mapreduce.Job:  map 67% reduce 0%\n",
      "18/12/19 13:02:28 INFO mapreduce.Job:  map 100% reduce 0%\n",
      "18/12/19 13:02:36 INFO mapreduce.Job:  map 100% reduce 100%\n",
      "18/12/19 13:02:38 INFO mapreduce.Job: Job job_1545211394186_0003 completed successfully\n",
      "18/12/19 13:02:38 INFO mapreduce.Job: Counters: 50\n",
      "\tFile System Counters\n",
      "\t\tFILE: Number of bytes read=17910916\n",
      "\t\tFILE: Number of bytes written=27417239\n",
      "\t\tFILE: Number of read operations=0\n",
      "\t\tFILE: Number of large read operations=0\n",
      "\t\tFILE: Number of write operations=0\n",
      "\t\tHDFS: Number of bytes read=76874501\n",
      "\t\tHDFS: Number of bytes written=5370513\n",
      "\t\tHDFS: Number of read operations=12\n",
      "\t\tHDFS: Number of large read operations=0\n",
      "\t\tHDFS: Number of write operations=4\n",
      "\tJob Counters \n",
      "\t\tLaunched map tasks=2\n",
      "\t\tLaunched reduce tasks=2\n",
      "\t\tData-local map tasks=2\n",
      "\t\tTotal time spent by all maps in occupied slots (ms)=90540\n",
      "\t\tTotal time spent by all reduces in occupied slots (ms)=9543\n",
      "\t\tTotal time spent by all map tasks (ms)=90540\n",
      "\t\tTotal time spent by all reduce tasks (ms)=9543\n",
      "\t\tTotal vcore-milliseconds taken by all map tasks=90540\n",
      "\t\tTotal vcore-milliseconds taken by all reduce tasks=9543\n",
      "\t\tTotal megabyte-milliseconds taken by all map tasks=92712960\n",
      "\t\tTotal megabyte-milliseconds taken by all reduce tasks=9772032\n",
      "\tMap-Reduce Framework\n",
      "\t\tMap input records=4100\n",
      "\t\tMap output records=11937375\n",
      "\t\tMap output bytes=97842436\n",
      "\t\tMap output materialized bytes=8952691\n",
      "\t\tInput split bytes=228\n",
      "\t\tCombine input records=11937375\n",
      "\t\tCombine output records=640011\n",
      "\t\tReduce input groups=427175\n",
      "\t\tReduce shuffle bytes=8952691\n",
      "\t\tReduce input records=640011\n",
      "\t\tReduce output records=427175\n",
      "\t\tSpilled Records=1920033\n",
      "\t\tShuffled Maps =4\n",
      "\t\tFailed Shuffles=0\n",
      "\t\tMerged Map outputs=4\n",
      "\t\tGC time elapsed (ms)=937\n",
      "\t\tCPU time spent (ms)=136210\n",
      "\t\tPhysical memory (bytes) snapshot=915947520\n",
      "\t\tVirtual memory (bytes) snapshot=7856443392\n",
      "\t\tTotal committed heap usage (bytes)=647495680\n",
      "\tShuffle Errors\n",
      "\t\tBAD_ID=0\n",
      "\t\tCONNECTION=0\n",
      "\t\tIO_ERROR=0\n",
      "\t\tWRONG_LENGTH=0\n",
      "\t\tWRONG_MAP=0\n",
      "\t\tWRONG_REDUCE=0\n",
      "\tWiki stats\n",
      "\t\tTotal words=11937375\n",
      "\tFile Input Format Counters \n",
      "\t\tBytes Read=76874273\n",
      "\tFile Output Format Counters \n",
      "\t\tBytes Written=5370513\n",
      "18/12/19 13:02:38 INFO streaming.StreamJob: Output directory: word_count_result_1545224490005726\n"
     ]
    }
   ],
   "source": [
    "%%bash\n",
    "# You can use this cell for other experiments: for example, for combiner.\n",
    "\n",
    "OUT_DIR=\"word_count_result_\"$(date +\"%s%6N\")\n",
    "NUM_REDUCERS=2\n",
    "\n",
    "#hdfs dfs -rm -r -skipTrash ${OUT_DIR} > /dev/null\n",
    "\n",
    "yarn jar /opt/cloudera/parcels/CDH/lib/hadoop-mapreduce/hadoop-streaming.jar \\\n",
    "    -D mapred.job.name=\"Wordcount streaming\" \\\n",
    "    -D mapreduce.job.reduces=${NUM_REDUCERS} \\\n",
    "    -files mapper1.py,reducer1.py \\\n",
    "    -mapper \"python mapper1.py\" \\\n",
    "    -combiner \"python reducer1.py\" \\\n",
    "    -reducer \"python reducer1.py\" \\\n",
    "    -input \"/data/wiki/en_articles_part\" \\\n",
    "    -output ${OUT_DIR} > /dev/null\n"
   ]
  },
  {
   "cell_type": "code",
   "execution_count": 23,
   "metadata": {},
   "outputs": [
    {
     "name": "stdout",
     "output_type": "stream",
     "text": [
      "Found 3 items\r\n",
      "-rw-r--r--   1 jovyan supergroup          0 2018-12-19 13:02 word_count_result_1545224490005726/_SUCCESS\r\n",
      "-rw-r--r--   1 jovyan supergroup    2667984 2018-12-19 13:02 word_count_result_1545224490005726/part-00000\r\n",
      "-rw-r--r--   1 jovyan supergroup    2702529 2018-12-19 13:02 word_count_result_1545224490005726/part-00001\r\n"
     ]
    }
   ],
   "source": [
    "! hdfs dfs -ls word_count_result_1545224490005726"
   ]
  },
  {
   "cell_type": "code",
   "execution_count": 22,
   "metadata": {},
   "outputs": [
    {
     "name": "stdout",
     "output_type": "stream",
     "text": [
      "0\".32\t1\n",
      "0%however\t1\n",
      "0&\\mathrm{if\t1\n",
      "0(8)320-1234\t1\n",
      "0)(0,0,0\t1\n",
      "0)).(1\t2\n",
      "0).euclid's\t1\n",
      "0).one\t1\n",
      "0+\\|b\\|^2\t1\n",
      "0,0,snr\t1\n",
      "cat: Unable to write to output stream.\n",
      "cat: Unable to write to output stream.\n"
     ]
    }
   ],
   "source": [
    "! hdfs dfs -cat word_count_result_1545224490005726/* | head"
   ]
  },
  {
   "cell_type": "markdown",
   "metadata": {
    "colab_type": "text",
    "id": "KYZpcwY9EOw6"
   },
   "source": [
    "## Step 2. Create sort job.\n",
    "\n",
    "<b>Hint:</b> You may use MapReduce comparator to solve this step. Make sure that the keys are sorted in ascending order."
   ]
  },
  {
   "cell_type": "code",
   "execution_count": 0,
   "metadata": {
    "colab": {
     "autoexec": {
      "startup": false,
      "wait_interval": 0
     }
    },
    "colab_type": "code",
    "id": "g-NMzQ79EOw7"
   },
   "outputs": [],
   "source": [
    "# Your code for sort job here. Don't forget to use magic writefile"
   ]
  },
  {
   "cell_type": "code",
   "execution_count": 0,
   "metadata": {
    "colab": {
     "autoexec": {
      "startup": false,
      "wait_interval": 0
     }
    },
    "colab_type": "code",
    "id": "qs6SKs7wO4be"
   },
   "outputs": [],
   "source": []
  },
  {
   "cell_type": "markdown",
   "metadata": {
    "colab_type": "text",
    "id": "4OBE81GZEOw8"
   },
   "source": [
    "## Step 3. Bash commands\n",
    "\n",
    "<b> Hint: </b> For printing the exact row you may use basic UNIX commands. For instance, sed/head/tail/... (if you know other commands, you can use them).\n",
    "\n",
    "To run both jobs, you must use two consecutive yarn-commands. Remember that the input for the second job is the ouput for the first job."
   ]
  },
  {
   "cell_type": "code",
   "execution_count": 0,
   "metadata": {
    "colab": {
     "autoexec": {
      "startup": false,
      "wait_interval": 0
     }
    },
    "colab_type": "code",
    "id": "1q9NczdIEOw9"
   },
   "outputs": [],
   "source": [
    "%%bash\n",
    "\n",
    "OUT_DIR=\"assignment1_\"$(date +\"%s%6N\")\n",
    "\n",
    "# Code for your first job\n",
    "# yarn jar /opt/cloudera/parcels/CDH/lib/hadoop-mapreduce/hadoop-streaming.jar ...\n",
    "\n",
    "# Code for your second job\n",
    "# yarn jar /opt/cloudera/parcels/CDH/lib/hadoop-mapreduce/hadoop-streaming.jar ...\n",
    "\n",
    "# Code for obtaining the results\n",
    "hdfs dfs -cat ${OUT_DIR}/part-00000 | sed -n '7p;8q'\n",
    "hdfs dfs -rm -r -skipTrash ${OUT_DIR}* > /dev/null"
   ]
  }
 ],
 "metadata": {
  "colab": {
   "collapsed_sections": [],
   "default_view": {},
   "name": "701_to_students.ipynb",
   "provenance": [],
   "version": "0.3.2",
   "views": {}
  },
  "kernelspec": {
   "display_name": "Python 2",
   "language": "python",
   "name": "python2"
  },
  "language_info": {
   "codemirror_mode": {
    "name": "ipython",
    "version": 2
   },
   "file_extension": ".py",
   "mimetype": "text/x-python",
   "name": "python",
   "nbconvert_exporter": "python",
   "pygments_lexer": "ipython2",
   "version": "2.7.12"
  }
 },
 "nbformat": 4,
 "nbformat_minor": 1
}
