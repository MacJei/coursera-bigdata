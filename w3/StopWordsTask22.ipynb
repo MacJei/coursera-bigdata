{
 "cells": [
  {
   "cell_type": "markdown",
   "metadata": {
    "colab_type": "text",
    "id": "Xsd0oermS80K"
   },
   "source": [
    "# Hadoop Streaming assignment 2: Stop Words"
   ]
  },
  {
   "cell_type": "markdown",
   "metadata": {
    "colab_type": "text",
    "id": "V_0wfvKjS80L"
   },
   "source": [
    "The purpose of this task is to improve the previous \"Word rating\" program. You have to calculate how many stop words are there in the input dataset. Stop words list is in `/datasets/stop_words_en.txt` file. \n",
    "\n",
    "Use Hadoop counters to compute the number of stop words and total words in the dataset. The result is the percentage of stop words in the entire dataset (without percent symbol).\n",
    "\n",
    "There are several points for this task:\n",
    "\n",
    "1) As an output, you have to get the percentage of stop words in the entire dataset without percent symbol (correct answer on sample dataset is `41.603`).\n",
    "\n",
    "2) As you can see in the Hadoop Streaming userguide \"you will need to use `-files` option to tell the framework to pack your executable files as a part of a job submission.\"\n",
    "\n",
    "3) Do not forget to redirect junk output to `/dev/null`.\n",
    "\n",
    "4) You may modify mappers/reducers from \"Word rating\" task and parse its output to get the answer on \"Stop Words\" task.\n",
    "\n",
    "5) You may use mapper/reducer to get `\"Stop Words\"` and `\"Total Words\"` amounts and redirect them to sys.stderr. After that you may redirect the output of MapReduce to the parsed function. In this function you may find rows correspond to these amounts and compute the percentage.\n",
    "\n",
    "Here you can find the draft for the main steps of the task. You can use other methods to get the solution."
   ]
  },
  {
   "cell_type": "markdown",
   "metadata": {
    "colab_type": "text",
    "id": "EpO7whLNS80M"
   },
   "source": [
    "## Step 1. Create the mapper.\n",
    "\n",
    "<b>Hint:</b> Create the mapper, which calculates Total word and Stop word amounts. You may redirect this information to sys.stderr. This will make it possible to parse these data on the next steps.\n",
    "\n",
    "Example of the redirections:\n",
    "\n",
    "`print >> sys.stderr, \"reporter:counter:Wiki stats,Total words,%d\" % count`\n",
    "\n",
    "Remember about the Distributed cache. If we add option `-files mapper.py,reducer.py,/datasets/stop_words_en.txt`, then `mapper.py, reducer.py` and `stop_words_en.txt` file will be in the same directory on the datanodes. Hence, it is necessary to use a relative path `stop_words_en.txt` from the mapper to access this txt file."
   ]
  },
  {
   "cell_type": "code",
   "execution_count": 3,
   "metadata": {},
   "outputs": [
    {
     "name": "stdout",
     "output_type": "stream",
     "text": [
      "-rw-r--r--   1 jovyan supergroup       1914 2018-08-01 17:15 /datasets/stop_words_en.txt\n",
      "Found 31 items\n",
      "drwxr-xr-x   - jovyan supergroup          0 2019-01-06 16:53 stopword_result_1546793348791328\n",
      "drwxr-xr-x   - jovyan supergroup          0 2019-01-06 17:05 stopword_result_1546794183590560\n",
      "drwxr-xr-x   - jovyan supergroup          0 2019-01-06 18:28 stopword_result_1546799165944677\n",
      "drwxr-xr-x   - jovyan supergroup          0 2019-01-06 18:34 stopword_result_1546799497038878\n",
      "drwxr-xr-x   - jovyan supergroup          0 2019-01-04 17:42 test\n",
      "drwxr-xr-x   - jovyan supergroup          0 2019-01-05 16:15 test_result\n",
      "drwxr-xr-x   - jovyan supergroup          0 2019-01-02 12:50 wordcount_result_1546433333935161\n",
      "drwxr-xr-x   - jovyan supergroup          0 2019-01-02 13:16 wordcount_result_1546434974465272\n",
      "drwxr-xr-x   - jovyan supergroup          0 2019-01-02 13:21 wordcount_result_1546435279584368\n",
      "drwxr-xr-x   - jovyan supergroup          0 2019-01-02 13:25 wordcount_result_1546435501138649\n",
      "drwxr-xr-x   - jovyan supergroup          0 2019-01-02 13:29 wordcount_result_1546435765144579\n",
      "drwxr-xr-x   - jovyan supergroup          0 2019-01-02 15:31 wordcount_result_1546443061063910\n",
      "drwxr-xr-x   - jovyan supergroup          0 2019-01-02 15:33 wordcount_result_1546443169076190\n",
      "drwxr-xr-x   - jovyan supergroup          0 2019-01-02 15:35 wordcount_result_1546443306282910\n",
      "drwxr-xr-x   - jovyan supergroup          0 2019-01-02 15:36 wordcount_result_1546443354003761\n",
      "drwxr-xr-x   - jovyan supergroup          0 2019-01-02 15:40 wordcount_result_1546443584309483\n",
      "drwxr-xr-x   - jovyan supergroup          0 2019-01-02 15:41 wordcount_result_1546443686268331\n",
      "drwxr-xr-x   - jovyan supergroup          0 2019-01-02 15:56 wordcount_result_1546444590916946\n",
      "drwxr-xr-x   - jovyan supergroup          0 2019-01-02 15:58 wordcount_result_1546444665794000\n",
      "drwxr-xr-x   - jovyan supergroup          0 2019-01-02 16:07 wordcount_result_1546445202709560\n",
      "drwxr-xr-x   - jovyan supergroup          0 2019-01-02 16:11 wordcount_result_1546445482525898\n",
      "drwxr-xr-x   - jovyan supergroup          0 2019-01-02 16:13 wordcount_result_1546445583214647\n",
      "drwxr-xr-x   - jovyan supergroup          0 2019-01-02 16:15 wordcount_result_1546445695477641\n",
      "drwxr-xr-x   - jovyan supergroup          0 2019-01-03 13:00 wordcount_result_1546520419559962\n",
      "drwxr-xr-x   - jovyan supergroup          0 2019-01-03 13:01 wordcount_result_1546520483673609\n",
      "drwxr-xr-x   - jovyan supergroup          0 2019-01-03 13:02 wordcount_result_1546520539835707\n",
      "drwxr-xr-x   - jovyan supergroup          0 2019-01-04 17:36 wordcount_result_1546623357768762\n",
      "drwxr-xr-x   - jovyan supergroup          0 2019-01-04 17:38 wordcount_result_1546623461743748\n",
      "drwxr-xr-x   - jovyan supergroup          0 2019-01-04 17:39 wordcount_result_1546623537042546\n",
      "drwxr-xr-x   - jovyan supergroup          0 2019-01-05 16:19 wordcount_result_1546705121107718\n",
      "drwxr-xr-x   - jovyan supergroup          0 2019-01-05 16:33 wordcount_result_1546705926009985\n"
     ]
    }
   ],
   "source": [
    "!hdfs dfs -ls /datasets/stop_words_en.txt ."
   ]
  },
  {
   "cell_type": "code",
   "execution_count": 16,
   "metadata": {
    "colab": {
     "autoexec": {
      "startup": false,
      "wait_interval": 0
     }
    },
    "colab_type": "code",
    "id": "KU56zkC0S80M"
   },
   "outputs": [
    {
     "name": "stdout",
     "output_type": "stream",
     "text": [
      "Overwriting mapper.py\n"
     ]
    }
   ],
   "source": [
    "%%writefile mapper.py\n",
    "\n",
    "\n",
    "import sys\n",
    "import re\n",
    "\n",
    "\n",
    "reload(sys)\n",
    "sys.setdefaultencoding('utf-8')  # required to convert to unicode\n",
    "\n",
    "path = 'stop_words_en.txt'\n",
    "\n",
    "# Your code for reading stop words here\n",
    "stopWords = open(path).read().split()\n",
    "\n",
    "wordSum, stopWordSum = 0, 0\n",
    "\n",
    "for line in sys.stdin:\n",
    "    try:\n",
    "        article_id, text = unicode(line.strip()).split('\\t', 1)\n",
    "    except ValueError as e:\n",
    "        continue\n",
    "\n",
    "    words = re.split(\"\\W*\\s+\\W*\", text, flags=re.UNICODE)\n",
    "\n",
    "    # Your code for mapper here.\n",
    "    for word in words:\n",
    "        if word in stopWords:\n",
    "            stopWordSum += 1\n",
    "            continue\n",
    "            #print >> sys.stderr, \"reporter:counter:Stop words,1\"\n",
    "        #wordSum += 1\n",
    "        #print >> sys.stderr, \"reporter:counter:Total words, 1\"\n",
    "    wordSum += len(words)\n",
    "    \n",
    "print >> sys.stderr, \"reporter:counter:Total words,%d\" % wordSum\n",
    "print >> sys.stderr, \"reporter:counter:Stop words,%d\" % stopWordSum\n",
    "\n",
    "print \"wordSum-stopWordSum\\t%d\\t%d\" % (wordSum, stopWordSum)"
   ]
  },
  {
   "cell_type": "markdown",
   "metadata": {
    "colab_type": "text",
    "id": "-3EM-tBES80O"
   },
   "source": [
    "## Step 2. Create the reducer.\n",
    "\n",
    "Create the reducer, which will accumulate the information after the mapper step. You may implement the combiner if you want. It can be useful from optimizing and speed up your computations (see the lectures from the Week 2 for more details)."
   ]
  },
  {
   "cell_type": "code",
   "execution_count": 17,
   "metadata": {
    "colab": {
     "autoexec": {
      "startup": false,
      "wait_interval": 0
     }
    },
    "colab_type": "code",
    "id": "yslvpwpfS80P"
   },
   "outputs": [
    {
     "name": "stdout",
     "output_type": "stream",
     "text": [
      "Overwriting reducer.py\n"
     ]
    }
   ],
   "source": [
    "%%writefile reducer.py\n",
    "\n",
    "# Your code for reducer here.\n",
    "import sys\n",
    "\n",
    "totalWords, totalStopWords = 0, 0\n",
    "\n",
    "for line in sys.stdin:\n",
    "    try:\n",
    "        _, wordSum, stopWordSum = line.strip().split('\\t')\n",
    "    except:\n",
    "        continue\n",
    "    totalWords += int(wordSum)\n",
    "    totalStopWords += int(stopWordSum)\n",
    "    \n",
    "print \"wordSum-stopWordSum\\t%d\\t%d\" % (totalWords, totalStopWords)\n",
    "    "
   ]
  },
  {
   "cell_type": "code",
   "execution_count": 20,
   "metadata": {},
   "outputs": [
    {
     "name": "stdout",
     "output_type": "stream",
     "text": [
      "wordSum-stopWordSum\t11937375\t4588771\n"
     ]
    }
   ],
   "source": [
    "%%bash\n",
    "\n",
    "# Code for your first job\n",
    "# yarn jar /opt/cloudera/parcels/CDH/lib/hadoop-mapreduce/hadoop-streaming.jar ...\n",
    "\n",
    "OUT_DIR=\"stopword_result_\"$(date +\"%s%6N\")\n",
    "NUM_REDUCERS=1\n",
    "LOGS=\"stderr_logs.txt\"\n",
    "\n",
    "#hdfs dfs -rm -r -skipTrash ${OUT_DIR} > /dev/null\n",
    "\n",
    "yarn jar /opt/cloudera/parcels/CDH/lib/hadoop-mapreduce/hadoop-streaming.jar \\\n",
    "    -D mapreduce.job.name=\"Stop wordCount\" \\\n",
    "    -D mapreduce.job.reduces=${NUM_REDUCERS} \\\n",
    "    -files mapper.py,reducer.py,hdfs:///datasets/stop_words_en.txt \\\n",
    "    -mapper \"python mapper.py\" \\\n",
    "    -reducer \"python reducer.py\" \\\n",
    "    -input /data/wiki/en_articles_part \\\n",
    "    -output ${OUT_DIR} > /dev/null 2> $LOGS\n",
    "    \n",
    "hdfs dfs -cat ${OUT_DIR}/*\n"
   ]
  },
  {
   "cell_type": "code",
   "execution_count": 19,
   "metadata": {},
   "outputs": [
    {
     "name": "stdout",
     "output_type": "stream",
     "text": [
      "Found 35 items\n",
      "drwxr-xr-x   - jovyan supergroup          0 2019-01-06 16:53 stopword_result_1546793348791328\n",
      "drwxr-xr-x   - jovyan supergroup          0 2019-01-06 17:05 stopword_result_1546794183590560\n",
      "drwxr-xr-x   - jovyan supergroup          0 2019-01-06 18:28 stopword_result_1546799165944677\n",
      "drwxr-xr-x   - jovyan supergroup          0 2019-01-06 18:34 stopword_result_1546799497038878\n",
      "drwxr-xr-x   - jovyan supergroup          0 2019-01-08 14:44 stopword_result_1546958521159072\n",
      "drwxr-xr-x   - jovyan supergroup          0 2019-01-08 15:51 stopword_result_1546962541892332\n",
      "drwxr-xr-x   - jovyan supergroup          0 2019-01-08 16:00 stopword_result_1546963051786177\n",
      "drwxr-xr-x   - jovyan supergroup          0 2019-01-08 18:07 stopword_result_1546970690716924\n",
      "drwxr-xr-x   - jovyan supergroup          0 2019-01-04 17:42 test\n",
      "drwxr-xr-x   - jovyan supergroup          0 2019-01-05 16:15 test_result\n",
      "drwxr-xr-x   - jovyan supergroup          0 2019-01-02 12:50 wordcount_result_1546433333935161\n",
      "drwxr-xr-x   - jovyan supergroup          0 2019-01-02 13:16 wordcount_result_1546434974465272\n",
      "drwxr-xr-x   - jovyan supergroup          0 2019-01-02 13:21 wordcount_result_1546435279584368\n",
      "drwxr-xr-x   - jovyan supergroup          0 2019-01-02 13:25 wordcount_result_1546435501138649\n",
      "drwxr-xr-x   - jovyan supergroup          0 2019-01-02 13:29 wordcount_result_1546435765144579\n",
      "drwxr-xr-x   - jovyan supergroup          0 2019-01-02 15:31 wordcount_result_1546443061063910\n",
      "drwxr-xr-x   - jovyan supergroup          0 2019-01-02 15:33 wordcount_result_1546443169076190\n",
      "drwxr-xr-x   - jovyan supergroup          0 2019-01-02 15:35 wordcount_result_1546443306282910\n",
      "drwxr-xr-x   - jovyan supergroup          0 2019-01-02 15:36 wordcount_result_1546443354003761\n",
      "drwxr-xr-x   - jovyan supergroup          0 2019-01-02 15:40 wordcount_result_1546443584309483\n",
      "drwxr-xr-x   - jovyan supergroup          0 2019-01-02 15:41 wordcount_result_1546443686268331\n",
      "drwxr-xr-x   - jovyan supergroup          0 2019-01-02 15:56 wordcount_result_1546444590916946\n",
      "drwxr-xr-x   - jovyan supergroup          0 2019-01-02 15:58 wordcount_result_1546444665794000\n",
      "drwxr-xr-x   - jovyan supergroup          0 2019-01-02 16:07 wordcount_result_1546445202709560\n",
      "drwxr-xr-x   - jovyan supergroup          0 2019-01-02 16:11 wordcount_result_1546445482525898\n",
      "drwxr-xr-x   - jovyan supergroup          0 2019-01-02 16:13 wordcount_result_1546445583214647\n",
      "drwxr-xr-x   - jovyan supergroup          0 2019-01-02 16:15 wordcount_result_1546445695477641\n",
      "drwxr-xr-x   - jovyan supergroup          0 2019-01-03 13:00 wordcount_result_1546520419559962\n",
      "drwxr-xr-x   - jovyan supergroup          0 2019-01-03 13:01 wordcount_result_1546520483673609\n",
      "drwxr-xr-x   - jovyan supergroup          0 2019-01-03 13:02 wordcount_result_1546520539835707\n",
      "drwxr-xr-x   - jovyan supergroup          0 2019-01-04 17:36 wordcount_result_1546623357768762\n",
      "drwxr-xr-x   - jovyan supergroup          0 2019-01-04 17:38 wordcount_result_1546623461743748\n",
      "drwxr-xr-x   - jovyan supergroup          0 2019-01-04 17:39 wordcount_result_1546623537042546\n",
      "drwxr-xr-x   - jovyan supergroup          0 2019-01-05 16:19 wordcount_result_1546705121107718\n",
      "drwxr-xr-x   - jovyan supergroup          0 2019-01-05 16:33 wordcount_result_1546705926009985\n"
     ]
    }
   ],
   "source": [
    "!hdfs dfs -\n"
   ]
  },
  {
   "cell_type": "markdown",
   "metadata": {
    "colab_type": "text",
    "id": "MZQKrDecS80Q"
   },
   "source": [
    "## Step 3. Create the parsed function.\n",
    "\n",
    "<b>Hint:</b> Create the function, which will parse MapReduce sys.stderr for Total word and Stop word amounts.\n",
    "\n",
    "The `./counter_process.py` script should do the following:\n",
    "\n",
    "- parse hadoop logs from Stderr,\n",
    "\n",
    "- retrieve values of 2 user-defined counters,\n",
    "\n",
    "- compute percentage and output it into the stdout."
   ]
  },
  {
   "cell_type": "code",
   "execution_count": 0,
   "metadata": {
    "colab": {
     "autoexec": {
      "startup": false,
      "wait_interval": 0
     }
    },
    "colab_type": "code",
    "id": "XptufhbMS80R"
   },
   "outputs": [],
   "source": [
    "%%writefile counter_process.py\n",
    "\n",
    "#! /usr/bin/env python\n",
    "\n",
    "import sys\n",
    "\n",
    "# Your functions may be here.\n",
    "\n",
    "\n",
    "\n",
    "if __name__ == '__main__':\n",
    "    # Your code here."
   ]
  },
  {
   "cell_type": "markdown",
   "metadata": {
    "colab_type": "text",
    "id": "O_7XrxbKS80S"
   },
   "source": [
    "## Step 4. Bash commands\n",
    "\n",
    "<b> Hints: </b> \n",
    "\n",
    "1) If you want to redirect standard output to txt file you may use the following argument in yarn jar:\n",
    "\n",
    "```\n",
    "yarn ... \\\n",
    "  ... \\\n",
    "  -output ${OUT_DIR} > /dev/null 2> $LOGS\n",
    "```\n",
    "\n",
    "2) For printing the percentage of stop words in the entire dataset you may parse the MapReduce output. Parsed script may be written in Python code. \n",
    "\n",
    "To get the result you may use the UNIX pipe operator `|`. The output of the first command acts as an input to the second command (see lecture file-content-exploration-2 for more details).\n",
    "\n",
    "With this operator you may use command `cat` to redirect the output of MapReduce to ./counter_process.py with arguments, which correspond to the `\"Stop words\"` and `\"Total words\"` counters. Example is the following:\n",
    "\n",
    "`cat $LOGS | python ./counter_process.py \"Stop words\" \"Total words\"`\n",
    "\n",
    "Now something about Hadoop counters naming. \n",
    " - Built-in Hadoop counters usually have UPPER_CASE names. To make the grading system possible to distinguish your custom counters and system ones please use the following pattern for their naming: `[Aa]aaa...` (all except the first letters should be in lowercase);\n",
    " - Another points is how Hadoop sorts the counters. It sorts them lexicographically. Grading system reads your first counter as Stop words counter and the second as Total words. Please name you counters in such way that Hadoop set the Stop words counter before the Total words. \n",
    " \n",
    "E.g. \"Stop words\" and \"Total words\" names are Ok because they correspond both requirements.\n",
    "\n",
    "3) In Python code sys.argv is a list, which contains the command-line arguments passed to the script. The name of the script is in `sys.argv[0]`. Other arguments begin from `sys.argv[1]`.\n",
    "\n",
    "Hence, if you have two arguments, which you send from the Bash to your python script, you may use arguments in your script with the following command:\n",
    "\n",
    "`function(sys.argv[1], sys.argv[2])`\n",
    "\n",
    "4) Do not forget about printing your MapReduce output in the last cell. You may use the next command:\n",
    "\n",
    "`cat $LOGS >&2`"
   ]
  },
  {
   "cell_type": "code",
   "execution_count": 0,
   "metadata": {
    "colab": {
     "autoexec": {
      "startup": false,
      "wait_interval": 0
     }
    },
    "colab_type": "code",
    "id": "bG3omEqzS80S"
   },
   "outputs": [],
   "source": [
    "%%bash\n",
    "\n",
    "OUT_DIR=\"coursera_mr_task2\"$(date +\"%s%6N\")\n",
    "NUM_REDUCERS=8\n",
    "LOGS=\"stderr_logs.txt\"\n",
    "\n",
    "# Stub code for your job\n",
    "\n",
    "# yarn jar /opt/cloudera/parcels/CDH/lib/hadoop-mapreduce/hadoop-streaming.jar ...\n",
    "# ... \\\n",
    "#    -output ${OUT_DIR} > /dev/null 2> $LOGS\n",
    "    \n",
    "cat $LOGS | python ./counter_process.py \"Stop words\" \"Total words\"\n",
    "cat $LOGS >&2\n",
    "\n",
    "hdfs dfs -rm -r -skipTrash ${OUT_DIR} > /dev/null\n"
   ]
  }
 ],
 "metadata": {
  "colab": {
   "collapsed_sections": [],
   "default_view": {},
   "name": "702_to_students.ipynb",
   "provenance": [],
   "version": "0.3.2",
   "views": {}
  },
  "kernelspec": {
   "display_name": "Python 2",
   "language": "python",
   "name": "python2"
  },
  "language_info": {
   "codemirror_mode": {
    "name": "ipython",
    "version": 2
   },
   "file_extension": ".py",
   "mimetype": "text/x-python",
   "name": "python",
   "nbconvert_exporter": "python",
   "pygments_lexer": "ipython2",
   "version": "2.7.12"
  }
 },
 "nbformat": 4,
 "nbformat_minor": 1
}
