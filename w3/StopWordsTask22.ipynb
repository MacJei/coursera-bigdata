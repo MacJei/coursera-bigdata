{
 "cells": [
  {
   "cell_type": "markdown",
   "metadata": {
    "colab_type": "text",
    "id": "Xsd0oermS80K"
   },
   "source": [
    "# Hadoop Streaming assignment 2: Stop Words"
   ]
  },
  {
   "cell_type": "markdown",
   "metadata": {
    "colab_type": "text",
    "id": "V_0wfvKjS80L"
   },
   "source": [
    "The purpose of this task is to improve the previous \"Word rating\" program. You have to calculate how many stop words are there in the input dataset. Stop words list is in `/datasets/stop_words_en.txt` file. \n",
    "\n",
    "Use Hadoop counters to compute the number of stop words and total words in the dataset. The result is the percentage of stop words in the entire dataset (without percent symbol).\n",
    "\n",
    "There are several points for this task:\n",
    "\n",
    "1) As an output, you have to get the percentage of stop words in the entire dataset without percent symbol (correct answer on sample dataset is `41.603`).\n",
    "\n",
    "2) As you can see in the Hadoop Streaming userguide \"you will need to use `-files` option to tell the framework to pack your executable files as a part of a job submission.\"\n",
    "\n",
    "3) Do not forget to redirect junk output to `/dev/null`.\n",
    "\n",
    "4) You may modify mappers/reducers from \"Word rating\" task and parse its output to get the answer on \"Stop Words\" task.\n",
    "\n",
    "5) You may use mapper/reducer to get `\"Stop Words\"` and `\"Total Words\"` amounts and redirect them to sys.stderr. After that you may redirect the output of MapReduce to the parsed function. In this function you may find rows correspond to these amounts and compute the percentage.\n",
    "\n",
    "Here you can find the draft for the main steps of the task. You can use other methods to get the solution."
   ]
  },
  {
   "cell_type": "markdown",
   "metadata": {
    "colab_type": "text",
    "id": "EpO7whLNS80M"
   },
   "source": [
    "## Step 1. Create the mapper.\n",
    "\n",
    "<b>Hint:</b> Create the mapper, which calculates Total word and Stop word amounts. You may redirect this information to sys.stderr. This will make it possible to parse these data on the next steps.\n",
    "\n",
    "Example of the redirections:\n",
    "\n",
    "`print >> sys.stderr, \"reporter:counter:Wiki stats,Total words,%d\" % count`\n",
    "\n",
    "Remember about the Distributed cache. If we add option `-files mapper.py,reducer.py,/datasets/stop_words_en.txt`, then `mapper.py, reducer.py` and `stop_words_en.txt` file will be in the same directory on the datanodes. Hence, it is necessary to use a relative path `stop_words_en.txt` from the mapper to access this txt file."
   ]
  },
  {
   "cell_type": "code",
   "execution_count": 1,
   "metadata": {},
   "outputs": [
    {
     "name": "stdout",
     "output_type": "stream",
     "text": [
      "-rw-r--r--   1 jovyan supergroup       1914 2018-08-01 17:15 /datasets/stop_words_en.txt\r\n"
     ]
    }
   ],
   "source": [
    "!hdfs dfs -ls /datasets/stop_words_en.txt ."
   ]
  },
  {
   "cell_type": "code",
   "execution_count": 22,
   "metadata": {
    "colab": {
     "autoexec": {
      "startup": false,
      "wait_interval": 0
     }
    },
    "colab_type": "code",
    "id": "KU56zkC0S80M"
   },
   "outputs": [
    {
     "name": "stdout",
     "output_type": "stream",
     "text": [
      "Overwriting mapper.py\n"
     ]
    }
   ],
   "source": [
    "%%writefile mapper.py\n",
    "#!/usr/bin/env python\n",
    "\n",
    "from __future__ import print_function\n",
    "import sys\n",
    "import re\n",
    "\n",
    "\n",
    "reload(sys)\n",
    "sys.setdefaultencoding('utf-8')  # required to convert to unicode\n",
    "\n",
    "path = 'stop_words_en.txt'\n",
    "\n",
    "# Your code for reading stop words here\n",
    "stopWords =[]\n",
    "\n",
    "with open(path) as stopWordsFile:\n",
    "    for line in stopWordsFile:\n",
    "        try:\n",
    "            stopWords.append(unicode(line.strip()))\n",
    "        except ValueError as e:\n",
    "            continue\n",
    "\n",
    "wordSum, stopWordSum = 0, 0\n",
    "\n",
    "for line in sys.stdin:\n",
    "    try:\n",
    "        article_id, text = unicode(line.strip()).split('\\t', 1)\n",
    "    except ValueError as e:\n",
    "        continue\n",
    "\n",
    "    words = re.split(\"\\W*\\s+\\W*\", text.lower(), flags=re.UNICODE)\n",
    "    #words = re.findall(\"[a-z]+\", text.lower())\n",
    "    \n",
    "    # Your code for mapper here.\n",
    "    for word in words:\n",
    "        if word in stopWords:\n",
    "            stopWordSum += 1\n",
    "            #print >> sys.stderr, \"reporter:counter:Stop words,%d\" % 1\n",
    "            #print(\"reporter:counter:Personal Stats,Total words,1\", file= sys.stderr)\n",
    "            print(\"reporter:counter:Stop words,words found,%d\" % 1, file=sys.stderr) \n",
    "        wordSum += 1\n",
    "        #print >> sys.stderr, \"reporter:counter:Total words,%d\" % 1\n",
    "        print(\"reporter:counter:Total words,words found,%d\" % 1,file=sys.stderr )\n",
    "    #wordSum += len(words)\n",
    "    \n",
    "#print >> sys.stderr, \"reporter:counter:Total words,%d\" % wordSum\n",
    "#print >> sys.stderr, \"reporter:counter:Stop words,%d\" % stopWordSum\n",
    "\n",
    "print (\"wordSum-stopWordSum\\t%d\\t%d\" % (wordSum, stopWordSum))"
   ]
  },
  {
   "cell_type": "code",
   "execution_count": 23,
   "metadata": {},
   "outputs": [
    {
     "name": "stdout",
     "output_type": "stream",
     "text": [
      "Tue Jan 15 13:25:59 UTC 2019\r\n"
     ]
    }
   ],
   "source": [
    "!date"
   ]
  },
  {
   "cell_type": "markdown",
   "metadata": {
    "colab_type": "text",
    "id": "-3EM-tBES80O"
   },
   "source": [
    "## Step 2. Create the reducer.\n",
    "\n",
    "Create the reducer, which will accumulate the information after the mapper step. You may implement the combiner if you want. It can be useful from optimizing and speed up your computations (see the lectures from the Week 2 for more details)."
   ]
  },
  {
   "cell_type": "code",
   "execution_count": 24,
   "metadata": {
    "colab": {
     "autoexec": {
      "startup": false,
      "wait_interval": 0
     }
    },
    "colab_type": "code",
    "id": "yslvpwpfS80P"
   },
   "outputs": [
    {
     "name": "stdout",
     "output_type": "stream",
     "text": [
      "Overwriting reducer.py\n"
     ]
    }
   ],
   "source": [
    "%%writefile reducer.py\n",
    "\n",
    "# Your code for reducer here.\n",
    "import sys\n",
    "\n",
    "totalWords, totalStopWords = 0, 0\n",
    "\n",
    "for line in sys.stdin:\n",
    "    try:\n",
    "        _, wordSum, stopWordSum = line.strip().split('\\t')\n",
    "    except:\n",
    "        continue\n",
    "    totalWords += int(wordSum)\n",
    "    totalStopWords += int(stopWordSum)\n",
    "    \n",
    "print \"wordSum-stopWordSum\\t%d\\t%d\" % (totalWords, totalStopWords)\n",
    "    "
   ]
  },
  {
   "cell_type": "code",
   "execution_count": 25,
   "metadata": {},
   "outputs": [
    {
     "name": "stdout",
     "output_type": "stream",
     "text": [
      "-rw-rw-r-- 1 500 500 133866 Jun  2  2017 /opt/hadoop/share/hadoop/tools/lib/hadoop-streaming-2.8.1.jar\r\n"
     ]
    }
   ],
   "source": [
    "ls -l /opt/hadoop/share/hadoop/tools/lib/hadoop-streaming-2.8.1.jar"
   ]
  },
  {
   "cell_type": "code",
   "execution_count": 26,
   "metadata": {},
   "outputs": [
    {
     "name": "stdout",
     "output_type": "stream",
     "text": [
      "19/01/15 13:26:06 INFO client.RMProxy: Connecting to ResourceManager at /0.0.0.0:8032\n",
      "19/01/15 13:26:06 INFO client.RMProxy: Connecting to ResourceManager at /0.0.0.0:8032\n",
      "19/01/15 13:26:07 INFO mapred.FileInputFormat: Total input files to process : 1\n",
      "19/01/15 13:26:07 INFO mapreduce.JobSubmitter: number of splits:2\n",
      "19/01/15 13:26:07 INFO mapreduce.JobSubmitter: Submitting tokens for job: job_1547542376033_0017\n",
      "19/01/15 13:26:08 INFO impl.YarnClientImpl: Submitted application application_1547542376033_0017\n",
      "19/01/15 13:26:08 INFO mapreduce.Job: The url to track the job: http://6ebf3e0bce0a:8088/proxy/application_1547542376033_0017/\n",
      "19/01/15 13:26:08 INFO mapreduce.Job: Running job: job_1547542376033_0017\n",
      "19/01/15 13:26:15 INFO mapreduce.Job: Job job_1547542376033_0017 running in uber mode : false\n",
      "19/01/15 13:26:15 INFO mapreduce.Job:  map 0% reduce 0%\n",
      "19/01/15 13:26:32 INFO mapreduce.Job:  map 17% reduce 0%\n",
      "19/01/15 13:26:38 INFO mapreduce.Job:  map 26% reduce 0%\n",
      "19/01/15 13:26:44 INFO mapreduce.Job:  map 35% reduce 0%\n",
      "19/01/15 13:26:50 INFO mapreduce.Job:  map 44% reduce 0%\n",
      "19/01/15 13:26:56 INFO mapreduce.Job:  map 53% reduce 0%\n",
      "19/01/15 13:27:02 INFO mapreduce.Job:  map 62% reduce 0%\n",
      "19/01/15 13:27:08 INFO mapreduce.Job:  map 71% reduce 0%\n",
      "19/01/15 13:27:14 INFO mapreduce.Job:  map 80% reduce 0%\n",
      "19/01/15 13:27:20 INFO mapreduce.Job:  map 89% reduce 0%\n",
      "19/01/15 13:27:26 INFO mapreduce.Job:  map 98% reduce 0%\n",
      "19/01/15 13:27:27 INFO mapreduce.Job:  map 99% reduce 0%\n",
      "19/01/15 13:27:28 INFO mapreduce.Job:  map 100% reduce 0%\n",
      "19/01/15 13:27:28 INFO mapreduce.Job: Job job_1547542376033_0017 completed successfully\n",
      "19/01/15 13:27:28 INFO mapreduce.Job: Counters: 32\n",
      "\tFile System Counters\n",
      "\t\tFILE: Number of bytes read=0\n",
      "\t\tFILE: Number of bytes written=278920\n",
      "\t\tFILE: Number of read operations=0\n",
      "\t\tFILE: Number of large read operations=0\n",
      "\t\tFILE: Number of write operations=0\n",
      "\t\tHDFS: Number of bytes read=76874501\n",
      "\t\tHDFS: Number of bytes written=72\n",
      "\t\tHDFS: Number of read operations=10\n",
      "\t\tHDFS: Number of large read operations=0\n",
      "\t\tHDFS: Number of write operations=4\n",
      "\tJob Counters \n",
      "\t\tLaunched map tasks=2\n",
      "\t\tData-local map tasks=2\n",
      "\t\tTotal time spent by all maps in occupied slots (ms)=140964\n",
      "\t\tTotal time spent by all reduces in occupied slots (ms)=0\n",
      "\t\tTotal time spent by all map tasks (ms)=140964\n",
      "\t\tTotal vcore-milliseconds taken by all map tasks=140964\n",
      "\t\tTotal megabyte-milliseconds taken by all map tasks=144347136\n",
      "\tMap-Reduce Framework\n",
      "\t\tMap input records=4100\n",
      "\t\tMap output records=2\n",
      "\t\tInput split bytes=228\n",
      "\t\tSpilled Records=0\n",
      "\t\tFailed Shuffles=0\n",
      "\t\tMerged Map outputs=0\n",
      "\t\tGC time elapsed (ms)=594\n",
      "\t\tCPU time spent (ms)=192710\n",
      "\t\tPhysical memory (bytes) snapshot=352878592\n",
      "\t\tVirtual memory (bytes) snapshot=3927883776\n",
      "\t\tTotal committed heap usage (bytes)=241172480\n",
      "\tStop words\n",
      "\t\twords found=4966261\n",
      "\tTotal words\n",
      "\t\twords found=11937375\n",
      "\tFile Input Format Counters \n",
      "\t\tBytes Read=76874273\n",
      "\tFile Output Format Counters \n",
      "\t\tBytes Written=72\n",
      "19/01/15 13:27:28 INFO streaming.StreamJob: Output directory: stopword_result_1547558762418663\n",
      "wordSum-stopWordSum\t5956191\t2478244\n",
      "wordSum-stopWordSum\t5981184\t2488017\n"
     ]
    },
    {
     "name": "stderr",
     "output_type": "stream",
     "text": [
      "rm: `stopword_result_1547558762418663': No such file or directory\n"
     ]
    }
   ],
   "source": [
    "%%bash\n",
    "\n",
    "# Code for your first job\n",
    "# yarn jar /opt/cloudera/parcels/CDH/lib/hadoop-mapreduce/hadoop-streaming.jar ...\n",
    "\n",
    "OUT_DIR=\"stopword_result_\"$(date +\"%s%6N\")\n",
    "NUM_REDUCERS=0\n",
    "LOGS=\"stderr_logs.txt\"\n",
    "\n",
    "hdfs dfs -rm -r -skipTrash ${OUT_DIR} > /dev/null\n",
    "\n",
    "yarn jar /opt/cloudera/parcels/CDH/lib/hadoop-mapreduce/hadoop-streaming.jar \\\n",
    "    -D mapreduce.job.name=\"Stop wordCount\" \\\n",
    "    -D mapreduce.job.reduces=${NUM_REDUCERS} \\\n",
    "    -files mapper.py,reducer.py,/datasets/stop_words_en.txt \\\n",
    "    -mapper \"python mapper.py\" \\\n",
    "    -input /data/wiki/en_articles_part \\\n",
    "    -output ${OUT_DIR} > /dev/null 2> $LOGS\n",
    "\n",
    "cat $LOGS\n",
    "    \n",
    "hdfs dfs -cat ${OUT_DIR}/*\n"
   ]
  },
  {
   "cell_type": "code",
   "execution_count": 6,
   "metadata": {},
   "outputs": [
    {
     "name": "stdout",
     "output_type": "stream",
     "text": [
      "total 76\r\n",
      "-rw-r--r-- 1 jovyan users  1163 Jan 15 08:56 mapper.py\r\n",
      "-rw-r--r-- 1 jovyan root    868 May  2  2018 README.md\r\n",
      "-rw-r--r-- 1 jovyan users   344 Jan 15 08:56 reducer.py\r\n",
      "-rw-r--r-- 1 jovyan users  3520 Jan 15 08:59 stderr_logs.txt\r\n",
      "-rw-r--r-- 1 jovyan users 18052 Jan 15 08:59 StopWordsTask22.ipynb\r\n",
      "-rw-r--r-- 1 jovyan root  10072 Aug  1 17:10 StopWordsTask2.ipynb\r\n",
      "-rw-r--r-- 1 root   users   387 Jan 15 08:52 supervisord.log\r\n",
      "-rw-r--r-- 1 root   users     2 Jan 15 08:52 supervisord.pid\r\n",
      "-rw-r--r-- 1 jovyan root   9197 Aug  1 17:11 WordCountTask0.ipynb\r\n",
      "-rw-r--r-- 1 jovyan root   5771 Aug  1 17:10 WordsRatingTask1.ipynb\r\n"
     ]
    }
   ],
   "source": [
    "!ls -l\n"
   ]
  },
  {
   "cell_type": "code",
   "execution_count": 7,
   "metadata": {},
   "outputs": [
    {
     "name": "stdout",
     "output_type": "stream",
     "text": [
      "19/01/15 08:57:46 INFO client.RMProxy: Connecting to ResourceManager at /0.0.0.0:8032\r\n",
      "19/01/15 08:57:46 INFO client.RMProxy: Connecting to ResourceManager at /0.0.0.0:8032\r\n",
      "19/01/15 08:57:48 INFO mapred.FileInputFormat: Total input files to process : 1\r\n",
      "19/01/15 08:57:48 INFO mapreduce.JobSubmitter: number of splits:2\r\n",
      "19/01/15 08:57:48 INFO mapreduce.JobSubmitter: Submitting tokens for job: job_1547542376033_0001\r\n",
      "19/01/15 08:57:49 INFO impl.YarnClientImpl: Submitted application application_1547542376033_0001\r\n",
      "19/01/15 08:57:49 INFO mapreduce.Job: The url to track the job: http://6ebf3e0bce0a:8088/proxy/application_1547542376033_0001/\r\n",
      "19/01/15 08:57:49 INFO mapreduce.Job: Running job: job_1547542376033_0001\r\n",
      "19/01/15 08:57:56 INFO mapreduce.Job: Job job_1547542376033_0001 running in uber mode : false\r\n",
      "19/01/15 08:57:56 INFO mapreduce.Job:  map 0% reduce 0%\r\n",
      "19/01/15 08:58:13 INFO mapreduce.Job:  map 13% reduce 0%\r\n",
      "19/01/15 08:58:19 INFO mapreduce.Job:  map 20% reduce 0%\r\n",
      "19/01/15 08:58:25 INFO mapreduce.Job:  map 27% reduce 0%\r\n",
      "19/01/15 08:58:31 INFO mapreduce.Job:  map 34% reduce 0%\r\n",
      "19/01/15 08:58:37 INFO mapreduce.Job:  map 37% reduce 0%\r\n",
      "19/01/15 08:58:38 INFO mapreduce.Job:  map 41% reduce 0%\r\n",
      "19/01/15 08:58:43 INFO mapreduce.Job:  map 48% reduce 0%\r\n",
      "19/01/15 08:58:49 INFO mapreduce.Job:  map 54% reduce 0%\r\n",
      "19/01/15 08:58:55 INFO mapreduce.Job:  map 59% reduce 0%\r\n",
      "19/01/15 08:59:02 INFO mapreduce.Job:  map 65% reduce 0%\r\n",
      "19/01/15 08:59:08 INFO mapreduce.Job:  map 100% reduce 0%\r\n",
      "19/01/15 08:59:31 INFO mapreduce.Job:  map 100% reduce 100%\r\n",
      "19/01/15 08:59:36 INFO mapreduce.Job: Job job_1547542376033_0001 completed successfully\r\n",
      "19/01/15 08:59:36 INFO mapreduce.Job: Counters: 49\r\n",
      "\tFile System Counters\r\n",
      "\t\tFILE: Number of bytes read=82\r\n",
      "\t\tFILE: Number of bytes written=419470\r\n",
      "\t\tFILE: Number of read operations=0\r\n",
      "\t\tFILE: Number of large read operations=0\r\n",
      "\t\tFILE: Number of write operations=0\r\n",
      "\t\tHDFS: Number of bytes read=76874501\r\n",
      "\t\tHDFS: Number of bytes written=37\r\n",
      "\t\tHDFS: Number of read operations=9\r\n",
      "\t\tHDFS: Number of large read operations=0\r\n",
      "\t\tHDFS: Number of write operations=2\r\n",
      "\tJob Counters \r\n",
      "\t\tLaunched map tasks=2\r\n",
      "\t\tLaunched reduce tasks=1\r\n",
      "\t\tData-local map tasks=2\r\n",
      "\t\tTotal time spent by all maps in occupied slots (ms)=139196\r\n",
      "\t\tTotal time spent by all reduces in occupied slots (ms)=18628\r\n",
      "\t\tTotal time spent by all map tasks (ms)=139196\r\n",
      "\t\tTotal time spent by all reduce tasks (ms)=18628\r\n",
      "\t\tTotal vcore-milliseconds taken by all map tasks=139196\r\n",
      "\t\tTotal vcore-milliseconds taken by all reduce tasks=18628\r\n",
      "\t\tTotal megabyte-milliseconds taken by all map tasks=142536704\r\n",
      "\t\tTotal megabyte-milliseconds taken by all reduce tasks=19075072\r\n",
      "\tMap-Reduce Framework\r\n",
      "\t\tMap input records=4100\r\n",
      "\t\tMap output records=2\r\n",
      "\t\tMap output bytes=72\r\n",
      "\t\tMap output materialized bytes=88\r\n",
      "\t\tInput split bytes=228\r\n",
      "\t\tCombine input records=0\r\n",
      "\t\tCombine output records=0\r\n",
      "\t\tReduce input groups=1\r\n",
      "\t\tReduce shuffle bytes=88\r\n",
      "\t\tReduce input records=2\r\n",
      "\t\tReduce output records=1\r\n",
      "\t\tSpilled Records=4\r\n",
      "\t\tShuffled Maps =2\r\n",
      "\t\tFailed Shuffles=0\r\n",
      "\t\tMerged Map outputs=2\r\n",
      "\t\tGC time elapsed (ms)=1906\r\n",
      "\t\tCPU time spent (ms)=198140\r\n",
      "\t\tPhysical memory (bytes) snapshot=662319104\r\n",
      "\t\tVirtual memory (bytes) snapshot=5886210048\r\n",
      "\t\tTotal committed heap usage (bytes)=511705088\r\n",
      "\tShuffle Errors\r\n",
      "\t\tBAD_ID=0\r\n",
      "\t\tCONNECTION=0\r\n",
      "\t\tIO_ERROR=0\r\n",
      "\t\tWRONG_LENGTH=0\r\n",
      "\t\tWRONG_MAP=0\r\n",
      "\t\tWRONG_REDUCE=0\r\n",
      "\tFile Input Format Counters \r\n",
      "\t\tBytes Read=76874273\r\n",
      "\tFile Output Format Counters \r\n",
      "\t\tBytes Written=37\r\n",
      "19/01/15 08:59:36 INFO streaming.StreamJob: Output directory: stopword_result_1547542663173979\r\n"
     ]
    }
   ],
   "source": [
    "!cat stderr_logs.txt"
   ]
  },
  {
   "cell_type": "markdown",
   "metadata": {
    "colab_type": "text",
    "id": "MZQKrDecS80Q"
   },
   "source": [
    "## Step 3. Create the parsed function.\n",
    "\n",
    "<b>Hint:</b> Create the function, which will parse MapReduce sys.stderr for Total word and Stop word amounts.\n",
    "\n",
    "The `./counter_process.py` script should do the following:\n",
    "\n",
    "- parse hadoop logs from Stderr,\n",
    "\n",
    "- retrieve values of 2 user-defined counters,\n",
    "\n",
    "- compute percentage and output it into the stdout."
   ]
  },
  {
   "cell_type": "code",
   "execution_count": 0,
   "metadata": {
    "colab": {
     "autoexec": {
      "startup": false,
      "wait_interval": 0
     }
    },
    "colab_type": "code",
    "id": "XptufhbMS80R"
   },
   "outputs": [],
   "source": [
    "%%writefile counter_process.py\n",
    "\n",
    "#! /usr/bin/env python\n",
    "\n",
    "import sys\n",
    "\n",
    "# Your functions may be here.\n",
    "\n",
    "\n",
    "\n",
    "if __name__ == '__main__':\n",
    "    # Your code here."
   ]
  },
  {
   "cell_type": "markdown",
   "metadata": {
    "colab_type": "text",
    "id": "O_7XrxbKS80S"
   },
   "source": [
    "## Step 4. Bash commands\n",
    "\n",
    "<b> Hints: </b> \n",
    "\n",
    "1) If you want to redirect standard output to txt file you may use the following argument in yarn jar:\n",
    "\n",
    "```\n",
    "yarn ... \\\n",
    "  ... \\\n",
    "  -output ${OUT_DIR} > /dev/null 2> $LOGS\n",
    "```\n",
    "\n",
    "2) For printing the percentage of stop words in the entire dataset you may parse the MapReduce output. Parsed script may be written in Python code. \n",
    "\n",
    "To get the result you may use the UNIX pipe operator `|`. The output of the first command acts as an input to the second command (see lecture file-content-exploration-2 for more details).\n",
    "\n",
    "With this operator you may use command `cat` to redirect the output of MapReduce to ./counter_process.py with arguments, which correspond to the `\"Stop words\"` and `\"Total words\"` counters. Example is the following:\n",
    "\n",
    "`cat $LOGS | python ./counter_process.py \"Stop words\" \"Total words\"`\n",
    "\n",
    "Now something about Hadoop counters naming. \n",
    " - Built-in Hadoop counters usually have UPPER_CASE names. To make the grading system possible to distinguish your custom counters and system ones please use the following pattern for their naming: `[Aa]aaa...` (all except the first letters should be in lowercase);\n",
    " - Another points is how Hadoop sorts the counters. It sorts them lexicographically. Grading system reads your first counter as Stop words counter and the second as Total words. Please name you counters in such way that Hadoop set the Stop words counter before the Total words. \n",
    " \n",
    "E.g. \"Stop words\" and \"Total words\" names are Ok because they correspond both requirements.\n",
    "\n",
    "3) In Python code sys.argv is a list, which contains the command-line arguments passed to the script. The name of the script is in `sys.argv[0]`. Other arguments begin from `sys.argv[1]`.\n",
    "\n",
    "Hence, if you have two arguments, which you send from the Bash to your python script, you may use arguments in your script with the following command:\n",
    "\n",
    "`function(sys.argv[1], sys.argv[2])`\n",
    "\n",
    "4) Do not forget about printing your MapReduce output in the last cell. You may use the next command:\n",
    "\n",
    "`cat $LOGS >&2`"
   ]
  },
  {
   "cell_type": "code",
   "execution_count": 0,
   "metadata": {
    "colab": {
     "autoexec": {
      "startup": false,
      "wait_interval": 0
     }
    },
    "colab_type": "code",
    "id": "bG3omEqzS80S"
   },
   "outputs": [],
   "source": [
    "%%bash\n",
    "\n",
    "OUT_DIR=\"coursera_mr_task2\"$(date +\"%s%6N\")\n",
    "NUM_REDUCERS=8\n",
    "LOGS=\"stderr_logs.txt\"\n",
    "\n",
    "# Stub code for your job\n",
    "\n",
    "# yarn jar /opt/cloudera/parcels/CDH/lib/hadoop-mapreduce/hadoop-streaming.jar ...\n",
    "# ... \\\n",
    "#    -output ${OUT_DIR} > /dev/null 2> $LOGS\n",
    "    \n",
    "cat $LOGS | python ./counter_process.py \"Stop words\" \"Total words\"\n",
    "cat $LOGS >&2\n",
    "\n",
    "hdfs dfs -rm -r -skipTrash ${OUT_DIR} > /dev/null\n"
   ]
  },
  {
   "cell_type": "code",
   "execution_count": 12,
   "metadata": {},
   "outputs": [
    {
     "name": "stdout",
     "output_type": "stream",
     "text": [
      "19/01/15 12:53:53 INFO client.RMProxy: Connecting to ResourceManager at /0.0.0.0:8032\n",
      "19/01/15 12:53:54 INFO client.RMProxy: Connecting to ResourceManager at /0.0.0.0:8032\n",
      "19/01/15 12:53:55 INFO mapred.FileInputFormat: Total input files to process : 1\n",
      "19/01/15 12:53:55 INFO mapreduce.JobSubmitter: number of splits:2\n",
      "19/01/15 12:53:55 INFO mapreduce.JobSubmitter: Submitting tokens for job: job_1547542376033_0012\n",
      "19/01/15 12:53:55 INFO impl.YarnClientImpl: Submitted application application_1547542376033_0012\n",
      "19/01/15 12:53:55 INFO mapreduce.Job: The url to track the job: http://6ebf3e0bce0a:8088/proxy/application_1547542376033_0012/\n",
      "19/01/15 12:53:55 INFO mapreduce.Job: Running job: job_1547542376033_0012\n",
      "19/01/15 12:54:01 INFO mapreduce.Job: Job job_1547542376033_0012 running in uber mode : false\n",
      "19/01/15 12:54:01 INFO mapreduce.Job:  map 0% reduce 0%\n",
      "19/01/15 12:54:05 INFO mapreduce.Job: Task Id : attempt_1547542376033_0012_m_000001_0, Status : FAILED\n",
      "Error: java.lang.RuntimeException: PipeMapRed.waitOutputThreads(): subprocess failed with code 1\n",
      "\tat org.apache.hadoop.streaming.PipeMapRed.waitOutputThreads(PipeMapRed.java:325)\n",
      "\tat org.apache.hadoop.streaming.PipeMapRed.mapRedFinished(PipeMapRed.java:538)\n",
      "\tat org.apache.hadoop.streaming.PipeMapper.close(PipeMapper.java:130)\n",
      "\tat org.apache.hadoop.mapred.MapRunner.run(MapRunner.java:61)\n",
      "\tat org.apache.hadoop.streaming.PipeMapRunner.run(PipeMapRunner.java:34)\n",
      "\tat org.apache.hadoop.mapred.MapTask.runOldMapper(MapTask.java:453)\n",
      "\tat org.apache.hadoop.mapred.MapTask.run(MapTask.java:343)\n",
      "\tat org.apache.hadoop.mapred.YarnChild$2.run(YarnChild.java:175)\n",
      "\tat java.security.AccessController.doPrivileged(Native Method)\n",
      "\tat javax.security.auth.Subject.doAs(Subject.java:422)\n",
      "\tat org.apache.hadoop.security.UserGroupInformation.doAs(UserGroupInformation.java:1807)\n",
      "\tat org.apache.hadoop.mapred.YarnChild.main(YarnChild.java:169)\n",
      "\n",
      "19/01/15 12:54:05 INFO mapreduce.Job: Task Id : attempt_1547542376033_0012_m_000000_0, Status : FAILED\n",
      "Error: java.lang.RuntimeException: PipeMapRed.waitOutputThreads(): subprocess failed with code 1\n",
      "\tat org.apache.hadoop.streaming.PipeMapRed.waitOutputThreads(PipeMapRed.java:325)\n",
      "\tat org.apache.hadoop.streaming.PipeMapRed.mapRedFinished(PipeMapRed.java:538)\n",
      "\tat org.apache.hadoop.streaming.PipeMapper.close(PipeMapper.java:130)\n",
      "\tat org.apache.hadoop.mapred.MapRunner.run(MapRunner.java:61)\n",
      "\tat org.apache.hadoop.streaming.PipeMapRunner.run(PipeMapRunner.java:34)\n",
      "\tat org.apache.hadoop.mapred.MapTask.runOldMapper(MapTask.java:453)\n",
      "\tat org.apache.hadoop.mapred.MapTask.run(MapTask.java:343)\n",
      "\tat org.apache.hadoop.mapred.YarnChild$2.run(YarnChild.java:175)\n",
      "\tat java.security.AccessController.doPrivileged(Native Method)\n",
      "\tat javax.security.auth.Subject.doAs(Subject.java:422)\n",
      "\tat org.apache.hadoop.security.UserGroupInformation.doAs(UserGroupInformation.java:1807)\n",
      "\tat org.apache.hadoop.mapred.YarnChild.main(YarnChild.java:169)\n",
      "\n",
      "19/01/15 12:54:09 INFO mapreduce.Job: Task Id : attempt_1547542376033_0012_m_000001_1, Status : FAILED\n",
      "Error: java.lang.RuntimeException: PipeMapRed.waitOutputThreads(): subprocess failed with code 1\n",
      "\tat org.apache.hadoop.streaming.PipeMapRed.waitOutputThreads(PipeMapRed.java:325)\n",
      "\tat org.apache.hadoop.streaming.PipeMapRed.mapRedFinished(PipeMapRed.java:538)\n",
      "\tat org.apache.hadoop.streaming.PipeMapper.close(PipeMapper.java:130)\n",
      "\tat org.apache.hadoop.mapred.MapRunner.run(MapRunner.java:61)\n",
      "\tat org.apache.hadoop.streaming.PipeMapRunner.run(PipeMapRunner.java:34)\n",
      "\tat org.apache.hadoop.mapred.MapTask.runOldMapper(MapTask.java:453)\n",
      "\tat org.apache.hadoop.mapred.MapTask.run(MapTask.java:343)\n",
      "\tat org.apache.hadoop.mapred.YarnChild$2.run(YarnChild.java:175)\n",
      "\tat java.security.AccessController.doPrivileged(Native Method)\n",
      "\tat javax.security.auth.Subject.doAs(Subject.java:422)\n",
      "\tat org.apache.hadoop.security.UserGroupInformation.doAs(UserGroupInformation.java:1807)\n",
      "\tat org.apache.hadoop.mapred.YarnChild.main(YarnChild.java:169)\n",
      "\n",
      "19/01/15 12:54:10 INFO mapreduce.Job: Task Id : attempt_1547542376033_0012_m_000000_1, Status : FAILED\n",
      "Error: java.lang.RuntimeException: PipeMapRed.waitOutputThreads(): subprocess failed with code 1\n",
      "\tat org.apache.hadoop.streaming.PipeMapRed.waitOutputThreads(PipeMapRed.java:325)\n",
      "\tat org.apache.hadoop.streaming.PipeMapRed.mapRedFinished(PipeMapRed.java:538)\n",
      "\tat org.apache.hadoop.streaming.PipeMapper.close(PipeMapper.java:130)\n",
      "\tat org.apache.hadoop.mapred.MapRunner.run(MapRunner.java:61)\n",
      "\tat org.apache.hadoop.streaming.PipeMapRunner.run(PipeMapRunner.java:34)\n",
      "\tat org.apache.hadoop.mapred.MapTask.runOldMapper(MapTask.java:453)\n",
      "\tat org.apache.hadoop.mapred.MapTask.run(MapTask.java:343)\n",
      "\tat org.apache.hadoop.mapred.YarnChild$2.run(YarnChild.java:175)\n",
      "\tat java.security.AccessController.doPrivileged(Native Method)\n",
      "\tat javax.security.auth.Subject.doAs(Subject.java:422)\n",
      "\tat org.apache.hadoop.security.UserGroupInformation.doAs(UserGroupInformation.java:1807)\n",
      "\tat org.apache.hadoop.mapred.YarnChild.main(YarnChild.java:169)\n",
      "\n",
      "19/01/15 12:54:14 INFO mapreduce.Job: Task Id : attempt_1547542376033_0012_m_000001_2, Status : FAILED\n",
      "Error: java.lang.RuntimeException: PipeMapRed.waitOutputThreads(): subprocess failed with code 1\n",
      "\tat org.apache.hadoop.streaming.PipeMapRed.waitOutputThreads(PipeMapRed.java:325)\n",
      "\tat org.apache.hadoop.streaming.PipeMapRed.mapRedFinished(PipeMapRed.java:538)\n",
      "\tat org.apache.hadoop.streaming.PipeMapper.close(PipeMapper.java:130)\n",
      "\tat org.apache.hadoop.mapred.MapRunner.run(MapRunner.java:61)\n",
      "\tat org.apache.hadoop.streaming.PipeMapRunner.run(PipeMapRunner.java:34)\n",
      "\tat org.apache.hadoop.mapred.MapTask.runOldMapper(MapTask.java:453)\n",
      "\tat org.apache.hadoop.mapred.MapTask.run(MapTask.java:343)\n",
      "\tat org.apache.hadoop.mapred.YarnChild$2.run(YarnChild.java:175)\n",
      "\tat java.security.AccessController.doPrivileged(Native Method)\n",
      "\tat javax.security.auth.Subject.doAs(Subject.java:422)\n",
      "\tat org.apache.hadoop.security.UserGroupInformation.doAs(UserGroupInformation.java:1807)\n",
      "\tat org.apache.hadoop.mapred.YarnChild.main(YarnChild.java:169)\n",
      "\n",
      "19/01/15 12:54:15 INFO mapreduce.Job: Task Id : attempt_1547542376033_0012_m_000000_2, Status : FAILED\n",
      "Error: java.lang.RuntimeException: PipeMapRed.waitOutputThreads(): subprocess failed with code 1\n",
      "\tat org.apache.hadoop.streaming.PipeMapRed.waitOutputThreads(PipeMapRed.java:325)\n",
      "\tat org.apache.hadoop.streaming.PipeMapRed.mapRedFinished(PipeMapRed.java:538)\n",
      "\tat org.apache.hadoop.streaming.PipeMapper.close(PipeMapper.java:130)\n",
      "\tat org.apache.hadoop.mapred.MapRunner.run(MapRunner.java:61)\n",
      "\tat org.apache.hadoop.streaming.PipeMapRunner.run(PipeMapRunner.java:34)\n",
      "\tat org.apache.hadoop.mapred.MapTask.runOldMapper(MapTask.java:453)\n",
      "\tat org.apache.hadoop.mapred.MapTask.run(MapTask.java:343)\n",
      "\tat org.apache.hadoop.mapred.YarnChild$2.run(YarnChild.java:175)\n",
      "\tat java.security.AccessController.doPrivileged(Native Method)\n",
      "\tat javax.security.auth.Subject.doAs(Subject.java:422)\n",
      "\tat org.apache.hadoop.security.UserGroupInformation.doAs(UserGroupInformation.java:1807)\n",
      "\tat org.apache.hadoop.mapred.YarnChild.main(YarnChild.java:169)\n",
      "\n",
      "19/01/15 12:54:19 INFO mapreduce.Job:  map 100% reduce 0%\n",
      "19/01/15 12:54:20 INFO mapreduce.Job: Job job_1547542376033_0012 failed with state FAILED due to: Task failed task_1547542376033_0012_m_000001\n",
      "Job failed as tasks failed. failedMaps:1 failedReduces:0\n",
      "\n",
      "19/01/15 12:54:20 INFO mapreduce.Job: Counters: 13\n",
      "\tJob Counters \n",
      "\t\tFailed map tasks=7\n",
      "\t\tKilled map tasks=1\n",
      "\t\tLaunched map tasks=8\n",
      "\t\tOther local map tasks=6\n",
      "\t\tData-local map tasks=2\n",
      "\t\tTotal time spent by all maps in occupied slots (ms)=19831\n",
      "\t\tTotal time spent by all reduces in occupied slots (ms)=0\n",
      "\t\tTotal time spent by all map tasks (ms)=19831\n",
      "\t\tTotal vcore-milliseconds taken by all map tasks=19831\n",
      "\t\tTotal megabyte-milliseconds taken by all map tasks=20306944\n",
      "\tMap-Reduce Framework\n",
      "\t\tCPU time spent (ms)=0\n",
      "\t\tPhysical memory (bytes) snapshot=0\n",
      "\t\tVirtual memory (bytes) snapshot=0\n",
      "19/01/15 12:54:20 ERROR streaming.StreamJob: Job not successful!\n",
      "Streaming Command Failed!\n"
     ]
    },
    {
     "name": "stderr",
     "output_type": "stream",
     "text": [
      "rm: `stopword_result_1547556830529285': No such file or directory\n",
      "cat: `stopword_result_1547556830529285/*': No such file or directory\n"
     ]
    }
   ],
   "source": [
    "%%bash\n",
    "\n",
    "# Code for your first job\n",
    "# yarn jar /opt/cloudera/parcels/CDH/lib/hadoop-mapreduce/hadoop-streaming.jar ...\n",
    "\n",
    "OUT_DIR=\"stopword_result_\"$(date +\"%s%6N\")\n",
    "NUM_REDUCERS=0\n",
    "LOGS=\"stderr_logs.txt\"\n",
    "\n",
    "hdfs dfs -rm -r -skipTrash ${OUT_DIR} > /dev/null\n",
    "\n",
    "yarn jar /opt/cloudera/parcels/CDH/lib/hadoop-mapreduce/hadoop-streaming.jar \\\n",
    "    -D mapreduce.job.name=\"Stop wordCount\" \\\n",
    "    -D mapreduce.job.reduces=${NUM_REDUCERS} \\\n",
    "    -files mapper.py,reducer.py,/datasets/stop_words_en.txt \\\n",
    "    -mapper \"python mapper.py\" \\\n",
    "    -input /data/wiki/en_articles_part \\\n",
    "    -output ${OUT_DIR} > /dev/null 2> $LOGS\n",
    "\n",
    "cat $LOGS\n",
    "hdfs dfs -cat ${OUT_DIR}/*"
   ]
  },
  {
   "cell_type": "code",
   "execution_count": 8,
   "metadata": {},
   "outputs": [
    {
     "name": "stdout",
     "output_type": "stream",
     "text": [
      "19/01/15 12:05:02 INFO client.RMProxy: Connecting to ResourceManager at /0.0.0.0:8032\r\n",
      "19/01/15 12:05:02 INFO client.RMProxy: Connecting to ResourceManager at /0.0.0.0:8032\r\n",
      "19/01/15 12:05:03 INFO mapred.FileInputFormat: Total input files to process : 1\r\n",
      "19/01/15 12:05:03 INFO mapreduce.JobSubmitter: number of splits:2\r\n",
      "19/01/15 12:05:04 INFO mapreduce.JobSubmitter: Submitting tokens for job: job_1547542376033_0011\r\n",
      "19/01/15 12:05:04 INFO impl.YarnClientImpl: Submitted application application_1547542376033_0011\r\n",
      "19/01/15 12:05:04 INFO mapreduce.Job: The url to track the job: http://6ebf3e0bce0a:8088/proxy/application_1547542376033_0011/\r\n",
      "19/01/15 12:05:04 INFO mapreduce.Job: Running job: job_1547542376033_0011\r\n",
      "19/01/15 12:05:09 INFO mapreduce.Job: Job job_1547542376033_0011 running in uber mode : false\r\n",
      "19/01/15 12:05:09 INFO mapreduce.Job:  map 0% reduce 0%\r\n",
      "19/01/15 12:05:26 INFO mapreduce.Job:  map 28% reduce 0%\r\n",
      "19/01/15 12:05:33 INFO mapreduce.Job:  map 43% reduce 0%\r\n",
      "19/01/15 12:05:39 INFO mapreduce.Job:  map 57% reduce 0%\r\n",
      "19/01/15 12:05:45 INFO mapreduce.Job:  map 72% reduce 0%\r\n",
      "19/01/15 12:05:51 INFO mapreduce.Job:  map 86% reduce 0%\r\n",
      "19/01/15 12:05:57 INFO mapreduce.Job:  map 100% reduce 0%\r\n",
      "19/01/15 12:05:57 INFO mapreduce.Job: Job job_1547542376033_0011 completed successfully\r\n",
      "19/01/15 12:05:57 INFO mapreduce.Job: Counters: 31\r\n",
      "\tFile System Counters\r\n",
      "\t\tFILE: Number of bytes read=0\r\n",
      "\t\tFILE: Number of bytes written=278920\r\n",
      "\t\tFILE: Number of read operations=0\r\n",
      "\t\tFILE: Number of large read operations=0\r\n",
      "\t\tFILE: Number of write operations=0\r\n",
      "\t\tHDFS: Number of bytes read=76874501\r\n",
      "\t\tHDFS: Number of bytes written=72\r\n",
      "\t\tHDFS: Number of read operations=10\r\n",
      "\t\tHDFS: Number of large read operations=0\r\n",
      "\t\tHDFS: Number of write operations=4\r\n",
      "\tJob Counters \r\n",
      "\t\tLaunched map tasks=2\r\n",
      "\t\tData-local map tasks=2\r\n",
      "\t\tTotal time spent by all maps in occupied slots (ms)=89556\r\n",
      "\t\tTotal time spent by all reduces in occupied slots (ms)=0\r\n",
      "\t\tTotal time spent by all map tasks (ms)=89556\r\n",
      "\t\tTotal vcore-milliseconds taken by all map tasks=89556\r\n",
      "\t\tTotal megabyte-milliseconds taken by all map tasks=91705344\r\n",
      "\tMap-Reduce Framework\r\n",
      "\t\tMap input records=4100\r\n",
      "\t\tMap output records=2\r\n",
      "\t\tInput split bytes=228\r\n",
      "\t\tSpilled Records=0\r\n",
      "\t\tFailed Shuffles=0\r\n",
      "\t\tMerged Map outputs=0\r\n",
      "\t\tGC time elapsed (ms)=291\r\n",
      "\t\tCPU time spent (ms)=101430\r\n",
      "\t\tPhysical memory (bytes) snapshot=340545536\r\n",
      "\t\tVirtual memory (bytes) snapshot=3927105536\r\n",
      "\t\tTotal committed heap usage (bytes)=227016704\r\n",
      "\tPersonal Stats\r\n",
      "\t\tTotal words=4966261\r\n",
      "\tFile Input Format Counters \r\n",
      "\t\tBytes Read=76874273\r\n",
      "\tFile Output Format Counters \r\n",
      "\t\tBytes Written=72\r\n",
      "19/01/15 12:05:57 INFO streaming.StreamJob: Output directory: stopword_result_1547553899166559\r\n"
     ]
    }
   ],
   "source": [
    "!cat stderr_logs.txt"
   ]
  },
  {
   "cell_type": "code",
   "execution_count": 3,
   "metadata": {},
   "outputs": [
    {
     "name": "stderr",
     "output_type": "stream",
     "text": [
      "Traceback (most recent call last):\n",
      "  File \"mapper.py\", line 7, in <module>\n",
      "    reload(sys)\n",
      "NameError: name 'reload' is not defined\n"
     ]
    }
   ],
   "source": [
    "%%bash\n",
    "\n",
    "ls -1 | python mapper.py"
   ]
  },
  {
   "cell_type": "code",
   "execution_count": 4,
   "metadata": {},
   "outputs": [
    {
     "name": "stdout",
     "output_type": "stream",
     "text": [
      "Traceback (most recent call last):\r\n",
      "  File \"mapper.py\", line 7, in <module>\r\n",
      "    reload(sys)\r\n",
      "NameError: name 'reload' is not defined\r\n"
     ]
    }
   ],
   "source": [
    "! ls -1 | python mapper.py"
   ]
  },
  {
   "cell_type": "code",
   "execution_count": 5,
   "metadata": {},
   "outputs": [
    {
     "name": "stdout",
     "output_type": "stream",
     "text": [
      "Traceback (most recent call last):\r\n",
      "  File \"mapper.py\", line 7, in <module>\r\n",
      "    reload(sys)\r\n",
      "NameError: name 'reload' is not defined\r\n"
     ]
    }
   ],
   "source": [
    "! cat test.txt | python mapper.py"
   ]
  },
  {
   "cell_type": "code",
   "execution_count": 20,
   "metadata": {},
   "outputs": [
    {
     "name": "stdout",
     "output_type": "stream",
     "text": [
      "#!/usr/bin/env python\r\n",
      "\r\n",
      "from __future__ import print_function\r\n",
      "import sys\r\n",
      "import re\r\n",
      "\r\n",
      "\r\n",
      "reload(sys)\r\n",
      "sys.setdefaultencoding('utf-8')  # required to convert to unicode\r\n",
      "\r\n",
      "path = 'stop_words_en.txt'\r\n",
      "\r\n",
      "# Your code for reading stop words here\r\n",
      "stopWords =[]\r\n",
      "\r\n",
      "with open(path) as stopWordsFile:\r\n",
      "    for line in stopWordsFile:\r\n",
      "        try:\r\n",
      "            stopWords.append(unicode(line.strip()))\r\n",
      "        except ValueError as e:\r\n",
      "            continue\r\n",
      "\r\n",
      "wordSum, stopWordSum = 0, 0\r\n",
      "\r\n",
      "for line in sys.stdin:\r\n",
      "    try:\r\n",
      "        article_id, text = unicode(line.strip()).split('\\t', 1)\r\n",
      "    except ValueError as e:\r\n",
      "        continue\r\n",
      "\r\n",
      "    words = re.split(\"\\W*\\s+\\W*\", text.lower(), flags=re.UNICODE)\r\n",
      "    #words = re.findall(\"[a-z]+\", text.lower())\r\n",
      "    \r\n",
      "    # Your code for mapper here.\r\n",
      "    for word in words:\r\n",
      "        if word in stopWords:\r\n",
      "            stopWordSum += 1\r\n",
      "            #print >> sys.stderr, \"reporter:counter:Stop words,%d\" % 1\r\n",
      "            #print(\"reporter:counter:Personal Stats,Total words,1\", file= sys.stderr)\r\n",
      "            print(\"reporter:counter:Stop words, words found, %d\" % 1, file=sys.stderr) \r\n",
      "        wordSum += 1\r\n",
      "        #print >> sys.stderr, \"reporter:counter:Total words,%d\" % 1\r\n",
      "        print(\"reporter:counter:Total words, words found, %d\" % 1,file=sys.stderr )\r\n",
      "    #wordSum += len(words)\r\n",
      "    \r\n",
      "#print >> sys.stderr, \"reporter:counter:Total words,%d\" % wordSum\r\n",
      "#print >> sys.stderr, \"reporter:counter:Stop words,%d\" % stopWordSum\r\n",
      "\r\n",
      "print (\"wordSum-stopWordSum\\t%d\\t%d\" % (wordSum, stopWordSum))"
     ]
    }
   ],
   "source": [
    "! cat mapper.py"
   ]
  },
  {
   "cell_type": "code",
   "execution_count": 10,
   "metadata": {},
   "outputs": [
    {
     "name": "stdout",
     "output_type": "stream",
     "text": [
      "Traceback (most recent call last):\r\n",
      "  File \"mapper.py\", line 9, in <module>\r\n",
      "    sys.setdefaultencoding('utf-8')  # required to convert to unicode\r\n",
      "AttributeError: module 'sys' has no attribute 'setdefaultencoding'\r\n"
     ]
    }
   ],
   "source": [
    "! /usr/bin/env python mapper.py"
   ]
  },
  {
   "cell_type": "code",
   "execution_count": null,
   "metadata": {},
   "outputs": [],
   "source": []
  }
 ],
 "metadata": {
  "colab": {
   "collapsed_sections": [],
   "default_view": {},
   "name": "702_to_students.ipynb",
   "provenance": [],
   "version": "0.3.2",
   "views": {}
  },
  "kernelspec": {
   "display_name": "Python 2",
   "language": "python",
   "name": "python2"
  },
  "language_info": {
   "codemirror_mode": {
    "name": "ipython",
    "version": 2
   },
   "file_extension": ".py",
   "mimetype": "text/x-python",
   "name": "python",
   "nbconvert_exporter": "python",
   "pygments_lexer": "ipython2",
   "version": "2.7.12"
  }
 },
 "nbformat": 4,
 "nbformat_minor": 1
}
