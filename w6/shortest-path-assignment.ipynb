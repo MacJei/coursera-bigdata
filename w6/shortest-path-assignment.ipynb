{
 "cells": [
  {
   "cell_type": "markdown",
   "metadata": {},
   "source": [
    "__Reconstructing the path__\n",
    "\n",
    "In this assignment you will use Spark to compute the shortest path between two vertices. In the video, you have learned how to compute the distances between a source vertex and all other vertices in a graph. Now, your task is to reconstruct the shortest path, that is a sequence of vertices connected by the edges.\n",
    "\n",
    "Dataset location: /data/twitter/twitter_sample_small.txt\n",
    "\n",
    "Format: user_id \\t follower_id\n",
    "\n",
    "You can start with the code described in \"Starter...\" (see the next self-reading).\n",
    "\n",
    "Your task is to find the shortest path between vertices 12 and 34. In case of multiple shortest paths (that is, disjoint paths with the same length), any will suffice. Output format is the sequence of vertices, delimited by a comma, without spaces. For example, the path “12 -> 42 -> 34” should be printed as:\n",
    "\n",
    "Hint: before submitting, check your stopping criteria. In BFS, the search was exhaustive, and in this task your program may terminate earlier, thus saving some precious time.\n",
    "\n",
    "The result on the sample dataset:\n",
    "\n",
    "12,422,53,52,107,20,23,274,34"
   ]
  },
  {
   "cell_type": "code",
   "execution_count": 1,
   "metadata": {},
   "outputs": [],
   "source": [
    "from pyspark import SparkConf, SparkContext\n",
    "sc = SparkContext(conf=SparkConf().setAppName(\"shortest path assignment\").setMaster(\"local\"))"
   ]
  },
  {
   "cell_type": "code",
   "execution_count": 3,
   "metadata": {},
   "outputs": [],
   "source": [
    "def parse_edge(s):\n",
    "  user, follower = s.split(\"\\t\")\n",
    "  return (int(user), int(follower))\n",
    "\n",
    "def step(item):\n",
    "  prev_v, prev_d, next_v = item[0], item[1][0], item[1][1]\n",
    "  return (next_v, prev_d + 1)\n",
    "\n",
    "def complete(item):\n",
    "  v, old_d, new_d = item[0], item[1][0], item[1][1]\n",
    "  return (v, old_d if old_d is not None else new_d)\n",
    "\n",
    "n = 400  # number of partitions\n",
    "edges = sc.textFile(\"/data/twitter/twitter_sample_small.txt\").map(parse_edge).cache()\n",
    "forward_edges = edges.map(lambda e: (e[1], e[0])).partitionBy(n).persist()\n",
    "\n",
    "x = 12\n",
    "d = 0\n",
    "distances = sc.parallelize([(x, d)]).partitionBy(n)\n",
    "while True:\n",
    "  candidates = distances.join(forward_edges, n).map(step)\n",
    "  new_distances = distances.fullOuterJoin(candidates, n).map(complete, True).persist()\n",
    "  count = new_distances.filter(lambda i: i[1] == d + 1).count()\n",
    "  if count > 0:\n",
    "    d += 1\n",
    "    distances = new_distances\n",
    "  else:\n",
    "    break"
   ]
  },
  {
   "cell_type": "code",
   "execution_count": 6,
   "metadata": {},
   "outputs": [
    {
     "data": {
      "text/plain": [
       "[(12, 0), (13, 4), (15, 5), (15, 5), (15, 5), (15, 5), (15, 5), (15, 5)]"
      ]
     },
     "execution_count": 6,
     "metadata": {},
     "output_type": "execute_result"
    }
   ],
   "source": [
    "# 15min\n",
    "distances.take(8)"
   ]
  },
  {
   "cell_type": "markdown",
   "metadata": {},
   "source": [
    "simple topology\n",
    "```\n",
    "  6\n",
    " /\\\n",
    "1--2\n",
    "|  |\n",
    "3--4\n",
    " \\/\n",
    " 5\n",
    "```"
   ]
  },
  {
   "cell_type": "code",
   "execution_count": 24,
   "metadata": {},
   "outputs": [],
   "source": [
    "edg = sc.parallelize([(1,2),(1,3),(2,1),(2,4),(3,1),(3,4),(4,3),(4,2),(3,5),(5,3),(4,5),(5,4),(6,1),(1,6),(6,2),(2,6)])"
   ]
  },
  {
   "cell_type": "code",
   "execution_count": 25,
   "metadata": {},
   "outputs": [],
   "source": [
    "fwd_edg = edg.map(lambda e: (e[1], e[0])) # swap"
   ]
  },
  {
   "cell_type": "code",
   "execution_count": 26,
   "metadata": {},
   "outputs": [
    {
     "data": {
      "text/plain": [
       "[(1, 2),\n",
       " (1, 3),\n",
       " (2, 1),\n",
       " (2, 4),\n",
       " (3, 1),\n",
       " (3, 4),\n",
       " (4, 3),\n",
       " (4, 2),\n",
       " (3, 5),\n",
       " (5, 3),\n",
       " (4, 5),\n",
       " (5, 4),\n",
       " (6, 1),\n",
       " (1, 6),\n",
       " (6, 2),\n",
       " (2, 6)]"
      ]
     },
     "execution_count": 26,
     "metadata": {},
     "output_type": "execute_result"
    }
   ],
   "source": [
    "edg.collect()"
   ]
  },
  {
   "cell_type": "code",
   "execution_count": 27,
   "metadata": {},
   "outputs": [
    {
     "data": {
      "text/plain": [
       "[(2, 1),\n",
       " (3, 1),\n",
       " (1, 2),\n",
       " (4, 2),\n",
       " (1, 3),\n",
       " (4, 3),\n",
       " (3, 4),\n",
       " (2, 4),\n",
       " (5, 3),\n",
       " (3, 5),\n",
       " (5, 4),\n",
       " (4, 5),\n",
       " (1, 6),\n",
       " (6, 1),\n",
       " (2, 6),\n",
       " (6, 2)]"
      ]
     },
     "execution_count": 27,
     "metadata": {},
     "output_type": "execute_result"
    }
   ],
   "source": [
    "fwd_edg.collect()"
   ]
  },
  {
   "cell_type": "code",
   "execution_count": 28,
   "metadata": {},
   "outputs": [
    {
     "data": {
      "text/plain": [
       "[(5, 0)]"
      ]
     },
     "execution_count": 28,
     "metadata": {},
     "output_type": "execute_result"
    }
   ],
   "source": [
    "src = (5, 0)\n",
    "dist = sc.parallelize([src])\n",
    "dist.collect()"
   ]
  },
  {
   "cell_type": "code",
   "execution_count": 29,
   "metadata": {},
   "outputs": [
    {
     "data": {
      "text/plain": [
       "[(5, (0, 3)), (5, (0, 4))]"
      ]
     },
     "execution_count": 29,
     "metadata": {},
     "output_type": "execute_result"
    }
   ],
   "source": [
    "dist_fwd_join = dist.join(fwd_edg)\n",
    "dist_fwd_join.collect()"
   ]
  },
  {
   "cell_type": "code",
   "execution_count": 30,
   "metadata": {},
   "outputs": [],
   "source": [
    "def step2(item): v, d, nv = item[0], item[1][0], item[1][1]; return (nv, (v, d))"
   ]
  },
  {
   "cell_type": "code",
   "execution_count": 33,
   "metadata": {},
   "outputs": [
    {
     "data": {
      "text/plain": [
       "[(3, (5, 0)), (4, (5, 0))]"
      ]
     },
     "execution_count": 33,
     "metadata": {},
     "output_type": "execute_result"
    }
   ],
   "source": [
    "dist_fwd_join.map(step2).collect()"
   ]
  },
  {
   "cell_type": "code",
   "execution_count": 34,
   "metadata": {},
   "outputs": [
    {
     "data": {
      "text/plain": [
       "[(3, (5, 0)), (4, (5, 0))]"
      ]
     },
     "execution_count": 34,
     "metadata": {},
     "output_type": "execute_result"
    }
   ],
   "source": [
    "cand = dist_fwd_join.map(step2)\n",
    "cand.collect()"
   ]
  },
  {
   "cell_type": "code",
   "execution_count": 35,
   "metadata": {},
   "outputs": [
    {
     "data": {
      "text/plain": [
       "[(3, ((5, 0), 1)),\n",
       " (3, ((5, 0), 4)),\n",
       " (3, ((5, 0), 5)),\n",
       " (4, ((5, 0), 2)),\n",
       " (4, ((5, 0), 3)),\n",
       " (4, ((5, 0), 5))]"
      ]
     },
     "execution_count": 35,
     "metadata": {},
     "output_type": "execute_result"
    }
   ],
   "source": [
    "new_cand = cand.join(fwd_edg)\n",
    "new_cand.collect()"
   ]
  },
  {
   "cell_type": "code",
   "execution_count": 36,
   "metadata": {},
   "outputs": [
    {
     "data": {
      "text/plain": [
       "5"
      ]
     },
     "execution_count": 36,
     "metadata": {},
     "output_type": "execute_result"
    }
   ],
   "source": [
    "new_cand.collect()[0][1][0][0]"
   ]
  },
  {
   "cell_type": "code",
   "execution_count": 37,
   "metadata": {},
   "outputs": [],
   "source": [
    "def complete2(item): \n",
    "    v, d, nv = item[0], item[1][0], item[1][1]; \n",
    "    path = d + (v,)\n",
    "    return (nv, (path), v)"
   ]
  },
  {
   "cell_type": "code",
   "execution_count": 38,
   "metadata": {},
   "outputs": [
    {
     "data": {
      "text/plain": [
       "[(1, (5, 0, 3), 3),\n",
       " (4, (5, 0, 3), 3),\n",
       " (5, (5, 0, 3), 3),\n",
       " (2, (5, 0, 4), 4),\n",
       " (3, (5, 0, 4), 4),\n",
       " (5, (5, 0, 4), 4)]"
      ]
     },
     "execution_count": 38,
     "metadata": {},
     "output_type": "execute_result"
    }
   ],
   "source": [
    "new_dist = new_cand.map(complete2)\n",
    "new_dist.collect()"
   ]
  },
  {
   "cell_type": "code",
   "execution_count": 39,
   "metadata": {},
   "outputs": [
    {
     "data": {
      "text/plain": [
       "[(4, ((5, 0, 3), 2)),\n",
       " (4, ((5, 0, 3), 3)),\n",
       " (4, ((5, 0, 3), 5)),\n",
       " (1, ((5, 0, 3), 2)),\n",
       " (1, ((5, 0, 3), 3)),\n",
       " (1, ((5, 0, 3), 6)),\n",
       " (5, ((5, 0, 3), 3)),\n",
       " (5, ((5, 0, 3), 4)),\n",
       " (5, ((5, 0, 4), 3)),\n",
       " (5, ((5, 0, 4), 4)),\n",
       " (2, ((5, 0, 4), 1)),\n",
       " (2, ((5, 0, 4), 4)),\n",
       " (2, ((5, 0, 4), 6)),\n",
       " (3, ((5, 0, 4), 1)),\n",
       " (3, ((5, 0, 4), 4)),\n",
       " (3, ((5, 0, 4), 5))]"
      ]
     },
     "execution_count": 39,
     "metadata": {},
     "output_type": "execute_result"
    }
   ],
   "source": [
    "cand2 = new_dist.join(fwd_edg)\n",
    "cand2.collect()"
   ]
  },
  {
   "cell_type": "code",
   "execution_count": 40,
   "metadata": {},
   "outputs": [
    {
     "data": {
      "text/plain": [
       "[(2, (5, 0, 3, 4), 4),\n",
       " (3, (5, 0, 3, 4), 4),\n",
       " (5, (5, 0, 3, 4), 4),\n",
       " (2, (5, 0, 3, 1), 1),\n",
       " (3, (5, 0, 3, 1), 1),\n",
       " (6, (5, 0, 3, 1), 1),\n",
       " (3, (5, 0, 3, 5), 5),\n",
       " (4, (5, 0, 3, 5), 5),\n",
       " (3, (5, 0, 4, 5), 5),\n",
       " (4, (5, 0, 4, 5), 5),\n",
       " (1, (5, 0, 4, 2), 2),\n",
       " (4, (5, 0, 4, 2), 2),\n",
       " (6, (5, 0, 4, 2), 2),\n",
       " (1, (5, 0, 4, 3), 3),\n",
       " (4, (5, 0, 4, 3), 3),\n",
       " (5, (5, 0, 4, 3), 3)]"
      ]
     },
     "execution_count": 40,
     "metadata": {},
     "output_type": "execute_result"
    }
   ],
   "source": [
    "dist2 = cand2.map(complete2)\n",
    "dist2.collect()"
   ]
  },
  {
   "cell_type": "code",
   "execution_count": 41,
   "metadata": {},
   "outputs": [
    {
     "data": {
      "text/plain": [
       "[(5, ((5, 0, 3, 4), 3)),\n",
       " (5, ((5, 0, 3, 4), 4)),\n",
       " (5, ((5, 0, 4, 3), 3)),\n",
       " (5, ((5, 0, 4, 3), 4)),\n",
       " (1, ((5, 0, 4, 2), 2)),\n",
       " (1, ((5, 0, 4, 2), 3)),\n",
       " (1, ((5, 0, 4, 2), 6)),\n",
       " (1, ((5, 0, 4, 3), 2)),\n",
       " (1, ((5, 0, 4, 3), 3)),\n",
       " (1, ((5, 0, 4, 3), 6)),\n",
       " (6, ((5, 0, 3, 1), 1)),\n",
       " (6, ((5, 0, 3, 1), 2)),\n",
       " (6, ((5, 0, 4, 2), 1)),\n",
       " (6, ((5, 0, 4, 2), 2)),\n",
       " (2, ((5, 0, 3, 4), 1)),\n",
       " (2, ((5, 0, 3, 4), 4)),\n",
       " (2, ((5, 0, 3, 4), 6)),\n",
       " (2, ((5, 0, 3, 1), 1)),\n",
       " (2, ((5, 0, 3, 1), 4)),\n",
       " (2, ((5, 0, 3, 1), 6)),\n",
       " (3, ((5, 0, 3, 4), 1)),\n",
       " (3, ((5, 0, 3, 4), 4)),\n",
       " (3, ((5, 0, 3, 4), 5)),\n",
       " (3, ((5, 0, 3, 1), 1)),\n",
       " (3, ((5, 0, 3, 1), 4)),\n",
       " (3, ((5, 0, 3, 1), 5)),\n",
       " (3, ((5, 0, 3, 5), 1)),\n",
       " (3, ((5, 0, 3, 5), 4)),\n",
       " (3, ((5, 0, 3, 5), 5)),\n",
       " (3, ((5, 0, 4, 5), 1)),\n",
       " (3, ((5, 0, 4, 5), 4)),\n",
       " (3, ((5, 0, 4, 5), 5)),\n",
       " (4, ((5, 0, 3, 5), 2)),\n",
       " (4, ((5, 0, 3, 5), 3)),\n",
       " (4, ((5, 0, 3, 5), 5)),\n",
       " (4, ((5, 0, 4, 5), 2)),\n",
       " (4, ((5, 0, 4, 5), 3)),\n",
       " (4, ((5, 0, 4, 5), 5)),\n",
       " (4, ((5, 0, 4, 2), 2)),\n",
       " (4, ((5, 0, 4, 2), 3)),\n",
       " (4, ((5, 0, 4, 2), 5)),\n",
       " (4, ((5, 0, 4, 3), 2)),\n",
       " (4, ((5, 0, 4, 3), 3)),\n",
       " (4, ((5, 0, 4, 3), 5))]"
      ]
     },
     "execution_count": 41,
     "metadata": {},
     "output_type": "execute_result"
    }
   ],
   "source": [
    "cand3 = dist2.join(fwd_edg)\n",
    "cand3.collect()"
   ]
  },
  {
   "cell_type": "code",
   "execution_count": 42,
   "metadata": {},
   "outputs": [
    {
     "data": {
      "text/plain": [
       "[(3, (5, 0, 3, 4, 5), 5),\n",
       " (4, (5, 0, 3, 4, 5), 5),\n",
       " (3, (5, 0, 4, 3, 5), 5),\n",
       " (4, (5, 0, 4, 3, 5), 5),\n",
       " (2, (5, 0, 4, 2, 1), 1),\n",
       " (3, (5, 0, 4, 2, 1), 1),\n",
       " (6, (5, 0, 4, 2, 1), 1),\n",
       " (2, (5, 0, 4, 3, 1), 1),\n",
       " (3, (5, 0, 4, 3, 1), 1),\n",
       " (6, (5, 0, 4, 3, 1), 1),\n",
       " (1, (5, 0, 3, 1, 6), 6),\n",
       " (2, (5, 0, 3, 1, 6), 6),\n",
       " (1, (5, 0, 4, 2, 6), 6),\n",
       " (2, (5, 0, 4, 2, 6), 6),\n",
       " (1, (5, 0, 3, 4, 2), 2),\n",
       " (4, (5, 0, 3, 4, 2), 2),\n",
       " (6, (5, 0, 3, 4, 2), 2),\n",
       " (1, (5, 0, 3, 1, 2), 2),\n",
       " (4, (5, 0, 3, 1, 2), 2),\n",
       " (6, (5, 0, 3, 1, 2), 2),\n",
       " (1, (5, 0, 3, 4, 3), 3),\n",
       " (4, (5, 0, 3, 4, 3), 3),\n",
       " (5, (5, 0, 3, 4, 3), 3),\n",
       " (1, (5, 0, 3, 1, 3), 3),\n",
       " (4, (5, 0, 3, 1, 3), 3),\n",
       " (5, (5, 0, 3, 1, 3), 3),\n",
       " (1, (5, 0, 3, 5, 3), 3),\n",
       " (4, (5, 0, 3, 5, 3), 3),\n",
       " (5, (5, 0, 3, 5, 3), 3),\n",
       " (1, (5, 0, 4, 5, 3), 3),\n",
       " (4, (5, 0, 4, 5, 3), 3),\n",
       " (5, (5, 0, 4, 5, 3), 3),\n",
       " (2, (5, 0, 3, 5, 4), 4),\n",
       " (3, (5, 0, 3, 5, 4), 4),\n",
       " (5, (5, 0, 3, 5, 4), 4),\n",
       " (2, (5, 0, 4, 5, 4), 4),\n",
       " (3, (5, 0, 4, 5, 4), 4),\n",
       " (5, (5, 0, 4, 5, 4), 4),\n",
       " (2, (5, 0, 4, 2, 4), 4),\n",
       " (3, (5, 0, 4, 2, 4), 4),\n",
       " (5, (5, 0, 4, 2, 4), 4),\n",
       " (2, (5, 0, 4, 3, 4), 4),\n",
       " (3, (5, 0, 4, 3, 4), 4),\n",
       " (5, (5, 0, 4, 3, 4), 4)]"
      ]
     },
     "execution_count": 42,
     "metadata": {},
     "output_type": "execute_result"
    }
   ],
   "source": [
    "dist3 = cand3.map(complete2)\n",
    "dist3.collect()"
   ]
  },
  {
   "cell_type": "code",
   "execution_count": 172,
   "metadata": {},
   "outputs": [
    {
     "data": {
      "text/plain": [
       "[(5, 0, 4, 2, 1), (5, 0, 4, 3, 1), (5, 0, 3, 4, 2), (5, 0, 3, 1, 2)]"
      ]
     },
     "execution_count": 172,
     "metadata": {},
     "output_type": "execute_result"
    }
   ],
   "source": [
    "dist3.lookup(6)"
   ]
  },
  {
   "cell_type": "markdown",
   "metadata": {},
   "source": [
    "several searching throw neigbours table with different key."
   ]
  },
  {
   "cell_type": "code",
   "execution_count": 173,
   "metadata": {},
   "outputs": [
    {
     "data": {
      "text/plain": [
       "[(5, 0, 3, 1), (5, 0, 4, 2)]"
      ]
     },
     "execution_count": 173,
     "metadata": {},
     "output_type": "execute_result"
    }
   ],
   "source": [
    "dist2.lookup(6)"
   ]
  },
  {
   "cell_type": "code",
   "execution_count": 174,
   "metadata": {},
   "outputs": [
    {
     "data": {
      "text/plain": [
       "[(5, 0, 3, 4), (5, 0, 3, 1), (5, 0, 3, 5), (5, 0, 4, 5)]"
      ]
     },
     "execution_count": 174,
     "metadata": {},
     "output_type": "execute_result"
    }
   ],
   "source": [
    "dist2.lookup(3)"
   ]
  },
  {
   "cell_type": "code",
   "execution_count": 177,
   "metadata": {},
   "outputs": [
    {
     "data": {
      "text/plain": [
       "0"
      ]
     },
     "execution_count": 177,
     "metadata": {},
     "output_type": "execute_result"
    }
   ],
   "source": [
    "len(new_dist.lookup(6))"
   ]
  },
  {
   "cell_type": "code",
   "execution_count": 178,
   "metadata": {},
   "outputs": [
    {
     "data": {
      "text/plain": [
       "2"
      ]
     },
     "execution_count": 178,
     "metadata": {},
     "output_type": "execute_result"
    }
   ],
   "source": [
    "len(dist2.lookup(6))"
   ]
  },
  {
   "cell_type": "code",
   "execution_count": 44,
   "metadata": {},
   "outputs": [
    {
     "name": "stdout",
     "output_type": "stream",
     "text": [
      "0\n"
     ]
    }
   ],
   "source": [
    "nIteration = maxIter = 20\n",
    "src, dst = 5, 6\n",
    "dist = sc.parallelize([(src,0)])\n",
    "while nIteration != 0:  \n",
    "    cand = dist.join(fwd_edg)     #.map(step2)\n",
    "    if nIteration == maxIter:\n",
    "        new_dst = cand.map(step2)\n",
    "    else:\n",
    "        new_dst = cand.map(complete2)\n",
    "    path = new_dist.lookup(dst)\n",
    "    if len(path) > 0:\n",
    "        print path\n",
    "        break\n",
    "    dist = new_dist\n",
    "    nIteration -= 1\n",
    "print nIteration"
   ]
  },
  {
   "cell_type": "code",
   "execution_count": 23,
   "metadata": {},
   "outputs": [
    {
     "data": {
      "text/plain": [
       "[(1, (5, 0, 3), 3),\n",
       " (4, (5, 0, 3), 3),\n",
       " (5, (5, 0, 3), 3),\n",
       " (2, (5, 0, 4), 4),\n",
       " (3, (5, 0, 4), 4),\n",
       " (5, (5, 0, 4), 4)]"
      ]
     },
     "execution_count": 23,
     "metadata": {},
     "output_type": "execute_result"
    }
   ],
   "source": [
    "dist.collect()"
   ]
  },
  {
   "cell_type": "code",
   "execution_count": null,
   "metadata": {},
   "outputs": [],
   "source": []
  }
 ],
 "metadata": {
  "kernelspec": {
   "display_name": "Python 2",
   "language": "python",
   "name": "python2"
  },
  "language_info": {
   "codemirror_mode": {
    "name": "ipython",
    "version": 2
   },
   "file_extension": ".py",
   "mimetype": "text/x-python",
   "name": "python",
   "nbconvert_exporter": "python",
   "pygments_lexer": "ipython2",
   "version": "2.7.12"
  }
 },
 "nbformat": 4,
 "nbformat_minor": 2
}
