{
 "cells": [
  {
   "cell_type": "markdown",
   "metadata": {},
   "source": [
    "__Reconstructing the path__\n",
    "\n",
    "In this assignment you will use Spark to compute the shortest path between two vertices. In the video, you have learned how to compute the distances between a source vertex and all other vertices in a graph. Now, your task is to reconstruct the shortest path, that is a sequence of vertices connected by the edges.\n",
    "\n",
    "Dataset location: /data/twitter/twitter_sample_small.txt\n",
    "\n",
    "Format: user_id \\t follower_id\n",
    "\n",
    "You can start with the code described in \"Starter...\" (see the next self-reading).\n",
    "\n",
    "Your task is to find the shortest path between vertices 12 and 34. In case of multiple shortest paths (that is, disjoint paths with the same length), any will suffice. Output format is the sequence of vertices, delimited by a comma, without spaces. For example, the path “12 -> 42 -> 34” should be printed as:\n",
    "\n",
    "Hint: before submitting, check your stopping criteria. In BFS, the search was exhaustive, and in this task your program may terminate earlier, thus saving some precious time.\n",
    "\n",
    "The result on the sample dataset:\n",
    "\n",
    "12,422,53,52,107,20,23,274,34"
   ]
  },
  {
   "cell_type": "code",
   "execution_count": 2,
   "metadata": {},
   "outputs": [],
   "source": [
    "from pyspark import SparkConf, SparkContext\n",
    "sc = SparkContext(conf=SparkConf().setAppName(\"shortest path assignment\").setMaster(\"local\"))"
   ]
  },
  {
   "cell_type": "code",
   "execution_count": 3,
   "metadata": {},
   "outputs": [],
   "source": [
    "def parse_edge(s):\n",
    "  user, follower = s.split(\"\\t\")\n",
    "  return (int(user), int(follower))\n",
    "\n",
    "def step(item):\n",
    "  prev_v, prev_d, next_v = item[0], item[1][0], item[1][1]\n",
    "  return (next_v, prev_d + 1)\n",
    "\n",
    "def complete(item):\n",
    "  v, old_d, new_d = item[0], item[1][0], item[1][1]\n",
    "  return (v, old_d if old_d is not None else new_d)\n",
    "\n",
    "n = 400  # number of partitions\n",
    "edges = sc.textFile(\"/data/twitter/twitter_sample_small.txt\").map(parse_edge).cache()\n",
    "forward_edges = edges.map(lambda e: (e[1], e[0])).partitionBy(n).persist()\n",
    "\n",
    "x = 12\n",
    "d = 0\n",
    "distances = sc.parallelize([(x, d)]).partitionBy(n)\n",
    "while True:\n",
    "  candidates = distances.join(forward_edges, n).map(step)\n",
    "  new_distances = distances.fullOuterJoin(candidates, n).map(complete, True).persist()\n",
    "  count = new_distances.filter(lambda i: i[1] == d + 1).count()\n",
    "  if count > 0:\n",
    "    d += 1\n",
    "    distances = new_distances\n",
    "  else:\n",
    "    break"
   ]
  },
  {
   "cell_type": "code",
   "execution_count": 6,
   "metadata": {},
   "outputs": [
    {
     "data": {
      "text/plain": [
       "[(12, 0), (13, 4), (15, 5), (15, 5), (15, 5), (15, 5), (15, 5), (15, 5)]"
      ]
     },
     "execution_count": 6,
     "metadata": {},
     "output_type": "execute_result"
    }
   ],
   "source": [
    "# 15min\n",
    "distances.take(8)"
   ]
  },
  {
   "cell_type": "markdown",
   "metadata": {},
   "source": [
    "simple topology\n",
    "```\n",
    "  6\n",
    " /\\\n",
    "1--2\n",
    "|  |\n",
    "3--4\n",
    " \\/\n",
    " 5\n",
    "```"
   ]
  },
  {
   "cell_type": "code",
   "execution_count": 7,
   "metadata": {},
   "outputs": [],
   "source": [
    "edg = sc.parallelize([(1,2),(1,3),(2,1),(2,4),(3,1),(3,4),(4,3),(4,2),(3,5),(5,3),(4,5),(5,4),(6,1),(1,6),(6,2),(2,6)])"
   ]
  },
  {
   "cell_type": "code",
   "execution_count": 10,
   "metadata": {},
   "outputs": [],
   "source": [
    "fwd_edg = edg.map(lambda e: (e[1], e[0])) # swap"
   ]
  },
  {
   "cell_type": "code",
   "execution_count": 11,
   "metadata": {},
   "outputs": [
    {
     "data": {
      "text/plain": [
       "[(1, 2),\n",
       " (1, 3),\n",
       " (2, 1),\n",
       " (2, 4),\n",
       " (3, 1),\n",
       " (3, 4),\n",
       " (4, 3),\n",
       " (4, 2),\n",
       " (3, 5),\n",
       " (5, 3),\n",
       " (4, 5),\n",
       " (5, 4),\n",
       " (6, 1),\n",
       " (1, 6),\n",
       " (6, 2),\n",
       " (2, 6)]"
      ]
     },
     "execution_count": 11,
     "metadata": {},
     "output_type": "execute_result"
    }
   ],
   "source": [
    "edg.collect()"
   ]
  },
  {
   "cell_type": "code",
   "execution_count": 12,
   "metadata": {},
   "outputs": [
    {
     "data": {
      "text/plain": [
       "[(2, 1),\n",
       " (3, 1),\n",
       " (1, 2),\n",
       " (4, 2),\n",
       " (1, 3),\n",
       " (4, 3),\n",
       " (3, 4),\n",
       " (2, 4),\n",
       " (5, 3),\n",
       " (3, 5),\n",
       " (5, 4),\n",
       " (4, 5),\n",
       " (1, 6),\n",
       " (6, 1),\n",
       " (2, 6),\n",
       " (6, 2)]"
      ]
     },
     "execution_count": 12,
     "metadata": {},
     "output_type": "execute_result"
    }
   ],
   "source": [
    "fwd_edg.collect()"
   ]
  },
  {
   "cell_type": "code",
   "execution_count": 148,
   "metadata": {},
   "outputs": [
    {
     "data": {
      "text/plain": [
       "[(5, 0)]"
      ]
     },
     "execution_count": 148,
     "metadata": {},
     "output_type": "execute_result"
    }
   ],
   "source": [
    "src = (5, 0)\n",
    "dist = sc.parallelize([src])\n",
    "dist.collect()"
   ]
  },
  {
   "cell_type": "code",
   "execution_count": 149,
   "metadata": {},
   "outputs": [
    {
     "data": {
      "text/plain": [
       "[(5, (0, 3)), (5, (0, 4))]"
      ]
     },
     "execution_count": 149,
     "metadata": {},
     "output_type": "execute_result"
    }
   ],
   "source": [
    "dist_fwd_join = dist.join(fwd_edg)\n",
    "dist_fwd_join.collect()"
   ]
  },
  {
   "cell_type": "code",
   "execution_count": 150,
   "metadata": {},
   "outputs": [],
   "source": [
    "def step2(item): v, d, nv = item[0], item[1][0], item[1][1]; return (nv, (v, d))"
   ]
  },
  {
   "cell_type": "code",
   "execution_count": 152,
   "metadata": {},
   "outputs": [
    {
     "data": {
      "text/plain": [
       "[(3, (5, 0)), (4, (5, 0))]"
      ]
     },
     "execution_count": 152,
     "metadata": {},
     "output_type": "execute_result"
    }
   ],
   "source": [
    "dist_fwd_join.map(step2).collect()"
   ]
  },
  {
   "cell_type": "code",
   "execution_count": 153,
   "metadata": {},
   "outputs": [
    {
     "data": {
      "text/plain": [
       "[(3, (5, 0)), (4, (5, 0))]"
      ]
     },
     "execution_count": 153,
     "metadata": {},
     "output_type": "execute_result"
    }
   ],
   "source": [
    "cand = dist_fwd_join.map(step2)\n",
    "cand.collect()"
   ]
  },
  {
   "cell_type": "code",
   "execution_count": 154,
   "metadata": {},
   "outputs": [
    {
     "data": {
      "text/plain": [
       "[(3, ((5, 0), 1)),\n",
       " (3, ((5, 0), 4)),\n",
       " (3, ((5, 0), 5)),\n",
       " (4, ((5, 0), 2)),\n",
       " (4, ((5, 0), 3)),\n",
       " (4, ((5, 0), 5))]"
      ]
     },
     "execution_count": 154,
     "metadata": {},
     "output_type": "execute_result"
    }
   ],
   "source": [
    "new_cand = cand.join(fwd_edg)\n",
    "new_cand.collect()"
   ]
  },
  {
   "cell_type": "code",
   "execution_count": 155,
   "metadata": {},
   "outputs": [
    {
     "data": {
      "text/plain": [
       "5"
      ]
     },
     "execution_count": 155,
     "metadata": {},
     "output_type": "execute_result"
    }
   ],
   "source": [
    "new_cand.collect()[0][1][0][0]"
   ]
  },
  {
   "cell_type": "code",
   "execution_count": 163,
   "metadata": {},
   "outputs": [],
   "source": [
    "def complete2(item): \n",
    "    v, d, nv = item[0], item[1][0], item[1][1]; \n",
    "    path = d + (v,)\n",
    "    return (nv, (path), v)"
   ]
  },
  {
   "cell_type": "code",
   "execution_count": 164,
   "metadata": {},
   "outputs": [
    {
     "data": {
      "text/plain": [
       "[(1, (5, 0, 3), 3),\n",
       " (4, (5, 0, 3), 3),\n",
       " (5, (5, 0, 3), 3),\n",
       " (2, (5, 0, 4), 4),\n",
       " (3, (5, 0, 4), 4),\n",
       " (5, (5, 0, 4), 4)]"
      ]
     },
     "execution_count": 164,
     "metadata": {},
     "output_type": "execute_result"
    }
   ],
   "source": [
    "new_dist = new_cand.map(complete2)\n",
    "new_dist.collect()"
   ]
  },
  {
   "cell_type": "code",
   "execution_count": 166,
   "metadata": {},
   "outputs": [
    {
     "data": {
      "text/plain": [
       "[(4, ((5, 0, 3), 2)),\n",
       " (4, ((5, 0, 3), 3)),\n",
       " (4, ((5, 0, 3), 5)),\n",
       " (1, ((5, 0, 3), 2)),\n",
       " (1, ((5, 0, 3), 3)),\n",
       " (1, ((5, 0, 3), 6)),\n",
       " (5, ((5, 0, 3), 3)),\n",
       " (5, ((5, 0, 3), 4)),\n",
       " (5, ((5, 0, 4), 3)),\n",
       " (5, ((5, 0, 4), 4)),\n",
       " (2, ((5, 0, 4), 1)),\n",
       " (2, ((5, 0, 4), 4)),\n",
       " (2, ((5, 0, 4), 6)),\n",
       " (3, ((5, 0, 4), 1)),\n",
       " (3, ((5, 0, 4), 4)),\n",
       " (3, ((5, 0, 4), 5))]"
      ]
     },
     "execution_count": 166,
     "metadata": {},
     "output_type": "execute_result"
    }
   ],
   "source": [
    "cand2 = new_dist.join(fwd_edg)\n",
    "cand2.collect()"
   ]
  },
  {
   "cell_type": "code",
   "execution_count": 169,
   "metadata": {},
   "outputs": [
    {
     "data": {
      "text/plain": [
       "[(2, (5, 0, 3, 4), 4),\n",
       " (3, (5, 0, 3, 4), 4),\n",
       " (5, (5, 0, 3, 4), 4),\n",
       " (2, (5, 0, 3, 1), 1),\n",
       " (3, (5, 0, 3, 1), 1),\n",
       " (6, (5, 0, 3, 1), 1),\n",
       " (3, (5, 0, 3, 5), 5),\n",
       " (4, (5, 0, 3, 5), 5),\n",
       " (3, (5, 0, 4, 5), 5),\n",
       " (4, (5, 0, 4, 5), 5),\n",
       " (1, (5, 0, 4, 2), 2),\n",
       " (4, (5, 0, 4, 2), 2),\n",
       " (6, (5, 0, 4, 2), 2),\n",
       " (1, (5, 0, 4, 3), 3),\n",
       " (4, (5, 0, 4, 3), 3),\n",
       " (5, (5, 0, 4, 3), 3)]"
      ]
     },
     "execution_count": 169,
     "metadata": {},
     "output_type": "execute_result"
    }
   ],
   "source": [
    "dist2 = cand2.map(complete2)\n",
    "dist2.collect()"
   ]
  },
  {
   "cell_type": "code",
   "execution_count": 170,
   "metadata": {},
   "outputs": [
    {
     "data": {
      "text/plain": [
       "[(5, ((5, 0, 3, 4), 3)),\n",
       " (5, ((5, 0, 3, 4), 4)),\n",
       " (5, ((5, 0, 4, 3), 3)),\n",
       " (5, ((5, 0, 4, 3), 4)),\n",
       " (1, ((5, 0, 4, 2), 2)),\n",
       " (1, ((5, 0, 4, 2), 3)),\n",
       " (1, ((5, 0, 4, 2), 6)),\n",
       " (1, ((5, 0, 4, 3), 2)),\n",
       " (1, ((5, 0, 4, 3), 3)),\n",
       " (1, ((5, 0, 4, 3), 6)),\n",
       " (6, ((5, 0, 3, 1), 1)),\n",
       " (6, ((5, 0, 3, 1), 2)),\n",
       " (6, ((5, 0, 4, 2), 1)),\n",
       " (6, ((5, 0, 4, 2), 2)),\n",
       " (2, ((5, 0, 3, 4), 1)),\n",
       " (2, ((5, 0, 3, 4), 4)),\n",
       " (2, ((5, 0, 3, 4), 6)),\n",
       " (2, ((5, 0, 3, 1), 1)),\n",
       " (2, ((5, 0, 3, 1), 4)),\n",
       " (2, ((5, 0, 3, 1), 6)),\n",
       " (3, ((5, 0, 3, 4), 1)),\n",
       " (3, ((5, 0, 3, 4), 4)),\n",
       " (3, ((5, 0, 3, 4), 5)),\n",
       " (3, ((5, 0, 3, 1), 1)),\n",
       " (3, ((5, 0, 3, 1), 4)),\n",
       " (3, ((5, 0, 3, 1), 5)),\n",
       " (3, ((5, 0, 3, 5), 1)),\n",
       " (3, ((5, 0, 3, 5), 4)),\n",
       " (3, ((5, 0, 3, 5), 5)),\n",
       " (3, ((5, 0, 4, 5), 1)),\n",
       " (3, ((5, 0, 4, 5), 4)),\n",
       " (3, ((5, 0, 4, 5), 5)),\n",
       " (4, ((5, 0, 3, 5), 2)),\n",
       " (4, ((5, 0, 3, 5), 3)),\n",
       " (4, ((5, 0, 3, 5), 5)),\n",
       " (4, ((5, 0, 4, 5), 2)),\n",
       " (4, ((5, 0, 4, 5), 3)),\n",
       " (4, ((5, 0, 4, 5), 5)),\n",
       " (4, ((5, 0, 4, 2), 2)),\n",
       " (4, ((5, 0, 4, 2), 3)),\n",
       " (4, ((5, 0, 4, 2), 5)),\n",
       " (4, ((5, 0, 4, 3), 2)),\n",
       " (4, ((5, 0, 4, 3), 3)),\n",
       " (4, ((5, 0, 4, 3), 5))]"
      ]
     },
     "execution_count": 170,
     "metadata": {},
     "output_type": "execute_result"
    }
   ],
   "source": [
    "cand3 = dist2.join(fwd_edg)\n",
    "cand3.collect()"
   ]
  },
  {
   "cell_type": "code",
   "execution_count": 171,
   "metadata": {},
   "outputs": [
    {
     "data": {
      "text/plain": [
       "[(3, (5, 0, 3, 4, 5), 5),\n",
       " (4, (5, 0, 3, 4, 5), 5),\n",
       " (3, (5, 0, 4, 3, 5), 5),\n",
       " (4, (5, 0, 4, 3, 5), 5),\n",
       " (2, (5, 0, 4, 2, 1), 1),\n",
       " (3, (5, 0, 4, 2, 1), 1),\n",
       " (6, (5, 0, 4, 2, 1), 1),\n",
       " (2, (5, 0, 4, 3, 1), 1),\n",
       " (3, (5, 0, 4, 3, 1), 1),\n",
       " (6, (5, 0, 4, 3, 1), 1),\n",
       " (1, (5, 0, 3, 1, 6), 6),\n",
       " (2, (5, 0, 3, 1, 6), 6),\n",
       " (1, (5, 0, 4, 2, 6), 6),\n",
       " (2, (5, 0, 4, 2, 6), 6),\n",
       " (1, (5, 0, 3, 4, 2), 2),\n",
       " (4, (5, 0, 3, 4, 2), 2),\n",
       " (6, (5, 0, 3, 4, 2), 2),\n",
       " (1, (5, 0, 3, 1, 2), 2),\n",
       " (4, (5, 0, 3, 1, 2), 2),\n",
       " (6, (5, 0, 3, 1, 2), 2),\n",
       " (1, (5, 0, 3, 4, 3), 3),\n",
       " (4, (5, 0, 3, 4, 3), 3),\n",
       " (5, (5, 0, 3, 4, 3), 3),\n",
       " (1, (5, 0, 3, 1, 3), 3),\n",
       " (4, (5, 0, 3, 1, 3), 3),\n",
       " (5, (5, 0, 3, 1, 3), 3),\n",
       " (1, (5, 0, 3, 5, 3), 3),\n",
       " (4, (5, 0, 3, 5, 3), 3),\n",
       " (5, (5, 0, 3, 5, 3), 3),\n",
       " (1, (5, 0, 4, 5, 3), 3),\n",
       " (4, (5, 0, 4, 5, 3), 3),\n",
       " (5, (5, 0, 4, 5, 3), 3),\n",
       " (2, (5, 0, 3, 5, 4), 4),\n",
       " (3, (5, 0, 3, 5, 4), 4),\n",
       " (5, (5, 0, 3, 5, 4), 4),\n",
       " (2, (5, 0, 4, 5, 4), 4),\n",
       " (3, (5, 0, 4, 5, 4), 4),\n",
       " (5, (5, 0, 4, 5, 4), 4),\n",
       " (2, (5, 0, 4, 2, 4), 4),\n",
       " (3, (5, 0, 4, 2, 4), 4),\n",
       " (5, (5, 0, 4, 2, 4), 4),\n",
       " (2, (5, 0, 4, 3, 4), 4),\n",
       " (3, (5, 0, 4, 3, 4), 4),\n",
       " (5, (5, 0, 4, 3, 4), 4)]"
      ]
     },
     "execution_count": 171,
     "metadata": {},
     "output_type": "execute_result"
    }
   ],
   "source": [
    "dist3 = cand3.map(complete2)\n",
    "dist3.collect()"
   ]
  },
  {
   "cell_type": "code",
   "execution_count": 172,
   "metadata": {},
   "outputs": [
    {
     "data": {
      "text/plain": [
       "[(5, 0, 4, 2, 1), (5, 0, 4, 3, 1), (5, 0, 3, 4, 2), (5, 0, 3, 1, 2)]"
      ]
     },
     "execution_count": 172,
     "metadata": {},
     "output_type": "execute_result"
    }
   ],
   "source": [
    "dist3.lookup(6)"
   ]
  },
  {
   "cell_type": "markdown",
   "metadata": {},
   "source": [
    "several searching throw neigbours table with different key."
   ]
  },
  {
   "cell_type": "code",
   "execution_count": 173,
   "metadata": {},
   "outputs": [
    {
     "data": {
      "text/plain": [
       "[(5, 0, 3, 1), (5, 0, 4, 2)]"
      ]
     },
     "execution_count": 173,
     "metadata": {},
     "output_type": "execute_result"
    }
   ],
   "source": [
    "dist2.lookup(6)"
   ]
  },
  {
   "cell_type": "code",
   "execution_count": null,
   "metadata": {},
   "outputs": [],
   "source": []
  }
 ],
 "metadata": {
  "kernelspec": {
   "display_name": "Python 2",
   "language": "python",
   "name": "python2"
  },
  "language_info": {
   "codemirror_mode": {
    "name": "ipython",
    "version": 2
   },
   "file_extension": ".py",
   "mimetype": "text/x-python",
   "name": "python",
   "nbconvert_exporter": "python",
   "pygments_lexer": "ipython2",
   "version": "2.7.12"
  }
 },
 "nbformat": 4,
 "nbformat_minor": 2
}
