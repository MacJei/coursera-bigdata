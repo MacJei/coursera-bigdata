{
 "cells": [
  {
   "cell_type": "code",
   "execution_count": 4,
   "metadata": {},
   "outputs": [
    {
     "name": "stdout",
     "output_type": "stream",
     "text": [
      "Overwriting mapper-tf.py\n"
     ]
    }
   ],
   "source": [
    "%%writefile mapper-tf.py\n",
    "from __future__ import print_function\n",
    "import sys\n",
    "import re\n",
    "\n",
    "\n",
    "reload(sys)\n",
    "sys.setdefaultencoding('utf-8')  # required to convert to unicode\n",
    "\n",
    "path = 'stop_words_en.txt'\n",
    "\n",
    "stopWords = set()\n",
    "\n",
    "with open(path) as stopWordsFile:\n",
    "    for line in stopWordsFile:\n",
    "        try:         \n",
    "            stopWords.add(unicode(line.strip()))\n",
    "        except ValueError as e:\n",
    "            continue\n",
    "\n",
    "wordSum, stopWordSum = 0, 0\n",
    "\n",
    "import string\n",
    "\n",
    "for line in sys.stdin:\n",
    "    try:\n",
    "        article_id, text = unicode(line.strip()).split('\\t', 1)\n",
    "    except ValueError as e:\n",
    "        continue\n",
    "\n",
    "    words = re.split(\"\\W*\\s+\\W*\", text.lower(), flags=re.UNICODE)\n",
    "    \n",
    "    wordsInArticle = 0\n",
    "    \n",
    "    for word in words:\n",
    "        if word.strip(string.punctuation) in stopWords:\n",
    "            stopWordSum += 1\n",
    "            print(\"reporter:counter:Wiki stats,Stop words found,%d\" % 1, file=sys.stderr)\n",
    "            continue\n",
    "        wordSum += 1\n",
    "        wordsInArticle += 1\n",
    "        #print >> sys.stderr, \"reporter:counter:Wiki stats,Total words ound,%d\" % 1\n",
    "        print(\"reporter:counter:Wiki stats,Total words found,%d\" % 1, file=sys.stderr)\n",
    "        print(article_id, word.strip(string.punctuation), 1, sep='\\t')\n",
    "    print(article_id, \"!wordsInArticle\", wordsInArticle, sep='\\t')\n",
    "\n"
   ]
  },
  {
   "cell_type": "code",
   "execution_count": 5,
   "metadata": {},
   "outputs": [
    {
     "name": "stdout",
     "output_type": "stream",
     "text": [
      "Writing reducer-tf.py\n"
     ]
    }
   ],
   "source": [
    "%%writefile reducer-tf.py\n",
    "\n",
    "import sys\n",
    "\n",
    "current_article_id = None\n",
    "current_word = None\n",
    "word_sum, wordsInArticle = 0, 0\n",
    "\n",
    "for line in sys.stdin:\n",
    "    try:\n",
    "        article_id, word, count = line.strip().split('\\t')\n",
    "        #print \"after parse:\", article_id, word, count\n",
    "        count = int(count)\n",
    "    except ValueError as e:\n",
    "        #print \"Parse error:\", e\n",
    "        continue\n",
    "\n",
    "    if current_article_id != article_id:\n",
    "        if current_word != None:\n",
    "            print \"%s\\t%s\\t%f\" % (current_article_id, current_word, 1.0*word_sum/wordsInArticle)\n",
    "            word_sum = 0\n",
    "            current_word = word\n",
    "        wordsInArticle = count  # first article string is always words in article count\n",
    "        current_article_id = article_id\n",
    "        #print \"wordsInArticle:\", word, wordsInArticle\n",
    "        continue\n",
    "        \n",
    "    if current_word != word :\n",
    "        if current_word != None and current_word != '!wordsInArticle': \n",
    "            print \"%s\\t%s\\t%f\" % (current_article_id, current_word, 1.0*word_sum/wordsInArticle)\n",
    "            #print \"%s\\t%s\\t%d\\t%d\" % (current_article_id, current_word, word_sum, wordsInArticle)\n",
    "        word_sum = 0\n",
    "        current_word = word\n",
    "    word_sum += count\n",
    "\n",
    "if current_article_id:\n",
    "    print \"%s\\t%s\\t%f\" % (current_article_id, word, 1.0*word_sum/wordsInArticle)\n"
   ]
  },
  {
   "cell_type": "code",
   "execution_count": 1,
   "metadata": {},
   "outputs": [],
   "source": [
    "!hdfs dfs -mkdir /data/wiki/test"
   ]
  },
  {
   "cell_type": "code",
   "execution_count": 2,
   "metadata": {},
   "outputs": [],
   "source": [
    "!hdfs dfs -put wiki-test.txt /data/wiki/test"
   ]
  },
  {
   "cell_type": "code",
   "execution_count": 3,
   "metadata": {},
   "outputs": [
    {
     "name": "stdout",
     "output_type": "stream",
     "text": [
      "Found 1 items\r\n",
      "-rw-r--r--   1 jovyan supergroup        479 2019-02-04 07:35 /data/wiki/test/wiki-test.txt\r\n"
     ]
    }
   ],
   "source": [
    "!hdfs dfs -ls /data/wiki/test"
   ]
  },
  {
   "cell_type": "code",
   "execution_count": 6,
   "metadata": {
    "scrolled": false
   },
   "outputs": [
    {
     "name": "stdout",
     "output_type": "stream",
     "text": [
      "10\t3\t0.153846\n",
      "10\tbehavior\t0.076923\n",
      "10\tcongrayou\t0.076923\n",
      "10\temulate\t0.076923\n",
      "10\thadoop\t0.153846\n",
      "10\thadoop's\t0.076923\n",
      "10\tjob\t0.153846\n",
      "10\tknow\t0.076923\n",
      "10\tstages\t0.153846\n",
      "17\t0\t0.062500\n",
      "17\tarticle_ids\t0.062500\n",
      "17\tbash\t0.062500\n",
      "17\tbehavior\t0.062500\n",
      "17\tcode\t0.062500\n",
      "17\temulate\t0.062500\n",
      "17\tgreater\t0.062500\n",
      "17\thadoop's\t0.062500\n",
      "17\thint\t0.125000\n",
      "17\tmapper's\t0.062500\n",
      "17\treducer's\t0.062500\n",
      "17\tsimple\t0.062500\n",
      "17\tusing\t0.062500\n",
      "17\twikipedia\t0.125000\n",
      "23\tapplications\t0.125000\n",
      "23\tbash\t0.062500\n",
      "23\tcongrayou\t0.125000\n",
      "23\tdebugging\t0.125000\n",
      "23\teasily\t0.062500\n",
      "23\temulating\t0.062500\n",
      "23\thadoop’s\t0.062500\n",
      "23\tlocally\t0.062500\n",
      "23\tlot\t0.062500\n",
      "23\tsafe\t0.062500\n",
      "23\ttime\t0.062500\n",
      "23\tusing\t0.062500\n",
      "23\tworkflow\t0.062500\n"
     ]
    },
    {
     "name": "stderr",
     "output_type": "stream",
     "text": [
      "rm: `/data/wiki/test/tf-out': No such file or directory\n",
      "19/02/04 07:35:59 INFO client.RMProxy: Connecting to ResourceManager at /0.0.0.0:8032\n",
      "19/02/04 07:35:59 INFO client.RMProxy: Connecting to ResourceManager at /0.0.0.0:8032\n",
      "19/02/04 07:36:00 INFO mapred.FileInputFormat: Total input files to process : 1\n",
      "19/02/04 07:36:01 INFO mapreduce.JobSubmitter: number of splits:2\n",
      "19/02/04 07:36:01 INFO mapreduce.JobSubmitter: Submitting tokens for job: job_1549005095618_0001\n",
      "19/02/04 07:36:02 INFO impl.YarnClientImpl: Submitted application application_1549005095618_0001\n",
      "19/02/04 07:36:02 INFO mapreduce.Job: The url to track the job: http://bce6a116ae74:8088/proxy/application_1549005095618_0001/\n",
      "19/02/04 07:36:02 INFO mapreduce.Job: Running job: job_1549005095618_0001\n",
      "19/02/04 07:36:10 INFO mapreduce.Job: Job job_1549005095618_0001 running in uber mode : false\n",
      "19/02/04 07:36:10 INFO mapreduce.Job:  map 0% reduce 0%\n",
      "19/02/04 07:36:17 INFO mapreduce.Job:  map 100% reduce 0%\n",
      "19/02/04 07:36:22 INFO mapreduce.Job:  map 100% reduce 100%\n",
      "19/02/04 07:36:23 INFO mapreduce.Job: Job job_1549005095618_0001 completed successfully\n",
      "19/02/04 07:36:24 INFO mapreduce.Job: Counters: 51\n",
      "\tFile System Counters\n",
      "\t\tFILE: Number of bytes read=730\n",
      "\t\tFILE: Number of bytes written=423949\n",
      "\t\tFILE: Number of read operations=0\n",
      "\t\tFILE: Number of large read operations=0\n",
      "\t\tFILE: Number of write operations=0\n",
      "\t\tHDFS: Number of bytes read=923\n",
      "\t\tHDFS: Number of bytes written=701\n",
      "\t\tHDFS: Number of read operations=9\n",
      "\t\tHDFS: Number of large read operations=0\n",
      "\t\tHDFS: Number of write operations=2\n",
      "\tJob Counters \n",
      "\t\tLaunched map tasks=2\n",
      "\t\tLaunched reduce tasks=1\n",
      "\t\tData-local map tasks=2\n",
      "\t\tTotal time spent by all maps in occupied slots (ms)=8903\n",
      "\t\tTotal time spent by all reduces in occupied slots (ms)=3108\n",
      "\t\tTotal time spent by all map tasks (ms)=8903\n",
      "\t\tTotal time spent by all reduce tasks (ms)=3108\n",
      "\t\tTotal vcore-milliseconds taken by all map tasks=8903\n",
      "\t\tTotal vcore-milliseconds taken by all reduce tasks=3108\n",
      "\t\tTotal megabyte-milliseconds taken by all map tasks=9116672\n",
      "\t\tTotal megabyte-milliseconds taken by all reduce tasks=3182592\n",
      "\tMap-Reduce Framework\n",
      "\t\tMap input records=3\n",
      "\t\tMap output records=48\n",
      "\t\tMap output bytes=628\n",
      "\t\tMap output materialized bytes=736\n",
      "\t\tInput split bytes=204\n",
      "\t\tCombine input records=0\n",
      "\t\tCombine output records=0\n",
      "\t\tReduce input groups=39\n",
      "\t\tReduce shuffle bytes=736\n",
      "\t\tReduce input records=48\n",
      "\t\tReduce output records=36\n",
      "\t\tSpilled Records=96\n",
      "\t\tShuffled Maps =2\n",
      "\t\tFailed Shuffles=0\n",
      "\t\tMerged Map outputs=2\n",
      "\t\tGC time elapsed (ms)=202\n",
      "\t\tCPU time spent (ms)=1710\n",
      "\t\tPhysical memory (bytes) snapshot=713682944\n",
      "\t\tVirtual memory (bytes) snapshot=5884829696\n",
      "\t\tTotal committed heap usage (bytes)=513802240\n",
      "\tShuffle Errors\n",
      "\t\tBAD_ID=0\n",
      "\t\tCONNECTION=0\n",
      "\t\tIO_ERROR=0\n",
      "\t\tWRONG_LENGTH=0\n",
      "\t\tWRONG_MAP=0\n",
      "\t\tWRONG_REDUCE=0\n",
      "\tWiki stats\n",
      "\t\tStop words found=29\n",
      "\t\tTotal words found=45\n",
      "\tFile Input Format Counters \n",
      "\t\tBytes Read=719\n",
      "\tFile Output Format Counters \n",
      "\t\tBytes Written=701\n",
      "19/02/04 07:36:24 INFO streaming.StreamJob: Output directory: /data/wiki/test/tf-out\n"
     ]
    }
   ],
   "source": [
    "%%bash\n",
    "\n",
    "#OUT_DIR=\"wordcount_result_\"$(date +\"%s%6N\")\n",
    "OUT_DIR=\"/data/wiki/test/tf-out\"\n",
    "NUM_REDUCERS=1\n",
    "\n",
    "hdfs dfs -rm -r -skipTrash ${OUT_DIR} > /dev/null\n",
    "\n",
    "yarn jar /opt/cloudera/parcels/CDH/lib/hadoop-mapreduce/hadoop-streaming.jar \\\n",
    "    -D mapreduce.job.output.key.comparator.class=org.apache.hadoop.mapreduce.lib.partition.KeyFieldBasedComparator \\\n",
    "    -D mapreduce.job.output.key.partitioner.class=org.apache.hadoop.mapreduce.lib.partition.KeyFieldBasedPartitioner \\\n",
    "    -D mapred.jab.name=\"Tf-Idf tf task\" \\\n",
    "    -D mapreduce.job.reduces=${NUM_REDUCERS} \\\n",
    "    -files mapper-tf.py,reducer-tf.py,/datasets/stop_words_en.txt  \\\n",
    "    -D stream.num.map.output.key.fields=2 \\\n",
    "    -D mapreduce.partition.keypartitioner.options=\"-k1,1\" \\\n",
    "    -D mapreduce.partition.keycomparator.options=\"-k1,2\" \\\n",
    "    -mapper \"python mapper-tf.py\" \\\n",
    "    -reducer \"python reducer-tf.py\" \\\n",
    "    -input /data/wiki/test \\\n",
    "    -output ${OUT_DIR} > /dev/null\n",
    "\n",
    "\n",
    "hdfs dfs -cat ${OUT_DIR}/* | head -100"
   ]
  },
  {
   "cell_type": "code",
   "execution_count": 7,
   "metadata": {},
   "outputs": [
    {
     "name": "stdout",
     "output_type": "stream",
     "text": [
      "ls: `/data/wiki/test/idf-out': No such file or directory\r\n"
     ]
    }
   ],
   "source": [
    "! hdfs dfs -ls /data/wiki/test/idf-out"
   ]
  },
  {
   "cell_type": "code",
   "execution_count": 8,
   "metadata": {},
   "outputs": [
    {
     "name": "stdout",
     "output_type": "stream",
     "text": [
      "Writing mapper-idf.py\n"
     ]
    }
   ],
   "source": [
    "%%writefile mapper-idf.py\n",
    "from __future__ import print_function\n",
    "import sys\n",
    "\n",
    "reload(sys)\n",
    "sys.setdefaultencoding('utf-8')  # required to convert to unicode\n",
    "\n",
    "for line in sys.stdin:\n",
    "    _, word, _ = unicode(line.strip()).split('\\t')\n",
    "    print(\"reporter:counter:Idf stats,Total words found,%d\" % 1, file=sys.stderr)\n",
    "    print(word, 1, sep='\\t')\n"
   ]
  },
  {
   "cell_type": "code",
   "execution_count": 23,
   "metadata": {},
   "outputs": [
    {
     "name": "stdout",
     "output_type": "stream",
     "text": [
      "Overwriting reducer-idf.py\n"
     ]
    }
   ],
   "source": [
    "%%writefile reducer-idf.py\n",
    "import sys\n",
    "from math import log\n",
    "\n",
    "current_key = None\n",
    "word_sum = 0\n",
    "for line in sys.stdin:\n",
    "    try:\n",
    "        key, count = line.strip().split('\\t', 1)\n",
    "        count = int(count)\n",
    "    except ValueError as e:\n",
    "        continue\n",
    "    if current_key != key:\n",
    "        if current_key:\n",
    "            print \"%s\\t%f\" % (current_key, (1/log(1 + word_sum)))\n",
    "        word_sum = 0\n",
    "        current_key = key\n",
    "    word_sum += count\n",
    "\n",
    "if current_key:\n",
    "    print \"%s\\t%f\" % (current_key, (1/log(1 + word_sum)))\n"
   ]
  },
  {
   "cell_type": "code",
   "execution_count": 10,
   "metadata": {},
   "outputs": [
    {
     "name": "stdout",
     "output_type": "stream",
     "text": [
      "0\t1\n",
      "3\t1\n",
      "applications\t1\n",
      "article_ids\t1\n",
      "bash\t2\n",
      "behavior\t2\n",
      "code\t1\n",
      "congrayou\t2\n",
      "debugging\t1\n",
      "easily\t1\n",
      "emulate\t2\n",
      "emulating\t1\n",
      "greater\t1\n",
      "hadoop\t1\n",
      "hadoop's\t2\n",
      "hadoop’s\t1\n",
      "hint\t1\n",
      "job\t1\n",
      "know\t1\n",
      "locally\t1\n",
      "lot\t1\n",
      "mapper's\t1\n",
      "reducer's\t1\n",
      "safe\t1\n",
      "simple\t1\n",
      "stages\t1\n",
      "time\t1\n",
      "using\t2\n",
      "wikipedia\t1\n",
      "workflow\t1\n"
     ]
    },
    {
     "name": "stderr",
     "output_type": "stream",
     "text": [
      "rm: `/data/wiki/test/idf-out': No such file or directory\n",
      "19/02/04 07:38:58 INFO client.RMProxy: Connecting to ResourceManager at /0.0.0.0:8032\n",
      "19/02/04 07:38:58 INFO client.RMProxy: Connecting to ResourceManager at /0.0.0.0:8032\n",
      "19/02/04 07:38:58 INFO mapred.FileInputFormat: Total input files to process : 1\n",
      "19/02/04 07:38:59 INFO mapreduce.JobSubmitter: number of splits:2\n",
      "19/02/04 07:38:59 INFO mapreduce.JobSubmitter: Submitting tokens for job: job_1549005095618_0002\n",
      "19/02/04 07:38:59 INFO impl.YarnClientImpl: Submitted application application_1549005095618_0002\n",
      "19/02/04 07:38:59 INFO mapreduce.Job: The url to track the job: http://bce6a116ae74:8088/proxy/application_1549005095618_0002/\n",
      "19/02/04 07:38:59 INFO mapreduce.Job: Running job: job_1549005095618_0002\n",
      "19/02/04 07:39:05 INFO mapreduce.Job: Job job_1549005095618_0002 running in uber mode : false\n",
      "19/02/04 07:39:05 INFO mapreduce.Job:  map 0% reduce 0%\n",
      "19/02/04 07:39:10 INFO mapreduce.Job:  map 100% reduce 0%\n",
      "19/02/04 07:39:15 INFO mapreduce.Job:  map 100% reduce 100%\n",
      "19/02/04 07:39:15 INFO mapreduce.Job: Job job_1549005095618_0002 completed successfully\n",
      "19/02/04 07:39:15 INFO mapreduce.Job: Counters: 50\n",
      "\tFile System Counters\n",
      "\t\tFILE: Number of bytes read=419\n",
      "\t\tFILE: Number of bytes written=419331\n",
      "\t\tFILE: Number of read operations=0\n",
      "\t\tFILE: Number of large read operations=0\n",
      "\t\tFILE: Number of write operations=0\n",
      "\t\tHDFS: Number of bytes read=1264\n",
      "\t\tHDFS: Number of bytes written=282\n",
      "\t\tHDFS: Number of read operations=9\n",
      "\t\tHDFS: Number of large read operations=0\n",
      "\t\tHDFS: Number of write operations=2\n",
      "\tJob Counters \n",
      "\t\tLaunched map tasks=2\n",
      "\t\tLaunched reduce tasks=1\n",
      "\t\tData-local map tasks=2\n",
      "\t\tTotal time spent by all maps in occupied slots (ms)=5560\n",
      "\t\tTotal time spent by all reduces in occupied slots (ms)=2384\n",
      "\t\tTotal time spent by all map tasks (ms)=5560\n",
      "\t\tTotal time spent by all reduce tasks (ms)=2384\n",
      "\t\tTotal vcore-milliseconds taken by all map tasks=5560\n",
      "\t\tTotal vcore-milliseconds taken by all reduce tasks=2384\n",
      "\t\tTotal megabyte-milliseconds taken by all map tasks=5693440\n",
      "\t\tTotal megabyte-milliseconds taken by all reduce tasks=2441216\n",
      "\tMap-Reduce Framework\n",
      "\t\tMap input records=36\n",
      "\t\tMap output records=36\n",
      "\t\tMap output bytes=341\n",
      "\t\tMap output materialized bytes=425\n",
      "\t\tInput split bytes=212\n",
      "\t\tCombine input records=0\n",
      "\t\tCombine output records=0\n",
      "\t\tReduce input groups=30\n",
      "\t\tReduce shuffle bytes=425\n",
      "\t\tReduce input records=36\n",
      "\t\tReduce output records=30\n",
      "\t\tSpilled Records=72\n",
      "\t\tShuffled Maps =2\n",
      "\t\tFailed Shuffles=0\n",
      "\t\tMerged Map outputs=2\n",
      "\t\tGC time elapsed (ms)=207\n",
      "\t\tCPU time spent (ms)=1470\n",
      "\t\tPhysical memory (bytes) snapshot=718856192\n",
      "\t\tVirtual memory (bytes) snapshot=5886177280\n",
      "\t\tTotal committed heap usage (bytes)=518520832\n",
      "\tIdf stats\n",
      "\t\tTotal words found=36\n",
      "\tShuffle Errors\n",
      "\t\tBAD_ID=0\n",
      "\t\tCONNECTION=0\n",
      "\t\tIO_ERROR=0\n",
      "\t\tWRONG_LENGTH=0\n",
      "\t\tWRONG_MAP=0\n",
      "\t\tWRONG_REDUCE=0\n",
      "\tFile Input Format Counters \n",
      "\t\tBytes Read=1052\n",
      "\tFile Output Format Counters \n",
      "\t\tBytes Written=282\n",
      "19/02/04 07:39:15 INFO streaming.StreamJob: Output directory: /data/wiki/test/idf-out\n"
     ]
    }
   ],
   "source": [
    "%%bash\n",
    "\n",
    "#OUT_DIR=\"wordcount_result_\"$(date +\"%s%6N\")\n",
    "OUT_DIR=\"/data/wiki/test/idf-out\"\n",
    "NUM_REDUCERS=1\n",
    "\n",
    "hdfs dfs -rm -r -skipTrash ${OUT_DIR} > /dev/null\n",
    "\n",
    "yarn jar /opt/cloudera/parcels/CDH/lib/hadoop-mapreduce/hadoop-streaming.jar \\\n",
    "    -D mapreduce.job.name=\"Tf-Idf idf task\" \\\n",
    "    -D mapreduce.job.reduces=${NUM_REDUCERS} \\\n",
    "    -files mapper-idf.py,reducer-idf.py \\\n",
    "    -mapper \"python mapper-idf.py\" \\\n",
    "    -reducer \"python reducer-idf.py\" \\\n",
    "    -input /data/wiki/test/tf-out \\\n",
    "    -output ${OUT_DIR} > /dev/null\n",
    "\n",
    "hdfs dfs -cat ${OUT_DIR}/* "
   ]
  },
  {
   "cell_type": "code",
   "execution_count": 11,
   "metadata": {},
   "outputs": [
    {
     "name": "stdout",
     "output_type": "stream",
     "text": [
      "Found 2 items\r\n",
      "-rw-r--r--   1 jovyan supergroup          0 2019-02-04 07:39 /data/wiki/test/idf-out/_SUCCESS\r\n",
      "-rw-r--r--   1 jovyan supergroup        282 2019-02-04 07:39 /data/wiki/test/idf-out/part-00000\r\n"
     ]
    }
   ],
   "source": [
    "!hdfs dfs -ls /data/wiki/test/idf-out"
   ]
  },
  {
   "cell_type": "code",
   "execution_count": 12,
   "metadata": {},
   "outputs": [
    {
     "name": "stdout",
     "output_type": "stream",
     "text": [
      "0\t1\r\n",
      "3\t1\r\n",
      "applications\t1\r\n",
      "article_ids\t1\r\n",
      "bash\t2\r\n",
      "behavior\t2\r\n",
      "code\t1\r\n",
      "congrayou\t2\r\n",
      "debugging\t1\r\n",
      "easily\t1\r\n",
      "emulate\t2\r\n",
      "emulating\t1\r\n",
      "greater\t1\r\n",
      "hadoop\t1\r\n",
      "hadoop's\t2\r\n",
      "hadoop’s\t1\r\n",
      "hint\t1\r\n",
      "job\t1\r\n",
      "know\t1\r\n",
      "locally\t1\r\n",
      "lot\t1\r\n",
      "mapper's\t1\r\n",
      "reducer's\t1\r\n",
      "safe\t1\r\n",
      "simple\t1\r\n",
      "stages\t1\r\n",
      "time\t1\r\n",
      "using\t2\r\n",
      "wikipedia\t1\r\n",
      "workflow\t1\r\n"
     ]
    }
   ],
   "source": [
    "!hdfs dfs -cat /data/wiki/test/idf-out/*"
   ]
  },
  {
   "cell_type": "code",
   "execution_count": 13,
   "metadata": {},
   "outputs": [],
   "source": [
    "!hdfs dfs -getmerge  /data/wiki/test/idf-out/* idf.csv"
   ]
  },
  {
   "cell_type": "code",
   "execution_count": 14,
   "metadata": {},
   "outputs": [
    {
     "name": "stdout",
     "output_type": "stream",
     "text": [
      "total 160\r\n",
      "-rw-r--r-- 1 jovyan users   282 Feb  4 07:57 idf.csv\r\n",
      "-rw-r--r-- 1 jovyan users   313 Feb  4 07:38 mapper-idf.py\r\n",
      "-rw-r--r-- 1 jovyan users  1239 Feb  4 07:35 mapper-tf.py\r\n",
      "-rw-r--r-- 1 jovyan root    868 May  2  2018 README.md\r\n",
      "-rw-r--r-- 1 jovyan users   431 Feb  4 07:38 reducer-idf.py\r\n",
      "-rw-r--r-- 1 jovyan users  1254 Feb  4 07:35 reducer-tf.py\r\n",
      "-rw-r--r-- 1 jovyan users 42127 Feb  1 07:12 StopWordsTask22.ipynb\r\n",
      "-rw-r--r-- 1 jovyan root  10072 Aug  1  2018 StopWordsTask2.ipynb\r\n",
      "-rw-r--r-- 1 root   users   758 Feb  1 07:11 supervisord.log\r\n",
      "-rw-r--r-- 1 root   users     2 Feb  1 07:11 supervisord.pid\r\n",
      "-rw-r--r-- 1 jovyan users 20628 Feb  4 07:40 tf-idf-assignment.ipynb\r\n",
      "-rw-r--r-- 1 jovyan users   479 Feb  4 07:31 wiki-test.txt\r\n",
      "-rw-r--r-- 1 jovyan root   9198 Feb  1 07:13 WordCountTask0.ipynb\r\n",
      "-rw-r--r-- 1 jovyan users 20838 Feb  1 08:54 WordsRatingTask11.ipynb\r\n",
      "-rw-r--r-- 1 jovyan root   5287 Feb  1 07:51 WordsRatingTask1.ipynb\r\n"
     ]
    }
   ],
   "source": [
    "! ls -l"
   ]
  },
  {
   "cell_type": "code",
   "execution_count": 15,
   "metadata": {},
   "outputs": [
    {
     "name": "stdout",
     "output_type": "stream",
     "text": [
      "0\t1\r\n",
      "3\t1\r\n",
      "applications\t1\r\n",
      "article_ids\t1\r\n",
      "bash\t2\r\n",
      "behavior\t2\r\n",
      "code\t1\r\n",
      "congrayou\t2\r\n",
      "debugging\t1\r\n",
      "easily\t1\r\n",
      "emulate\t2\r\n",
      "emulating\t1\r\n",
      "greater\t1\r\n",
      "hadoop\t1\r\n",
      "hadoop's\t2\r\n",
      "hadoop’s\t1\r\n",
      "hint\t1\r\n",
      "job\t1\r\n",
      "know\t1\r\n",
      "locally\t1\r\n",
      "lot\t1\r\n",
      "mapper's\t1\r\n",
      "reducer's\t1\r\n",
      "safe\t1\r\n",
      "simple\t1\r\n",
      "stages\t1\r\n",
      "time\t1\r\n",
      "using\t2\r\n",
      "wikipedia\t1\r\n",
      "workflow\t1\r\n"
     ]
    }
   ],
   "source": [
    "! cat idf.csv"
   ]
  },
  {
   "cell_type": "code",
   "execution_count": 21,
   "metadata": {},
   "outputs": [
    {
     "name": "stdout",
     "output_type": "stream",
     "text": [
      "Overwriting mapper-tf-idf.py\n"
     ]
    }
   ],
   "source": [
    "%%writefile mapper-tf-idf.py\n",
    "from __future__ import print_function\n",
    "import sys\n",
    "import re\n",
    "\n",
    "\n",
    "reload(sys)\n",
    "sys.setdefaultencoding('utf-8')  # required to convert to unicode\n",
    "\n",
    "path = 'idf.csv'\n",
    "\n",
    "idfWords = []\n",
    "\n",
    "with open(path) as idfWordsFile:\n",
    "    for line in idfWordsFile:\n",
    "        try:\n",
    "            word, v = line.split('\\t')\n",
    "            idf = int(v)\n",
    "            idfWords.append([unicode(word.strip()), idf])\n",
    "        except ValueError as e:\n",
    "            continue\n",
    "#print(idfWords)\n",
    "\n",
    "for line in sys.stdin:\n",
    "    try:\n",
    "        article_id, tfWord, v = unicode(line.strip()).split('\\t')\n",
    "        tf = float(v)\n",
    "    except ValueError as e:\n",
    "        continue\n",
    "\n",
    "    idfWord = next((w for w in idfWords if tfWord in w), [])\n",
    "\n",
    "    if len(idfWord) == 0:\n",
    "        print(\"reporter:counter:Wiki stats,Unfound tf into idf words,%d\" % 1, file=sys.stderr)\n",
    "        countinue\n",
    "    idf = idfWord[1]\n",
    "    print(\"reporter:counter:Wiki stats,tf*idf words,%d\" % 1, file=sys.stderr)\n",
    "    #print(tfWord, article_id, tf, idf, tf*idf, sep='\\t')\n",
    "    print(tfWord, article_id, tf*idf, sep='\\t')\n"
   ]
  },
  {
   "cell_type": "code",
   "execution_count": 22,
   "metadata": {},
   "outputs": [
    {
     "name": "stdout",
     "output_type": "stream",
     "text": [
      "reducer's\t17\t0.0625\n",
      "simple\t17\t0.0625\n",
      "using\t17\t0.125\n",
      "wikipedia\t17\t0.125\n",
      "applications\t23\t0.125\n",
      "bash\t23\t0.125\n",
      "congrayou\t23\t0.25\n",
      "debugging\t23\t0.125\n",
      "easily\t23\t0.0625\n",
      "emulating\t23\t0.0625\n",
      "hadoop’s\t23\t0.0625\n",
      "locally\t23\t0.0625\n",
      "lot\t23\t0.0625\n",
      "safe\t23\t0.0625\n",
      "time\t23\t0.0625\n",
      "using\t23\t0.125\n",
      "workflow\t23\t0.0625\n",
      "3\t10\t0.153846\n",
      "behavior\t10\t0.153846\n",
      "congrayou\t10\t0.153846\n",
      "emulate\t10\t0.153846\n",
      "hadoop\t10\t0.153846\n",
      "hadoop's\t10\t0.153846\n",
      "job\t10\t0.153846\n",
      "know\t10\t0.076923\n",
      "stages\t10\t0.153846\n",
      "0\t17\t0.0625\n",
      "article_ids\t17\t0.0625\n",
      "bash\t17\t0.125\n",
      "behavior\t17\t0.125\n",
      "code\t17\t0.0625\n",
      "emulate\t17\t0.125\n",
      "greater\t17\t0.0625\n",
      "hadoop's\t17\t0.125\n",
      "hint\t17\t0.125\n",
      "mapper's\t17\t0.0625\n"
     ]
    },
    {
     "name": "stderr",
     "output_type": "stream",
     "text": [
      "19/02/04 09:59:38 INFO client.RMProxy: Connecting to ResourceManager at /0.0.0.0:8032\n",
      "19/02/04 09:59:38 INFO client.RMProxy: Connecting to ResourceManager at /0.0.0.0:8032\n",
      "19/02/04 09:59:39 INFO mapred.FileInputFormat: Total input files to process : 1\n",
      "19/02/04 09:59:40 INFO mapreduce.JobSubmitter: number of splits:2\n",
      "19/02/04 09:59:40 INFO mapreduce.JobSubmitter: Submitting tokens for job: job_1549005095618_0006\n",
      "19/02/04 09:59:40 INFO impl.YarnClientImpl: Submitted application application_1549005095618_0006\n",
      "19/02/04 09:59:40 INFO mapreduce.Job: The url to track the job: http://bce6a116ae74:8088/proxy/application_1549005095618_0006/\n",
      "19/02/04 09:59:40 INFO mapreduce.Job: Running job: job_1549005095618_0006\n",
      "19/02/04 09:59:46 INFO mapreduce.Job: Job job_1549005095618_0006 running in uber mode : false\n",
      "19/02/04 09:59:46 INFO mapreduce.Job:  map 0% reduce 0%\n",
      "19/02/04 09:59:51 INFO mapreduce.Job:  map 50% reduce 0%\n",
      "19/02/04 09:59:52 INFO mapreduce.Job:  map 100% reduce 0%\n",
      "19/02/04 09:59:53 INFO mapreduce.Job: Job job_1549005095618_0006 completed successfully\n",
      "19/02/04 09:59:53 INFO mapreduce.Job: Counters: 31\n",
      "\tFile System Counters\n",
      "\t\tFILE: Number of bytes read=0\n",
      "\t\tFILE: Number of bytes written=278302\n",
      "\t\tFILE: Number of read operations=0\n",
      "\t\tFILE: Number of large read operations=0\n",
      "\t\tFILE: Number of write operations=0\n",
      "\t\tHDFS: Number of bytes read=1264\n",
      "\t\tHDFS: Number of bytes written=634\n",
      "\t\tHDFS: Number of read operations=10\n",
      "\t\tHDFS: Number of large read operations=0\n",
      "\t\tHDFS: Number of write operations=4\n",
      "\tJob Counters \n",
      "\t\tLaunched map tasks=2\n",
      "\t\tData-local map tasks=2\n",
      "\t\tTotal time spent by all maps in occupied slots (ms)=6360\n",
      "\t\tTotal time spent by all reduces in occupied slots (ms)=0\n",
      "\t\tTotal time spent by all map tasks (ms)=6360\n",
      "\t\tTotal vcore-milliseconds taken by all map tasks=6360\n",
      "\t\tTotal megabyte-milliseconds taken by all map tasks=6512640\n",
      "\tMap-Reduce Framework\n",
      "\t\tMap input records=36\n",
      "\t\tMap output records=36\n",
      "\t\tInput split bytes=212\n",
      "\t\tSpilled Records=0\n",
      "\t\tFailed Shuffles=0\n",
      "\t\tMerged Map outputs=0\n",
      "\t\tGC time elapsed (ms)=122\n",
      "\t\tCPU time spent (ms)=800\n",
      "\t\tPhysical memory (bytes) snapshot=334479360\n",
      "\t\tVirtual memory (bytes) snapshot=3922472960\n",
      "\t\tTotal committed heap usage (bytes)=218628096\n",
      "\tWiki stats\n",
      "\t\ttf*idf words=36\n",
      "\tFile Input Format Counters \n",
      "\t\tBytes Read=1052\n",
      "\tFile Output Format Counters \n",
      "\t\tBytes Written=634\n",
      "19/02/04 09:59:53 INFO streaming.StreamJob: Output directory: /data/wiki/test/tf-idf-out\n"
     ]
    }
   ],
   "source": [
    "%%bash\n",
    "\n",
    "#OUT_DIR=\"wordcount_result_\"$(date +\"%s%6N\")\n",
    "OUT_DIR=\"/data/wiki/test/tf-idf-out\"\n",
    "NUM_REDUCERS=0\n",
    "\n",
    "hdfs dfs -rm -r -skipTrash ${OUT_DIR} > /dev/null\n",
    "\n",
    "yarn jar /opt/cloudera/parcels/CDH/lib/hadoop-mapreduce/hadoop-streaming.jar \\\n",
    "    -D mapreduce.job.name=\"Tf-Idf tf*idf task\" \\\n",
    "    -D mapreduce.job.reduces=${NUM_REDUCERS} \\\n",
    "    -files mapper-tf-idf.py,idf.csv \\\n",
    "    -mapper \"python mapper-tf-idf.py\" \\\n",
    "    -input /data/wiki/test/tf-out \\\n",
    "    -output ${OUT_DIR} > /dev/null\n",
    "\n",
    "hdfs dfs -cat ${OUT_DIR}/* "
   ]
  },
  {
   "cell_type": "code",
   "execution_count": null,
   "metadata": {},
   "outputs": [],
   "source": []
  }
 ],
 "metadata": {
  "kernelspec": {
   "display_name": "Python 2",
   "language": "python",
   "name": "python2"
  },
  "language_info": {
   "codemirror_mode": {
    "name": "ipython",
    "version": 2
   },
   "file_extension": ".py",
   "mimetype": "text/x-python",
   "name": "python",
   "nbconvert_exporter": "python",
   "pygments_lexer": "ipython2",
   "version": "2.7.12"
  }
 },
 "nbformat": 4,
 "nbformat_minor": 2
}
