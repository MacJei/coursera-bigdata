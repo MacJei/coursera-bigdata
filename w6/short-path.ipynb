{
 "cells": [
  {
   "cell_type": "code",
   "execution_count": 1,
   "metadata": {},
   "outputs": [],
   "source": [
    "from pyspark import SparkConf, SparkContext\n",
    "sc = SparkContext(conf=SparkConf().setAppName(\"shortest path assignment\").setMaster(\"local\"))"
   ]
  },
  {
   "cell_type": "code",
   "execution_count": 2,
   "metadata": {},
   "outputs": [],
   "source": [
    "def parse_edge(s):\n",
    "  user, follower = s.split(\"\\t\")\n",
    "  return (int(user), int(follower))"
   ]
  },
  {
   "cell_type": "code",
   "execution_count": 3,
   "metadata": {},
   "outputs": [],
   "source": [
    "def myStep(item): \n",
    "    v, d, nv = item[0], item[1][0], item[1][1]; \n",
    "    path = d + (v,)\n",
    "    return (nv, (path), v)"
   ]
  },
  {
   "cell_type": "code",
   "execution_count": 8,
   "metadata": {},
   "outputs": [],
   "source": [
    "def findShortPath(nodes = None, src = None, dst = None, nIteration = 100):\n",
    "    \n",
    "    if nodes == None or src == None or dst == None or nIteration <= 0:\n",
    "        return (None, None)\n",
    "    \n",
    "    fwd_nodes = nodes.map(lambda e: (e[1], e[0])).persist() # swap\n",
    "    dist = sc.parallelize([(src,(0,))])\n",
    "    \n",
    "    while nIteration != 0:  \n",
    "        cand = dist.join(fwd_nodes).persist()\n",
    "        new_dist = cand.map(myStep).persist()\n",
    "        path = new_dist.lookup(dst)\n",
    "        if len(path) > 0:\n",
    "            #print path\n",
    "            break\n",
    "        dist = new_dist\n",
    "        nIteration -= 1\n",
    "        #print nIteration\n",
    "    shortPath = []\n",
    "    for p in path:\n",
    "        delSrc = p[1:]\n",
    "        shortPath.append(delSrc + (dst,))\n",
    "    return (nIteration, shortPath)"
   ]
  },
  {
   "cell_type": "code",
   "execution_count": 9,
   "metadata": {},
   "outputs": [],
   "source": [
    "edges = sc.textFile(\"/data/twitter/twitter_sample_small.txt\").map(parse_edge).cache()"
   ]
  },
  {
   "cell_type": "code",
   "execution_count": 10,
   "metadata": {},
   "outputs": [],
   "source": [
    "(nInteration, path) = findShortPath(edges, 12, 34, 11)"
   ]
  },
  {
   "cell_type": "code",
   "execution_count": 11,
   "metadata": {},
   "outputs": [
    {
     "name": "stdout",
     "output_type": "stream",
     "text": [
      "12,422,53,52,107,20,23,274,34\n"
     ]
    }
   ],
   "source": [
    "out = []\n",
    "for p in path[0]:\n",
    "    out.append(str(p))\n",
    "outCvs = \",\".join(out)\n",
    "print outCvs"
   ]
  }
 ],
 "metadata": {
  "kernelspec": {
   "display_name": "Python 2",
   "language": "python",
   "name": "python2"
  },
  "language_info": {
   "codemirror_mode": {
    "name": "ipython",
    "version": 2
   },
   "file_extension": ".py",
   "mimetype": "text/x-python",
   "name": "python",
   "nbconvert_exporter": "python",
   "pygments_lexer": "ipython2",
   "version": "2.7.12"
  }
 },
 "nbformat": 4,
 "nbformat_minor": 2
}
