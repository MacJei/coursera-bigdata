{
 "cells": [
  {
   "cell_type": "code",
   "execution_count": 1,
   "metadata": {},
   "outputs": [
    {
     "name": "stdout",
     "output_type": "stream",
     "text": [
      "Writing mapper-tf.py\n"
     ]
    }
   ],
   "source": [
    "%%writefile mapper-tf.py\n",
    "from __future__ import print_function\n",
    "import sys\n",
    "import re\n",
    "\n",
    "\n",
    "reload(sys)\n",
    "sys.setdefaultencoding('utf-8')  # required to convert to unicode\n",
    "\n",
    "path = 'stop_words_en.txt'\n",
    "\n",
    "stopWords = set()\n",
    "\n",
    "with open(path) as stopWordsFile:\n",
    "    for line in stopWordsFile:\n",
    "        try:         \n",
    "            stopWords.add(unicode(line.strip()))\n",
    "        except ValueError as e:\n",
    "            continue\n",
    "\n",
    "import string\n",
    "\n",
    "for line in sys.stdin:\n",
    "    try:\n",
    "        article_id, text = unicode(line.strip()).split('\\t', 1)\n",
    "    except ValueError as e:\n",
    "        continue\n",
    "\n",
    "    words = re.split(\"\\W*\\s+\\W*\", text.lower(), flags=re.UNICODE)\n",
    "    \n",
    "    wordsInArticle = 0\n",
    "    \n",
    "    for word in words:\n",
    "        word = word.strip(string.punctuation)\n",
    "        if word in stopWords:\n",
    "            print(\"reporter:counter:Wiki stats,Stop words found,%d\" % 1, file=sys.stderr)\n",
    "            continue\n",
    "        if word == \"\":\n",
    "            print(\"reporter:counter:Wiki stats,Null words found,%d\" % 1, file=sys.stderr)\n",
    "            continue\n",
    "        wordsInArticle += 1\n",
    "        print(\"reporter:counter:Wiki stats,Total words found,%d\" % 1, file=sys.stderr)\n",
    "        print(article_id, word.strip(string.punctuation), 1, sep='\\t')\n",
    "    print(article_id, \"!wordsInArticle\", wordsInArticle, sep='\\t')\n",
    "\n"
   ]
  },
  {
   "cell_type": "code",
   "execution_count": 2,
   "metadata": {},
   "outputs": [
    {
     "name": "stdout",
     "output_type": "stream",
     "text": [
      "Writing reducer-tf.py\n"
     ]
    }
   ],
   "source": [
    "%%writefile reducer-tf.py\n",
    "import sys\n",
    "\n",
    "\n",
    "reload(sys)\n",
    "sys.setdefaultencoding('utf-8')  # required to convert to unicode\n",
    "\n",
    "current_article_id = None\n",
    "current_word = None\n",
    "word_sum, wordsInArticle = 0, 0\n",
    "\n",
    "for line in sys.stdin:\n",
    "    try:\n",
    "        article_id, word, count = unicode(line.strip()).split('\\t')\n",
    "        #print \"after parse:\", article_id, word, count\n",
    "        if article_id == \"\" or word == \"\" or count == \"\":   # sanity check\n",
    "            continue\n",
    "        count = int(count)\n",
    "    except ValueError as e:\n",
    "        #print \"Parse error:\", e\n",
    "        continue\n",
    "\n",
    "    if current_article_id != article_id:\n",
    "        if current_word != None:\n",
    "            print \"%s\\t%s\\t%f\" % (current_article_id, current_word, 1.0*word_sum/wordsInArticle)\n",
    "            word_sum = 0\n",
    "            current_word = word\n",
    "        wordsInArticle = count  # first article string is always words in article count\n",
    "        current_article_id = article_id\n",
    "        #print \"wordsInArticle:\", word, wordsInArticle\n",
    "        continue\n",
    "        \n",
    "    if current_word != word :\n",
    "        if current_word != None and current_word != '!wordsInArticle': \n",
    "            print \"%s\\t%s\\t%f\" % (current_article_id, current_word, 1.0*word_sum/wordsInArticle)\n",
    "            #print \"%s\\t%s\\t%d\\t%d\" % (current_article_id, current_word, word_sum, wordsInArticle)\n",
    "        word_sum = 0\n",
    "        current_word = word\n",
    "    word_sum += count\n",
    "\n",
    "if current_article_id:\n",
    "    print \"%s\\t%s\\t%f\" % (current_article_id, word, 1.0*word_sum/wordsInArticle)\n"
   ]
  },
  {
   "cell_type": "code",
   "execution_count": 3,
   "metadata": {},
   "outputs": [],
   "source": [
    "!hdfs dfs -mkdir /data/wiki/test"
   ]
  },
  {
   "cell_type": "code",
   "execution_count": 4,
   "metadata": {},
   "outputs": [],
   "source": [
    "!hdfs dfs -mkdir /data/wiki/test/data"
   ]
  },
  {
   "cell_type": "code",
   "execution_count": 5,
   "metadata": {},
   "outputs": [],
   "source": [
    "!hdfs dfs -put wiki-test.txt /data/wiki/test/data"
   ]
  },
  {
   "cell_type": "code",
   "execution_count": 6,
   "metadata": {},
   "outputs": [
    {
     "name": "stdout",
     "output_type": "stream",
     "text": [
      "Found 1 items\r\n",
      "drwxr-xr-x   - jovyan supergroup          0 2019-02-06 08:57 /data/wiki/test/data\r\n"
     ]
    }
   ],
   "source": [
    "!hdfs dfs -ls /data/wiki/test"
   ]
  },
  {
   "cell_type": "code",
   "execution_count": 7,
   "metadata": {},
   "outputs": [
    {
     "name": "stdout",
     "output_type": "stream",
     "text": [
      "Found 1 items\r\n",
      "-rw-r--r--   1 jovyan supergroup        479 2019-02-06 08:57 /data/wiki/test/data/wiki-test.txt\r\n"
     ]
    }
   ],
   "source": [
    "!hdfs dfs -ls /data/wiki/test/data"
   ]
  },
  {
   "cell_type": "code",
   "execution_count": 8,
   "metadata": {
    "scrolled": false
   },
   "outputs": [
    {
     "name": "stdout",
     "output_type": "stream",
     "text": [
      "10\t3\t0.153846\n",
      "10\tbehavior\t0.076923\n",
      "10\tcongrayou\t0.076923\n",
      "10\temulate\t0.076923\n",
      "10\thadoop\t0.153846\n",
      "10\thadoop's\t0.076923\n",
      "10\tjob\t0.153846\n",
      "10\tknow\t0.076923\n",
      "10\tstages\t0.153846\n",
      "17\t0\t0.062500\n",
      "17\tarticle_ids\t0.062500\n",
      "17\tbash\t0.062500\n",
      "17\tbehavior\t0.062500\n",
      "17\tcode\t0.062500\n",
      "17\temulate\t0.062500\n",
      "17\tgreater\t0.062500\n",
      "17\thadoop's\t0.062500\n",
      "17\thint\t0.125000\n",
      "17\tmapper's\t0.062500\n",
      "17\treducer's\t0.062500\n",
      "17\tsimple\t0.062500\n",
      "17\tusing\t0.062500\n",
      "17\twikipedia\t0.125000\n",
      "23\tapplications\t0.125000\n",
      "23\tbash\t0.062500\n",
      "23\tcongrayou\t0.125000\n",
      "23\tdebugging\t0.125000\n",
      "23\teasily\t0.062500\n",
      "23\temulating\t0.062500\n",
      "23\thadoop’s\t0.062500\n",
      "23\tlocally\t0.062500\n",
      "23\tlot\t0.062500\n",
      "23\tsafe\t0.062500\n",
      "23\ttime\t0.062500\n",
      "23\tusing\t0.062500\n",
      "23\tworkflow\t0.062500\n"
     ]
    },
    {
     "name": "stderr",
     "output_type": "stream",
     "text": [
      "rm: `/data/wiki/test/tf-out': No such file or directory\n",
      "19/02/06 08:58:45 INFO client.RMProxy: Connecting to ResourceManager at /0.0.0.0:8032\n",
      "19/02/06 08:58:45 INFO client.RMProxy: Connecting to ResourceManager at /0.0.0.0:8032\n",
      "19/02/06 08:58:46 INFO mapred.FileInputFormat: Total input files to process : 1\n",
      "19/02/06 08:58:47 INFO mapreduce.JobSubmitter: number of splits:2\n",
      "19/02/06 08:58:47 INFO mapreduce.JobSubmitter: Submitting tokens for job: job_1549443035368_0001\n",
      "19/02/06 08:58:48 INFO impl.YarnClientImpl: Submitted application application_1549443035368_0001\n",
      "19/02/06 08:58:48 INFO mapreduce.Job: The url to track the job: http://427e53c98640:8088/proxy/application_1549443035368_0001/\n",
      "19/02/06 08:58:48 INFO mapreduce.Job: Running job: job_1549443035368_0001\n",
      "19/02/06 08:58:55 INFO mapreduce.Job: Job job_1549443035368_0001 running in uber mode : false\n",
      "19/02/06 08:58:55 INFO mapreduce.Job:  map 0% reduce 0%\n",
      "19/02/06 08:59:01 INFO mapreduce.Job:  map 100% reduce 0%\n",
      "19/02/06 08:59:07 INFO mapreduce.Job:  map 100% reduce 100%\n",
      "19/02/06 08:59:08 INFO mapreduce.Job: Job job_1549443035368_0001 completed successfully\n",
      "19/02/06 08:59:08 INFO mapreduce.Job: Counters: 51\n",
      "\tFile System Counters\n",
      "\t\tFILE: Number of bytes read=730\n",
      "\t\tFILE: Number of bytes written=423505\n",
      "\t\tFILE: Number of read operations=0\n",
      "\t\tFILE: Number of large read operations=0\n",
      "\t\tFILE: Number of write operations=0\n",
      "\t\tHDFS: Number of bytes read=933\n",
      "\t\tHDFS: Number of bytes written=701\n",
      "\t\tHDFS: Number of read operations=9\n",
      "\t\tHDFS: Number of large read operations=0\n",
      "\t\tHDFS: Number of write operations=2\n",
      "\tJob Counters \n",
      "\t\tLaunched map tasks=2\n",
      "\t\tLaunched reduce tasks=1\n",
      "\t\tData-local map tasks=2\n",
      "\t\tTotal time spent by all maps in occupied slots (ms)=7836\n",
      "\t\tTotal time spent by all reduces in occupied slots (ms)=2948\n",
      "\t\tTotal time spent by all map tasks (ms)=7836\n",
      "\t\tTotal time spent by all reduce tasks (ms)=2948\n",
      "\t\tTotal vcore-milliseconds taken by all map tasks=7836\n",
      "\t\tTotal vcore-milliseconds taken by all reduce tasks=2948\n",
      "\t\tTotal megabyte-milliseconds taken by all map tasks=8024064\n",
      "\t\tTotal megabyte-milliseconds taken by all reduce tasks=3018752\n",
      "\tMap-Reduce Framework\n",
      "\t\tMap input records=3\n",
      "\t\tMap output records=48\n",
      "\t\tMap output bytes=628\n",
      "\t\tMap output materialized bytes=736\n",
      "\t\tInput split bytes=214\n",
      "\t\tCombine input records=0\n",
      "\t\tCombine output records=0\n",
      "\t\tReduce input groups=39\n",
      "\t\tReduce shuffle bytes=736\n",
      "\t\tReduce input records=48\n",
      "\t\tReduce output records=36\n",
      "\t\tSpilled Records=96\n",
      "\t\tShuffled Maps =2\n",
      "\t\tFailed Shuffles=0\n",
      "\t\tMerged Map outputs=2\n",
      "\t\tGC time elapsed (ms)=187\n",
      "\t\tCPU time spent (ms)=1550\n",
      "\t\tPhysical memory (bytes) snapshot=712810496\n",
      "\t\tVirtual memory (bytes) snapshot=5882662912\n",
      "\t\tTotal committed heap usage (bytes)=506986496\n",
      "\tShuffle Errors\n",
      "\t\tBAD_ID=0\n",
      "\t\tCONNECTION=0\n",
      "\t\tIO_ERROR=0\n",
      "\t\tWRONG_LENGTH=0\n",
      "\t\tWRONG_MAP=0\n",
      "\t\tWRONG_REDUCE=0\n",
      "\tWiki stats\n",
      "\t\tStop words found=29\n",
      "\t\tTotal words found=45\n",
      "\tFile Input Format Counters \n",
      "\t\tBytes Read=719\n",
      "\tFile Output Format Counters \n",
      "\t\tBytes Written=701\n",
      "19/02/06 08:59:08 INFO streaming.StreamJob: Output directory: /data/wiki/test/tf-out\n"
     ]
    }
   ],
   "source": [
    "%%bash\n",
    "\n",
    "#OUT_DIR=\"wordcount_result_\"$(date +\"%s%6N\")\n",
    "OUT_DIR=\"/data/wiki/test/tf-out\"\n",
    "NUM_REDUCERS=1\n",
    "\n",
    "hdfs dfs -rm -r -skipTrash ${OUT_DIR} > /dev/null\n",
    "\n",
    "yarn jar /opt/cloudera/parcels/CDH/lib/hadoop-mapreduce/hadoop-streaming.jar \\\n",
    "    -D mapreduce.job.output.key.comparator.class=org.apache.hadoop.mapreduce.lib.partition.KeyFieldBasedComparator \\\n",
    "    -D mapreduce.job.output.key.partitioner.class=org.apache.hadoop.mapreduce.lib.partition.KeyFieldBasedPartitioner \\\n",
    "    -D mapreduce.job.name=\"Tf-Idf tf task\" \\\n",
    "    -D mapreduce.job.reduces=${NUM_REDUCERS} \\\n",
    "    -files mapper-tf.py,reducer-tf.py,/datasets/stop_words_en.txt  \\\n",
    "    -D stream.num.map.output.key.fields=2 \\\n",
    "    -D mapreduce.partition.keypartitioner.options=\"-k1,1\" \\\n",
    "    -D mapreduce.partition.keycomparator.options=\"-k1,2\" \\\n",
    "    -mapper \"python mapper-tf.py\" \\\n",
    "    -reducer \"python reducer-tf.py\" \\\n",
    "    -input /data/wiki/test/data \\\n",
    "    -output ${OUT_DIR} > /dev/null\n",
    "\n",
    "\n",
    "hdfs dfs -cat ${OUT_DIR}/* | head -100"
   ]
  },
  {
   "cell_type": "code",
   "execution_count": 9,
   "metadata": {},
   "outputs": [
    {
     "name": "stdout",
     "output_type": "stream",
     "text": [
      "Found 2 items\r\n",
      "-rw-r--r--   1 jovyan supergroup          0 2019-02-06 08:59 /data/wiki/test/tf-out/_SUCCESS\r\n",
      "-rw-r--r--   1 jovyan supergroup        701 2019-02-06 08:59 /data/wiki/test/tf-out/part-00000\r\n"
     ]
    }
   ],
   "source": [
    "! hdfs dfs -ls /data/wiki/test/tf-out"
   ]
  },
  {
   "cell_type": "code",
   "execution_count": 10,
   "metadata": {},
   "outputs": [
    {
     "name": "stdout",
     "output_type": "stream",
     "text": [
      "Writing mapper-idf.py\n"
     ]
    }
   ],
   "source": [
    "%%writefile mapper-idf.py\n",
    "from __future__ import print_function\n",
    "import sys\n",
    "\n",
    "reload(sys)\n",
    "sys.setdefaultencoding('utf-8')  # required to convert to unicode\n",
    "\n",
    "for line in sys.stdin:\n",
    "    _, word, _ = unicode(line.strip()).split('\\t')\n",
    "    print(\"reporter:counter:Idf stats,Total words found,%d\" % 1, file=sys.stderr)\n",
    "    print(word, 1, sep='\\t')\n"
   ]
  },
  {
   "cell_type": "code",
   "execution_count": 11,
   "metadata": {},
   "outputs": [
    {
     "name": "stdout",
     "output_type": "stream",
     "text": [
      "Writing reducer-idf.py\n"
     ]
    }
   ],
   "source": [
    "%%writefile reducer-idf.py\n",
    "import sys\n",
    "from math import log\n",
    "\n",
    "reload(sys)\n",
    "sys.setdefaultencoding('utf-8')  # required to convert to unicode\n",
    "\n",
    "current_key = None\n",
    "word_sum = 0\n",
    "for line in sys.stdin:\n",
    "    try:\n",
    "        key, count = unicode(line.strip()).split('\\t', 1)\n",
    "        if key == \"\" or count == \"\":    # sanity check\n",
    "            continue\n",
    "        count = int(count)\n",
    "    except ValueError as e:\n",
    "        continue\n",
    "    if current_key != key:\n",
    "        if current_key:\n",
    "            print \"%s\\t%f\" % (current_key, (1/log(1 + word_sum)))\n",
    "        word_sum = 0\n",
    "        current_key = key\n",
    "    word_sum += count\n",
    "\n",
    "if current_key:\n",
    "    print \"%s\\t%f\" % (current_key, (1/log(1 + word_sum)))"
   ]
  },
  {
   "cell_type": "code",
   "execution_count": 12,
   "metadata": {},
   "outputs": [
    {
     "name": "stdout",
     "output_type": "stream",
     "text": [
      "0\t1.442695\n",
      "3\t1.442695\n",
      "applications\t1.442695\n",
      "article_ids\t1.442695\n",
      "bash\t0.910239\n",
      "behavior\t0.910239\n",
      "code\t1.442695\n",
      "congrayou\t0.910239\n",
      "debugging\t1.442695\n",
      "easily\t1.442695\n",
      "emulate\t0.910239\n",
      "emulating\t1.442695\n",
      "greater\t1.442695\n",
      "hadoop\t1.442695\n",
      "hadoop's\t0.910239\n",
      "hadoop’s\t1.442695\n",
      "hint\t1.442695\n",
      "job\t1.442695\n",
      "know\t1.442695\n",
      "locally\t1.442695\n",
      "lot\t1.442695\n",
      "mapper's\t1.442695\n",
      "reducer's\t1.442695\n",
      "safe\t1.442695\n",
      "simple\t1.442695\n",
      "stages\t1.442695\n",
      "time\t1.442695\n",
      "using\t0.910239\n",
      "wikipedia\t1.442695\n",
      "workflow\t1.442695\n"
     ]
    },
    {
     "name": "stderr",
     "output_type": "stream",
     "text": [
      "rm: `/data/wiki/test/idf-out': No such file or directory\n",
      "19/02/06 09:01:07 INFO client.RMProxy: Connecting to ResourceManager at /0.0.0.0:8032\n",
      "19/02/06 09:01:07 INFO client.RMProxy: Connecting to ResourceManager at /0.0.0.0:8032\n",
      "19/02/06 09:01:09 INFO mapred.FileInputFormat: Total input files to process : 1\n",
      "19/02/06 09:01:09 INFO mapreduce.JobSubmitter: number of splits:2\n",
      "19/02/06 09:01:09 INFO mapreduce.JobSubmitter: Submitting tokens for job: job_1549443035368_0002\n",
      "19/02/06 09:01:09 INFO impl.YarnClientImpl: Submitted application application_1549443035368_0002\n",
      "19/02/06 09:01:09 INFO mapreduce.Job: The url to track the job: http://427e53c98640:8088/proxy/application_1549443035368_0002/\n",
      "19/02/06 09:01:09 INFO mapreduce.Job: Running job: job_1549443035368_0002\n",
      "19/02/06 09:01:14 INFO mapreduce.Job: Job job_1549443035368_0002 running in uber mode : false\n",
      "19/02/06 09:01:14 INFO mapreduce.Job:  map 0% reduce 0%\n",
      "19/02/06 09:01:20 INFO mapreduce.Job:  map 100% reduce 0%\n",
      "19/02/06 09:01:26 INFO mapreduce.Job:  map 100% reduce 100%\n",
      "19/02/06 09:01:27 INFO mapreduce.Job: Job job_1549443035368_0002 completed successfully\n",
      "19/02/06 09:01:27 INFO mapreduce.Job: Counters: 50\n",
      "\tFile System Counters\n",
      "\t\tFILE: Number of bytes read=419\n",
      "\t\tFILE: Number of bytes written=419331\n",
      "\t\tFILE: Number of read operations=0\n",
      "\t\tFILE: Number of large read operations=0\n",
      "\t\tFILE: Number of write operations=0\n",
      "\t\tHDFS: Number of bytes read=1264\n",
      "\t\tHDFS: Number of bytes written=492\n",
      "\t\tHDFS: Number of read operations=9\n",
      "\t\tHDFS: Number of large read operations=0\n",
      "\t\tHDFS: Number of write operations=2\n",
      "\tJob Counters \n",
      "\t\tLaunched map tasks=2\n",
      "\t\tLaunched reduce tasks=1\n",
      "\t\tData-local map tasks=2\n",
      "\t\tTotal time spent by all maps in occupied slots (ms)=5661\n",
      "\t\tTotal time spent by all reduces in occupied slots (ms)=2374\n",
      "\t\tTotal time spent by all map tasks (ms)=5661\n",
      "\t\tTotal time spent by all reduce tasks (ms)=2374\n",
      "\t\tTotal vcore-milliseconds taken by all map tasks=5661\n",
      "\t\tTotal vcore-milliseconds taken by all reduce tasks=2374\n",
      "\t\tTotal megabyte-milliseconds taken by all map tasks=5796864\n",
      "\t\tTotal megabyte-milliseconds taken by all reduce tasks=2430976\n",
      "\tMap-Reduce Framework\n",
      "\t\tMap input records=36\n",
      "\t\tMap output records=36\n",
      "\t\tMap output bytes=341\n",
      "\t\tMap output materialized bytes=425\n",
      "\t\tInput split bytes=212\n",
      "\t\tCombine input records=0\n",
      "\t\tCombine output records=0\n",
      "\t\tReduce input groups=30\n",
      "\t\tReduce shuffle bytes=425\n",
      "\t\tReduce input records=36\n",
      "\t\tReduce output records=30\n",
      "\t\tSpilled Records=72\n",
      "\t\tShuffled Maps =2\n",
      "\t\tFailed Shuffles=0\n",
      "\t\tMerged Map outputs=2\n",
      "\t\tGC time elapsed (ms)=194\n",
      "\t\tCPU time spent (ms)=1480\n",
      "\t\tPhysical memory (bytes) snapshot=719605760\n",
      "\t\tVirtual memory (bytes) snapshot=5886939136\n",
      "\t\tTotal committed heap usage (bytes)=513802240\n",
      "\tIdf stats\n",
      "\t\tTotal words found=36\n",
      "\tShuffle Errors\n",
      "\t\tBAD_ID=0\n",
      "\t\tCONNECTION=0\n",
      "\t\tIO_ERROR=0\n",
      "\t\tWRONG_LENGTH=0\n",
      "\t\tWRONG_MAP=0\n",
      "\t\tWRONG_REDUCE=0\n",
      "\tFile Input Format Counters \n",
      "\t\tBytes Read=1052\n",
      "\tFile Output Format Counters \n",
      "\t\tBytes Written=492\n",
      "19/02/06 09:01:27 INFO streaming.StreamJob: Output directory: /data/wiki/test/idf-out\n"
     ]
    }
   ],
   "source": [
    "%%bash\n",
    "\n",
    "#OUT_DIR=\"wordcount_result_\"$(date +\"%s%6N\")\n",
    "OUT_DIR=\"/data/wiki/test/idf-out\"\n",
    "NUM_REDUCERS=1\n",
    "\n",
    "hdfs dfs -rm -r -skipTrash ${OUT_DIR} > /dev/null\n",
    "\n",
    "yarn jar /opt/cloudera/parcels/CDH/lib/hadoop-mapreduce/hadoop-streaming.jar \\\n",
    "    -D mapreduce.job.name=\"Tf-Idf idf task\" \\\n",
    "    -D mapreduce.job.reduces=${NUM_REDUCERS} \\\n",
    "    -files mapper-idf.py,reducer-idf.py \\\n",
    "    -mapper \"python mapper-idf.py\" \\\n",
    "    -reducer \"python reducer-idf.py\" \\\n",
    "    -input /data/wiki/test/tf-out \\\n",
    "    -output ${OUT_DIR} > /dev/null\n",
    "\n",
    "hdfs dfs -cat ${OUT_DIR}/* "
   ]
  },
  {
   "cell_type": "code",
   "execution_count": 13,
   "metadata": {},
   "outputs": [
    {
     "name": "stdout",
     "output_type": "stream",
     "text": [
      "Found 2 items\r\n",
      "-rw-r--r--   1 jovyan supergroup          0 2019-02-06 09:01 /data/wiki/test/idf-out/_SUCCESS\r\n",
      "-rw-r--r--   1 jovyan supergroup        492 2019-02-06 09:01 /data/wiki/test/idf-out/part-00000\r\n"
     ]
    }
   ],
   "source": [
    "!hdfs dfs -ls /data/wiki/test/idf-out"
   ]
  },
  {
   "cell_type": "code",
   "execution_count": 14,
   "metadata": {},
   "outputs": [
    {
     "name": "stdout",
     "output_type": "stream",
     "text": [
      "Writing mapper-tf-idf.py\n"
     ]
    }
   ],
   "source": [
    "%%writefile mapper-tf-idf.py\n",
    "from __future__ import print_function\n",
    "import sys\n",
    "\n",
    "\n",
    "reload(sys)\n",
    "sys.setdefaultencoding('utf-8')  # required to convert to unicode\n",
    "\n",
    "\n",
    "for line in sys.stdin:\n",
    "    inVal = unicode(line.strip()).split('\\t')\n",
    "    inValLen = len(inVal)\n",
    "    #print(inValLen, inVal)\n",
    "    try:\n",
    "        if inValLen == 2: # idf data\n",
    "            print(\"reporter:counter:Wiki stats,idf words,%d\" % 1, file=sys.stderr)\n",
    "            print(inVal[0], \"idf\", float(inVal[1]), sep='\\t')\n",
    "        elif inValLen == 3: # tf data\n",
    "            print(\"reporter:counter:Wiki stats,tf words,%d\" % 1, file=sys.stderr)\n",
    "            print(inVal[1], \"tf\", inVal[0], float(inVal[2]), sep='\\t')\n",
    "        else:\n",
    "            print(\"reporter:counter:Wiki stats,tf idf parsing errors,%d\" % 1, file=sys.stderr)\n",
    "    except ValueError as e:\n",
    "        print(\"reporter:counter:Wiki stats,tf idf to float errors,%d\" % 1, file=sys.stderr)\n"
   ]
  },
  {
   "cell_type": "code",
   "execution_count": 15,
   "metadata": {},
   "outputs": [
    {
     "name": "stdout",
     "output_type": "stream",
     "text": [
      "Writing reducer-tf-idf.py\n"
     ]
    }
   ],
   "source": [
    "%%writefile reducer-tf-idf.py\n",
    "import sys\n",
    "from math import log\n",
    "\n",
    "\n",
    "reload(sys)\n",
    "sys.setdefaultencoding('utf-8')  # required to convert to unicode\n",
    "\n",
    "for line in sys.stdin:\n",
    "    inVal = unicode(line.strip()).split('\\t')\n",
    "    if len(inVal) < 3 or inVal[0] == \"\" or inVal[1] == \"\" or inVal[2] == \"\":      # sanity check\n",
    "        continue\n",
    "    try:\n",
    "        if inVal[1] == 'idf':\n",
    "            idfWord, _, idfDt = inVal\n",
    "            idfWord = idfWord\n",
    "            idfDt = float(idfDt)\n",
    "            continue\n",
    "        elif inVal[1] == 'tf':\n",
    "            tfWord, _, article_id, tfNt = inVal\n",
    "            tfWord = tfWord\n",
    "            tfNt = float(tfNt)\n",
    "        else:\n",
    "            continue\n",
    "    except ValueError as e:\n",
    "        continue\n",
    "    if idfWord == tfWord:\n",
    "        print \"%s\\t%s\\t%f\" % (idfWord, article_id, tfNt*idfDt)\n"
   ]
  },
  {
   "cell_type": "code",
   "execution_count": 16,
   "metadata": {},
   "outputs": [
    {
     "name": "stdout",
     "output_type": "stream",
     "text": [
      "0\t17\t0.090168\n",
      "3\t10\t0.221953\n",
      "applications\t23\t0.180337\n",
      "article_ids\t17\t0.090168\n",
      "bash\t17\t0.056890\n",
      "bash\t23\t0.056890\n",
      "behavior\t17\t0.056890\n",
      "behavior\t10\t0.070018\n",
      "code\t17\t0.090168\n",
      "congrayou\t10\t0.070018\n",
      "congrayou\t23\t0.113780\n",
      "debugging\t23\t0.180337\n",
      "easily\t23\t0.090168\n",
      "emulate\t10\t0.070018\n",
      "emulate\t17\t0.056890\n",
      "emulating\t23\t0.090168\n",
      "greater\t17\t0.090168\n",
      "hadoop\t10\t0.221953\n",
      "hadoop's\t17\t0.056890\n",
      "hadoop's\t10\t0.070018\n",
      "hadoop’s\t23\t0.090168\n",
      "hint\t17\t0.180337\n",
      "job\t10\t0.221953\n",
      "know\t10\t0.110976\n",
      "locally\t23\t0.090168\n",
      "lot\t23\t0.090168\n",
      "mapper's\t17\t0.090168\n",
      "reducer's\t17\t0.090168\n",
      "safe\t23\t0.090168\n",
      "simple\t17\t0.090168\n",
      "stages\t10\t0.221953\n",
      "time\t23\t0.090168\n",
      "using\t23\t0.056890\n",
      "using\t17\t0.056890\n",
      "wikipedia\t17\t0.180337\n",
      "workflow\t23\t0.090168\n"
     ]
    },
    {
     "name": "stderr",
     "output_type": "stream",
     "text": [
      "rm: `/data/wiki/test/tf-idf-out': No such file or directory\n",
      "19/02/06 09:03:36 INFO client.RMProxy: Connecting to ResourceManager at /0.0.0.0:8032\n",
      "19/02/06 09:03:36 INFO client.RMProxy: Connecting to ResourceManager at /0.0.0.0:8032\n",
      "19/02/06 09:03:38 INFO mapred.FileInputFormat: Total input files to process : 2\n",
      "19/02/06 09:03:38 INFO mapreduce.JobSubmitter: number of splits:3\n",
      "19/02/06 09:03:38 INFO mapreduce.JobSubmitter: Submitting tokens for job: job_1549443035368_0003\n",
      "19/02/06 09:03:39 INFO impl.YarnClientImpl: Submitted application application_1549443035368_0003\n",
      "19/02/06 09:03:39 INFO mapreduce.Job: The url to track the job: http://427e53c98640:8088/proxy/application_1549443035368_0003/\n",
      "19/02/06 09:03:39 INFO mapreduce.Job: Running job: job_1549443035368_0003\n",
      "19/02/06 09:03:45 INFO mapreduce.Job: Job job_1549443035368_0003 running in uber mode : false\n",
      "19/02/06 09:03:45 INFO mapreduce.Job:  map 0% reduce 0%\n",
      "19/02/06 09:03:51 INFO mapreduce.Job:  map 100% reduce 0%\n",
      "19/02/06 09:03:58 INFO mapreduce.Job:  map 100% reduce 100%\n",
      "19/02/06 09:03:59 INFO mapreduce.Job: Job job_1549443035368_0003 completed successfully\n",
      "19/02/06 09:03:59 INFO mapreduce.Job: Counters: 52\n",
      "\tFile System Counters\n",
      "\t\tFILE: Number of bytes read=1500\n",
      "\t\tFILE: Number of bytes written=564257\n",
      "\t\tFILE: Number of read operations=0\n",
      "\t\tFILE: Number of large read operations=0\n",
      "\t\tFILE: Number of write operations=0\n",
      "\t\tHDFS: Number of bytes read=1617\n",
      "\t\tHDFS: Number of bytes written=701\n",
      "\t\tHDFS: Number of read operations=12\n",
      "\t\tHDFS: Number of large read operations=0\n",
      "\t\tHDFS: Number of write operations=2\n",
      "\tJob Counters \n",
      "\t\tKilled map tasks=1\n",
      "\t\tLaunched map tasks=3\n",
      "\t\tLaunched reduce tasks=1\n",
      "\t\tData-local map tasks=3\n",
      "\t\tTotal time spent by all maps in occupied slots (ms)=13174\n",
      "\t\tTotal time spent by all reduces in occupied slots (ms)=4501\n",
      "\t\tTotal time spent by all map tasks (ms)=13174\n",
      "\t\tTotal time spent by all reduce tasks (ms)=4501\n",
      "\t\tTotal vcore-milliseconds taken by all map tasks=13174\n",
      "\t\tTotal vcore-milliseconds taken by all reduce tasks=4501\n",
      "\t\tTotal megabyte-milliseconds taken by all map tasks=13490176\n",
      "\t\tTotal megabyte-milliseconds taken by all reduce tasks=4609024\n",
      "\tMap-Reduce Framework\n",
      "\t\tMap input records=66\n",
      "\t\tMap output records=66\n",
      "\t\tMap output bytes=1362\n",
      "\t\tMap output materialized bytes=1512\n",
      "\t\tInput split bytes=319\n",
      "\t\tCombine input records=0\n",
      "\t\tCombine output records=0\n",
      "\t\tReduce input groups=60\n",
      "\t\tReduce shuffle bytes=1512\n",
      "\t\tReduce input records=66\n",
      "\t\tReduce output records=36\n",
      "\t\tSpilled Records=132\n",
      "\t\tShuffled Maps =3\n",
      "\t\tFailed Shuffles=0\n",
      "\t\tMerged Map outputs=3\n",
      "\t\tGC time elapsed (ms)=356\n",
      "\t\tCPU time spent (ms)=2000\n",
      "\t\tPhysical memory (bytes) snapshot=980488192\n",
      "\t\tVirtual memory (bytes) snapshot=7849054208\n",
      "\t\tTotal committed heap usage (bytes)=707264512\n",
      "\tShuffle Errors\n",
      "\t\tBAD_ID=0\n",
      "\t\tCONNECTION=0\n",
      "\t\tIO_ERROR=0\n",
      "\t\tWRONG_LENGTH=0\n",
      "\t\tWRONG_MAP=0\n",
      "\t\tWRONG_REDUCE=0\n",
      "\tWiki stats\n",
      "\t\tidf words=30\n",
      "\t\ttf words=36\n",
      "\tFile Input Format Counters \n",
      "\t\tBytes Read=1298\n",
      "\tFile Output Format Counters \n",
      "\t\tBytes Written=701\n",
      "19/02/06 09:03:59 INFO streaming.StreamJob: Output directory: /data/wiki/test/tf-idf-out\n"
     ]
    }
   ],
   "source": [
    "%%bash\n",
    "\n",
    "#OUT_DIR=\"wordcount_result_\"$(date +\"%s%6N\")\n",
    "OUT_DIR=\"/data/wiki/test/tf-idf-out\"\n",
    "NUM_REDUCERS=1\n",
    "\n",
    "hdfs dfs -rm -r -skipTrash ${OUT_DIR} > /dev/null\n",
    "\n",
    "yarn jar /opt/cloudera/parcels/CDH/lib/hadoop-mapreduce/hadoop-streaming.jar \\\n",
    "    -D mapreduce.job.output.key.comparator.class=org.apache.hadoop.mapreduce.lib.partition.KeyFieldBasedComparator \\\n",
    "    -D mapreduce.job.output.key.partitioner.class=org.apache.hadoop.mapreduce.lib.partition.KeyFieldBasedPartitioner \\\n",
    "    -D mapreduce.job.name=\"Tf-Idf tf*idf task\" \\\n",
    "    -D mapreduce.job.reduces=${NUM_REDUCERS} \\\n",
    "    -files mapper-tf-idf.py,reducer-tf-idf.py \\\n",
    "    -D mapreduce.partition.keypartitioner.options=\"-k1,1\" \\\n",
    "    -D stream.num.map.output.key.fields=2 \\\n",
    "    -mapper \"python mapper-tf-idf.py\" \\\n",
    "    -reducer \"python reducer-tf-idf.py\" \\\n",
    "    -input /data/wiki/test/tf-out,/data/wiki/test/idf-out \\\n",
    "    -output ${OUT_DIR} > /dev/null\n",
    "\n",
    "hdfs dfs -cat ${OUT_DIR}/* "
   ]
  },
  {
   "cell_type": "code",
   "execution_count": 19,
   "metadata": {},
   "outputs": [
    {
     "name": "stdout",
     "output_type": "stream",
     "text": [
      "Found 4 items\n",
      "-rw-r--r--   1 jovyan supergroup          0 2019-02-05 07:24 /data/wiki/test/tf-idf-out/_SUCCESS\n",
      "-rw-r--r--   1 jovyan supergroup       1086 2019-02-05 07:24 /data/wiki/test/tf-idf-out/part-00000\n",
      "-rw-r--r--   1 jovyan supergroup        861 2019-02-05 07:24 /data/wiki/test/tf-idf-out/part-00001\n",
      "-rw-r--r--   1 jovyan supergroup        164 2019-02-05 07:24 /data/wiki/test/tf-idf-out/part-00002\n"
     ]
    }
   ],
   "source": [
    "!hdfs dfs -ls /data/wiki/test/tf-idf-out"
   ]
  },
  {
   "cell_type": "code",
   "execution_count": 17,
   "metadata": {},
   "outputs": [
    {
     "name": "stdout",
     "output_type": "stream",
     "text": [
      "0\t17\t0.090168\r\n",
      "3\t10\t0.221953\r\n",
      "applications\t23\t0.180337\r\n",
      "article_ids\t17\t0.090168\r\n",
      "bash\t17\t0.056890\r\n",
      "bash\t23\t0.056890\r\n",
      "behavior\t17\t0.056890\r\n",
      "behavior\t10\t0.070018\r\n",
      "code\t17\t0.090168\r\n",
      "congrayou\t10\t0.070018\r\n",
      "congrayou\t23\t0.113780\r\n",
      "debugging\t23\t0.180337\r\n",
      "easily\t23\t0.090168\r\n",
      "emulate\t10\t0.070018\r\n",
      "emulate\t17\t0.056890\r\n",
      "emulating\t23\t0.090168\r\n",
      "greater\t17\t0.090168\r\n",
      "hadoop\t10\t0.221953\r\n",
      "hadoop's\t17\t0.056890\r\n",
      "hadoop's\t10\t0.070018\r\n",
      "hadoop’s\t23\t0.090168\r\n",
      "hint\t17\t0.180337\r\n",
      "job\t10\t0.221953\r\n",
      "know\t10\t0.110976\r\n",
      "locally\t23\t0.090168\r\n",
      "lot\t23\t0.090168\r\n",
      "mapper's\t17\t0.090168\r\n",
      "reducer's\t17\t0.090168\r\n",
      "safe\t23\t0.090168\r\n",
      "simple\t17\t0.090168\r\n",
      "stages\t10\t0.221953\r\n",
      "time\t23\t0.090168\r\n",
      "using\t23\t0.056890\r\n",
      "using\t17\t0.056890\r\n",
      "wikipedia\t17\t0.180337\r\n",
      "workflow\t23\t0.090168\r\n"
     ]
    }
   ],
   "source": [
    "!hdfs dfs -cat /data/wiki/test/tf-idf-out/part-00000"
   ]
  },
  {
   "cell_type": "code",
   "execution_count": null,
   "metadata": {},
   "outputs": [],
   "source": []
  }
 ],
 "metadata": {
  "kernelspec": {
   "display_name": "Python 2",
   "language": "python",
   "name": "python2"
  },
  "language_info": {
   "codemirror_mode": {
    "name": "ipython",
    "version": 2
   },
   "file_extension": ".py",
   "mimetype": "text/x-python",
   "name": "python",
   "nbconvert_exporter": "python",
   "pygments_lexer": "ipython2",
   "version": "2.7.12"
  }
 },
 "nbformat": 4,
 "nbformat_minor": 2
}
